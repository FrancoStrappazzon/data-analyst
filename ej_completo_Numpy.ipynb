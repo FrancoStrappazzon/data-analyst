{
 "cells": [
  {
   "cell_type": "code",
   "execution_count": 1,
   "id": "ce970ffc-3ee7-4af6-92d6-e46903bde518",
   "metadata": {},
   "outputs": [],
   "source": [
    "#hago un ejercicio completo del archivo loan-csv"
   ]
  },
  {
   "cell_type": "code",
   "execution_count": 2,
   "id": "460304e3-b03d-4e01-9609-71cdbe8c5c1e",
   "metadata": {},
   "outputs": [],
   "source": [
    "import numpy as np"
   ]
  },
  {
   "cell_type": "code",
   "execution_count": 3,
   "id": "186a68ce-75b0-4c3c-a112-294e74a7ae8e",
   "metadata": {},
   "outputs": [],
   "source": [
    "#mejoro la forma en la que veo los archivos\n",
    "np.set_printoptions(suppress= True, linewidth=100, precision=2)\n",
    "#evita notacion cientifica, 100 caracteres en una linea, 2 digitos decimales"
   ]
  },
  {
   "cell_type": "code",
   "execution_count": 4,
   "id": "b3592f53-cc14-4acd-a723-762764e80b1c",
   "metadata": {},
   "outputs": [],
   "source": [
    "#Importo los datos"
   ]
  },
  {
   "cell_type": "code",
   "execution_count": 5,
   "id": "dd087264-c131-47e8-9e49-dd4b7ed0c298",
   "metadata": {},
   "outputs": [
    {
     "data": {
      "text/plain": [
       "array([[        nan,         nan,         nan, ...,         nan,         nan,         nan],\n",
       "       [48010226.  ,         nan,    35000.  , ...,         nan,         nan,     9452.96],\n",
       "       [57693261.  ,         nan,    30000.  , ...,         nan,         nan,     4679.7 ],\n",
       "       ...,\n",
       "       [50415990.  ,         nan,    10000.  , ...,         nan,         nan,     2185.64],\n",
       "       [46154151.  ,         nan,         nan, ...,         nan,         nan,     3199.4 ],\n",
       "       [66055249.  ,         nan,    10000.  , ...,         nan,         nan,      301.9 ]])"
      ]
     },
     "execution_count": 5,
     "metadata": {},
     "output_type": "execute_result"
    }
   ],
   "source": [
    "#pruebo con loadtxt() a ver si tira error es que tiene datos faltantes. Tiro error por lo que uso genfromtxt()\n",
    "row_data_np = np.genfromtxt('E:\\FRANCO\\Curso Data Analyst\\S28 - A Loan Data Example with NumPy\\loan-data.csv',\n",
    "                         delimiter=';')\n",
    "row_data_np"
   ]
  },
  {
   "cell_type": "code",
   "execution_count": 6,
   "id": "9accc491-e638-482c-a3e2-6685b0519b53",
   "metadata": {},
   "outputs": [],
   "source": [
    "#Chequeando la data imcompleta"
   ]
  },
  {
   "cell_type": "code",
   "execution_count": 7,
   "id": "2e21b064-f196-4b74-90a7-13660a1ed562",
   "metadata": {},
   "outputs": [
    {
     "data": {
      "text/plain": [
       "88019"
      ]
     },
     "execution_count": 7,
     "metadata": {},
     "output_type": "execute_result"
    }
   ],
   "source": [
    "np.isnan(row_data_np).sum()"
   ]
  },
  {
   "cell_type": "code",
   "execution_count": 8,
   "id": "bdf6d3dd-8174-4fe7-b7ad-bd2c7484ab67",
   "metadata": {},
   "outputs": [
    {
     "name": "stderr",
     "output_type": "stream",
     "text": [
      "C:\\Users\\franc\\AppData\\Local\\Temp\\ipykernel_3828\\1099272035.py:2: RuntimeWarning: Mean of empty slice\n",
      "  temporary_mean = np.nanmean(row_data_np, axis=0)  #promedio de cada columna\n"
     ]
    }
   ],
   "source": [
    "temporary_fill = np.nanmax(row_data_np) +1 #valor mas grande que el maximo\n",
    "temporary_mean = np.nanmean(row_data_np, axis=0)  #promedio de cada columna"
   ]
  },
  {
   "cell_type": "code",
   "execution_count": 9,
   "id": "bc3876a0-9b1d-4b6c-8162-547688758261",
   "metadata": {},
   "outputs": [
    {
     "data": {
      "text/plain": [
       "array([54015809.19,         nan,    15273.46,         nan,    15311.04,         nan,       16.62,\n",
       "            440.92,         nan,         nan,         nan,         nan,         nan,     3143.85])"
      ]
     },
     "execution_count": 9,
     "metadata": {},
     "output_type": "execute_result"
    }
   ],
   "source": [
    "temporary_mean #veo que hay varias columnas con valores faltantes o que son de tipo string"
   ]
  },
  {
   "cell_type": "code",
   "execution_count": 10,
   "id": "90cdd5f7-4948-409c-80d6-1c198b1f97f5",
   "metadata": {},
   "outputs": [
    {
     "name": "stderr",
     "output_type": "stream",
     "text": [
      "C:\\Users\\franc\\AppData\\Local\\Temp\\ipykernel_3828\\874137032.py:2: RuntimeWarning: All-NaN slice encountered\n",
      "  temporary_stats = np.array([np.nanmin(row_data_np, axis=0),\n",
      "C:\\Users\\franc\\AppData\\Local\\Temp\\ipykernel_3828\\874137032.py:4: RuntimeWarning: All-NaN slice encountered\n",
      "  np.nanmax(row_data_np, axis=0)])\n"
     ]
    }
   ],
   "source": [
    "#guardo estos valores auxiliares para luego usarlos. Tira advertencia por que toma como columnas vacias a las que son solo strings\n",
    "temporary_stats = np.array([np.nanmin(row_data_np, axis=0),\n",
    "                            temporary_mean,\n",
    "                            np.nanmax(row_data_np, axis=0)])"
   ]
  },
  {
   "cell_type": "code",
   "execution_count": 11,
   "id": "46f75b45-69da-4ab9-94cd-f03ad3ddc94e",
   "metadata": {},
   "outputs": [
    {
     "data": {
      "text/plain": [
       "array([[  373332.  ,         nan,     1000.  ,         nan,     1000.  ,         nan,        6.  ,\n",
       "              31.42,         nan,         nan,         nan,         nan,         nan,        0.  ],\n",
       "       [54015809.19,         nan,    15273.46,         nan,    15311.04,         nan,       16.62,\n",
       "             440.92,         nan,         nan,         nan,         nan,         nan,     3143.85],\n",
       "       [68616519.  ,         nan,    35000.  ,         nan,    35000.  ,         nan,       28.99,\n",
       "            1372.97,         nan,         nan,         nan,         nan,         nan,    41913.62]])"
      ]
     },
     "execution_count": 11,
     "metadata": {},
     "output_type": "execute_result"
    }
   ],
   "source": [
    "temporary_stats"
   ]
  },
  {
   "cell_type": "markdown",
   "id": "bcc3e1ca-760d-4024-bdcc-38a16502a2fa",
   "metadata": {},
   "source": [
    "        Splitting dataset"
   ]
  },
  {
   "cell_type": "code",
   "execution_count": 12,
   "id": "f442ab5c-3efc-4ed6-a169-062d27f8e54a",
   "metadata": {},
   "outputs": [],
   "source": [
    "#Splitting (dividiendo) las columnas. Separo las que sean string y las que sean numeros"
   ]
  },
  {
   "cell_type": "code",
   "execution_count": 13,
   "id": "46c9f4f4-e07c-464b-9d07-b96a4a6a1b2d",
   "metadata": {},
   "outputs": [
    {
     "data": {
      "text/plain": [
       "array([ 1,  3,  5,  8,  9, 10, 11, 12], dtype=int64)"
      ]
     },
     "execution_count": 13,
     "metadata": {},
     "output_type": "execute_result"
    }
   ],
   "source": [
    "#argwhere por defecto comprueba si los valores son !=0 .Si la columna contiene solo texto, su media es nan, entonces isnan da True.\n",
    "#luego devuelve el indice de esa columna en el dataset original\n",
    "columns_strings = np.argwhere(np.isnan(temporary_mean)).squeeze() #uso squeeze() por que da un arreglo 2D y quiero 1D\n",
    "columns_strings"
   ]
  },
  {
   "cell_type": "code",
   "execution_count": 14,
   "id": "5e40bcc8-6da3-4163-bdff-9b91e7705fca",
   "metadata": {},
   "outputs": [
    {
     "data": {
      "text/plain": [
       "array([ 0,  2,  4,  6,  7, 13], dtype=int64)"
      ]
     },
     "execution_count": 14,
     "metadata": {},
     "output_type": "execute_result"
    }
   ],
   "source": [
    "#ahora para ver las columnas que contienen valores numericos\n",
    "columns_numeric = np.argwhere(np.isnan(temporary_mean) == False).squeeze() #uso squeeze() por que da un arreglo 2D y quiero 1D\n",
    "columns_numeric"
   ]
  },
  {
   "cell_type": "markdown",
   "id": "95318397-a7ed-490c-91e2-d452ea6a316e",
   "metadata": {},
   "source": [
    "    Reimporto el dataset como 2 distintos"
   ]
  },
  {
   "cell_type": "code",
   "execution_count": 15,
   "id": "dc97d8b3-9d29-4598-a73f-dbcdb4e6da9a",
   "metadata": {},
   "outputs": [
    {
     "data": {
      "text/plain": [
       "array([['May-15', 'Current', '36 months', ..., 'Verified',\n",
       "        'https://www.lendingclub.com/browse/loanDetail.action?loan_id=48010226', 'CA'],\n",
       "       ['', 'Current', '36 months', ..., 'Source Verified',\n",
       "        'https://www.lendingclub.com/browse/loanDetail.action?loan_id=57693261', 'NY'],\n",
       "       ['Sep-15', 'Current', '36 months', ..., 'Verified',\n",
       "        'https://www.lendingclub.com/browse/loanDetail.action?loan_id=59432726', 'PA'],\n",
       "       ...,\n",
       "       ['Jun-15', 'Current', '36 months', ..., 'Source Verified',\n",
       "        'https://www.lendingclub.com/browse/loanDetail.action?loan_id=50415990', 'CA'],\n",
       "       ['Apr-15', 'Current', '36 months', ..., 'Source Verified',\n",
       "        'https://www.lendingclub.com/browse/loanDetail.action?loan_id=46154151', 'OH'],\n",
       "       ['Dec-15', 'Current', '36 months', ..., '',\n",
       "        'https://www.lendingclub.com/browse/loanDetail.action?loan_id=66055249', 'IL']],\n",
       "      dtype='<U69')"
      ]
     },
     "execution_count": 15,
     "metadata": {},
     "output_type": "execute_result"
    }
   ],
   "source": [
    "#creo un dataset para solo las columnas con datos strings\n",
    "loan_data_strings = np.genfromtxt('E:\\FRANCO\\Curso Data Analyst\\S28 - A Loan Data Example with NumPy\\loan-data.csv',\n",
    "                         delimiter=';',\n",
    "                         skip_header=1 ,\n",
    "                         autostrip = True,\n",
    "                         usecols= columns_strings,\n",
    "                         dtype = str)\n",
    "loan_data_strings"
   ]
  },
  {
   "cell_type": "code",
   "execution_count": 16,
   "id": "cc91c2ba-8317-450e-9980-e4cd6243acc5",
   "metadata": {},
   "outputs": [
    {
     "data": {
      "text/plain": [
       "array([[48010226.  ,    35000.  ,    35000.  ,       13.33,     1184.86,     9452.96],\n",
       "       [57693261.  ,    30000.  ,    30000.  , 68616520.  ,      938.57,     4679.7 ],\n",
       "       [59432726.  ,    15000.  ,    15000.  , 68616520.  ,      494.86,     1969.83],\n",
       "       ...,\n",
       "       [50415990.  ,    10000.  ,    10000.  , 68616520.  , 68616520.  ,     2185.64],\n",
       "       [46154151.  , 68616520.  ,    10000.  ,       16.55,      354.3 ,     3199.4 ],\n",
       "       [66055249.  ,    10000.  ,    10000.  , 68616520.  ,      309.97,      301.9 ]])"
      ]
     },
     "execution_count": 16,
     "metadata": {},
     "output_type": "execute_result"
    }
   ],
   "source": [
    "#creo un dataset para solo las columnas con datos numericos\n",
    "loan_data_numeric = np.genfromtxt('E:\\FRANCO\\Curso Data Analyst\\S28 - A Loan Data Example with NumPy\\loan-data.csv',\n",
    "                         delimiter=';',\n",
    "                         skip_header=1 ,\n",
    "                         autostrip = True,\n",
    "                         usecols= columns_numeric,\n",
    "                         filling_values = temporary_fill)\n",
    "loan_data_numeric"
   ]
  },
  {
   "cell_type": "code",
   "execution_count": 17,
   "id": "a217672f-d6a7-490a-b81f-9aa0c6a546e8",
   "metadata": {},
   "outputs": [],
   "source": [
    "#nombre de las columnas"
   ]
  },
  {
   "cell_type": "code",
   "execution_count": 18,
   "id": "cacabfd5-fb49-4622-a1c1-c1808c6dd0c2",
   "metadata": {},
   "outputs": [
    {
     "data": {
      "text/plain": [
       "array(['id', 'issue_d', 'loan_amnt', 'loan_status', 'funded_amnt', 'term', 'int_rate',\n",
       "       'installment', 'grade', 'sub_grade', 'verification_status', 'url', 'addr_state',\n",
       "       'total_pymnt'], dtype='<U19')"
      ]
     },
     "execution_count": 18,
     "metadata": {},
     "output_type": "execute_result"
    }
   ],
   "source": [
    "header_full = np.genfromtxt('E:\\FRANCO\\Curso Data Analyst\\S28 - A Loan Data Example with NumPy\\loan-data.csv',\n",
    "                            delimiter=';',\n",
    "                            max_rows=1,\n",
    "                            dtype = str)\n",
    "\n",
    "header_full"
   ]
  },
  {
   "cell_type": "code",
   "execution_count": 19,
   "id": "e37a75db-47ef-488c-bd60-615dc7cc4797",
   "metadata": {},
   "outputs": [],
   "source": [
    "#creo 2 variables, una contiene los nombres de las columnas con string y la otra de las columnas numericas\n",
    "header_string, header_numeric = header_full[columns_strings],header_full[columns_numeric]"
   ]
  },
  {
   "cell_type": "code",
   "execution_count": 20,
   "id": "dd9719ec-01a5-4bb7-a34f-b1cf8bffe6b9",
   "metadata": {},
   "outputs": [
    {
     "data": {
      "text/plain": [
       "array(['issue_d', 'loan_status', 'term', 'grade', 'sub_grade', 'verification_status', 'url',\n",
       "       'addr_state'], dtype='<U19')"
      ]
     },
     "execution_count": 20,
     "metadata": {},
     "output_type": "execute_result"
    }
   ],
   "source": [
    "header_string"
   ]
  },
  {
   "cell_type": "code",
   "execution_count": 21,
   "id": "2b7a7dee-35de-4b1c-9bea-e89c93ef15cf",
   "metadata": {},
   "outputs": [
    {
     "data": {
      "text/plain": [
       "array(['id', 'loan_amnt', 'funded_amnt', 'int_rate', 'installment', 'total_pymnt'], dtype='<U19')"
      ]
     },
     "execution_count": 21,
     "metadata": {},
     "output_type": "execute_result"
    }
   ],
   "source": [
    "header_numeric"
   ]
  },
  {
   "cell_type": "markdown",
   "id": "b810571c-7976-4352-b9ba-cda9f50dc973",
   "metadata": {},
   "source": [
    "        Crear Checkpoints"
   ]
  },
  {
   "cell_type": "code",
   "execution_count": 22,
   "id": "e42600db-f072-402f-9bf7-ef1b41f67c25",
   "metadata": {},
   "outputs": [],
   "source": [
    "def checkpoint(filename, checkpoint_header, checkpoint_data):\n",
    "    np.savez(filename, header=checkpoint_header, data=checkpoint_data)\n",
    "    checkpoint_variable = np.load(filename + \".npz\")\n",
    "    return(checkpoint_variable)"
   ]
  },
  {
   "cell_type": "code",
   "execution_count": 23,
   "id": "e0a6a737-007f-402d-8a4e-ca9ed16348be",
   "metadata": {},
   "outputs": [],
   "source": [
    "checkpoint_test = checkpoint(\"checkpoint-test\", header_string, loan_data_strings)"
   ]
  },
  {
   "cell_type": "code",
   "execution_count": 24,
   "id": "fac0c8e4-17c3-4316-8712-d2a698a6f029",
   "metadata": {},
   "outputs": [
    {
     "data": {
      "text/plain": [
       "array([['May-15', 'Current', '36 months', ..., 'Verified',\n",
       "        'https://www.lendingclub.com/browse/loanDetail.action?loan_id=48010226', 'CA'],\n",
       "       ['', 'Current', '36 months', ..., 'Source Verified',\n",
       "        'https://www.lendingclub.com/browse/loanDetail.action?loan_id=57693261', 'NY'],\n",
       "       ['Sep-15', 'Current', '36 months', ..., 'Verified',\n",
       "        'https://www.lendingclub.com/browse/loanDetail.action?loan_id=59432726', 'PA'],\n",
       "       ...,\n",
       "       ['Jun-15', 'Current', '36 months', ..., 'Source Verified',\n",
       "        'https://www.lendingclub.com/browse/loanDetail.action?loan_id=50415990', 'CA'],\n",
       "       ['Apr-15', 'Current', '36 months', ..., 'Source Verified',\n",
       "        'https://www.lendingclub.com/browse/loanDetail.action?loan_id=46154151', 'OH'],\n",
       "       ['Dec-15', 'Current', '36 months', ..., '',\n",
       "        'https://www.lendingclub.com/browse/loanDetail.action?loan_id=66055249', 'IL']],\n",
       "      dtype='<U69')"
      ]
     },
     "execution_count": 24,
     "metadata": {},
     "output_type": "execute_result"
    }
   ],
   "source": [
    "checkpoint_test['data']"
   ]
  },
  {
   "cell_type": "code",
   "execution_count": 25,
   "id": "32ba7133-8796-454c-ac61-c9e8812e68ea",
   "metadata": {},
   "outputs": [
    {
     "data": {
      "text/plain": [
       "True"
      ]
     },
     "execution_count": 25,
     "metadata": {},
     "output_type": "execute_result"
    }
   ],
   "source": [
    "#chequeo que la data es igual a la que tengo\n",
    "np.array_equal(checkpoint_test['data'],loan_data_strings)"
   ]
  },
  {
   "cell_type": "markdown",
   "id": "5b7b3e7c-a1ba-4756-98b1-0c11ecdc43eb",
   "metadata": {},
   "source": [
    "        Manipulando las columnas strings"
   ]
  },
  {
   "cell_type": "code",
   "execution_count": 26,
   "id": "0b58835e-8ce5-461f-b427-266b850a1ea4",
   "metadata": {},
   "outputs": [
    {
     "data": {
      "text/plain": [
       "array(['issue_d', 'loan_status', 'term', 'grade', 'sub_grade', 'verification_status', 'url',\n",
       "       'addr_state'], dtype='<U19')"
      ]
     },
     "execution_count": 26,
     "metadata": {},
     "output_type": "execute_result"
    }
   ],
   "source": [
    "header_string"
   ]
  },
  {
   "cell_type": "code",
   "execution_count": 27,
   "id": "3568db94-73bf-4ec3-a666-a60aa47b3eaa",
   "metadata": {},
   "outputs": [],
   "source": [
    "#cambio el nombre de la primer columna para que sea mas entendible\n",
    "header_string[0] = \"issue_date\""
   ]
  },
  {
   "cell_type": "code",
   "execution_count": 28,
   "id": "4420a148-2544-4327-a6a9-dee423609ae7",
   "metadata": {},
   "outputs": [
    {
     "data": {
      "text/plain": [
       "array([['May-15', 'Current', '36 months', ..., 'Verified',\n",
       "        'https://www.lendingclub.com/browse/loanDetail.action?loan_id=48010226', 'CA'],\n",
       "       ['', 'Current', '36 months', ..., 'Source Verified',\n",
       "        'https://www.lendingclub.com/browse/loanDetail.action?loan_id=57693261', 'NY'],\n",
       "       ['Sep-15', 'Current', '36 months', ..., 'Verified',\n",
       "        'https://www.lendingclub.com/browse/loanDetail.action?loan_id=59432726', 'PA'],\n",
       "       ...,\n",
       "       ['Jun-15', 'Current', '36 months', ..., 'Source Verified',\n",
       "        'https://www.lendingclub.com/browse/loanDetail.action?loan_id=50415990', 'CA'],\n",
       "       ['Apr-15', 'Current', '36 months', ..., 'Source Verified',\n",
       "        'https://www.lendingclub.com/browse/loanDetail.action?loan_id=46154151', 'OH'],\n",
       "       ['Dec-15', 'Current', '36 months', ..., '',\n",
       "        'https://www.lendingclub.com/browse/loanDetail.action?loan_id=66055249', 'IL']],\n",
       "      dtype='<U69')"
      ]
     },
     "execution_count": 28,
     "metadata": {},
     "output_type": "execute_result"
    }
   ],
   "source": [
    "loan_data_strings"
   ]
  },
  {
   "cell_type": "markdown",
   "id": "beff4574-6787-4f9c-9c74-7b22c878cf1f",
   "metadata": {},
   "source": [
    "    issue date"
   ]
  },
  {
   "cell_type": "code",
   "execution_count": 29,
   "id": "3fed368d-072c-4f4c-bb57-3bdd550e444c",
   "metadata": {},
   "outputs": [
    {
     "data": {
      "text/plain": [
       "array(['', 'Apr-15', 'Aug-15', 'Dec-15', 'Feb-15', 'Jan-15', 'Jul-15', 'Jun-15', 'Mar-15',\n",
       "       'May-15', 'Nov-15', 'Oct-15', 'Sep-15'], dtype='<U69')"
      ]
     },
     "execution_count": 29,
     "metadata": {},
     "output_type": "execute_result"
    }
   ],
   "source": [
    "#primer columna del dataset. muestro los valores unicos\n",
    "np.unique(loan_data_strings[:,0])"
   ]
  },
  {
   "cell_type": "code",
   "execution_count": 30,
   "id": "7f9660e4-da46-44b3-81e2-b9fe419a6e4c",
   "metadata": {},
   "outputs": [],
   "source": [
    "#como son todos del año 15 puedo eliminar esa parte del texto\n",
    "loan_data_strings[:,0] = np.chararray.strip(loan_data_strings[:,0], \"-15\")"
   ]
  },
  {
   "cell_type": "code",
   "execution_count": 31,
   "id": "5dfe2166-1dc3-4b77-98aa-597f516733fa",
   "metadata": {},
   "outputs": [
    {
     "data": {
      "text/plain": [
       "array(['', 'Apr', 'Aug', 'Dec', 'Feb', 'Jan', 'Jul', 'Jun', 'Mar', 'May', 'Nov', 'Oct', 'Sep'],\n",
       "      dtype='<U69')"
      ]
     },
     "execution_count": 31,
     "metadata": {},
     "output_type": "execute_result"
    }
   ],
   "source": [
    "np.unique(loan_data_strings[:,0])"
   ]
  },
  {
   "cell_type": "code",
   "execution_count": 32,
   "id": "9b3465aa-5620-45bf-bce5-abc25f2b50f2",
   "metadata": {},
   "outputs": [],
   "source": [
    "#quiero substituir los meses por numeros para que sea mejor y ocupe menos espacio"
   ]
  },
  {
   "cell_type": "code",
   "execution_count": 33,
   "id": "2571a00f-04c1-4b99-b2c1-23f3539b4264",
   "metadata": {},
   "outputs": [],
   "source": [
    "months = np.array(['', 'Jan', 'Feb', 'Mar', 'Apr', 'May', 'Jun', 'Jul', 'Aug', 'Sep', 'Oct', 'Nov', 'Dec'])"
   ]
  },
  {
   "cell_type": "code",
   "execution_count": 34,
   "id": "d6123a75-b8a2-4d51-9b94-d141c7f173d2",
   "metadata": {},
   "outputs": [],
   "source": [
    "for i in range (13):\n",
    "    loan_data_strings[:,0] = np.where(loan_data_strings[:,0] == months[i],\n",
    "                                      i,\n",
    "                                      loan_data_strings[:,0])"
   ]
  },
  {
   "cell_type": "code",
   "execution_count": 35,
   "id": "4bf36af2-006b-433e-82be-1743ea58c145",
   "metadata": {},
   "outputs": [
    {
     "data": {
      "text/plain": [
       "array(['0', '1', '10', '11', '12', '2', '3', '4', '5', '6', '7', '8', '9'], dtype='<U69')"
      ]
     },
     "execution_count": 35,
     "metadata": {},
     "output_type": "execute_result"
    }
   ],
   "source": [
    "np.unique(loan_data_strings[:,0])"
   ]
  },
  {
   "cell_type": "markdown",
   "id": "54f18b45-faf7-4827-aa74-8ee8593ee7c2",
   "metadata": {},
   "source": [
    "    loan_status"
   ]
  },
  {
   "cell_type": "code",
   "execution_count": 36,
   "id": "d79ac8e8-214e-4c6b-ba02-651e062f13ac",
   "metadata": {},
   "outputs": [
    {
     "data": {
      "text/plain": [
       "array(['issue_date', 'loan_status', 'term', 'grade', 'sub_grade', 'verification_status', 'url',\n",
       "       'addr_state'], dtype='<U19')"
      ]
     },
     "execution_count": 36,
     "metadata": {},
     "output_type": "execute_result"
    }
   ],
   "source": [
    "header_string"
   ]
  },
  {
   "cell_type": "code",
   "execution_count": 37,
   "id": "c400cc2f-fc29-40b9-921f-9480f17221d9",
   "metadata": {},
   "outputs": [
    {
     "data": {
      "text/plain": [
       "array(['', 'Charged Off', 'Current', 'Default', 'Fully Paid', 'In Grace Period', 'Issued',\n",
       "       'Late (16-30 days)', 'Late (31-120 days)'], dtype='<U69')"
      ]
     },
     "execution_count": 37,
     "metadata": {},
     "output_type": "execute_result"
    }
   ],
   "source": [
    "#veo si todos los valores son iguales o no\n",
    "np.unique(loan_data_strings[:,1])"
   ]
  },
  {
   "cell_type": "code",
   "execution_count": 38,
   "id": "63ffee78-f770-448f-b20f-3ec10df37046",
   "metadata": {},
   "outputs": [],
   "source": [
    "#voy a separar los 9 resultados en buenos y malos (1:good ,0:bad) ya que me piden ver las cuentas buenas o malas segun como pagan o si estan atrasados"
   ]
  },
  {
   "cell_type": "code",
   "execution_count": 39,
   "id": "79c5de31-0c5a-4c0b-aac8-a4b1b9b1881f",
   "metadata": {},
   "outputs": [],
   "source": [
    "status_bad = np.array(['', 'Charged Off', 'Default', 'Late (31-120 days)'])"
   ]
  },
  {
   "cell_type": "code",
   "execution_count": 40,
   "id": "b23c4694-c196-4184-b287-7c5ef1e90a08",
   "metadata": {},
   "outputs": [],
   "source": [
    "loan_data_strings[:,1] = np.where(np.isin(loan_data_strings[:,1],status_bad), 0,1) #me fijo si estan y asingo 0 o 1"
   ]
  },
  {
   "cell_type": "code",
   "execution_count": 41,
   "id": "5b62d15e-df70-40a5-992f-927bce272a5e",
   "metadata": {},
   "outputs": [
    {
     "data": {
      "text/plain": [
       "array(['0', '1'], dtype='<U69')"
      ]
     },
     "execution_count": 41,
     "metadata": {},
     "output_type": "execute_result"
    }
   ],
   "source": [
    "#verifico\n",
    "np.unique(loan_data_strings[:,1])"
   ]
  },
  {
   "cell_type": "markdown",
   "id": "fbede809-19b6-4c65-af8a-346ad1c47f1e",
   "metadata": {},
   "source": [
    "    term"
   ]
  },
  {
   "cell_type": "code",
   "execution_count": 42,
   "id": "71aa9b46-00a3-4a11-b939-a76668b6643e",
   "metadata": {},
   "outputs": [
    {
     "data": {
      "text/plain": [
       "array(['issue_date', 'loan_status', 'term', 'grade', 'sub_grade', 'verification_status', 'url',\n",
       "       'addr_state'], dtype='<U19')"
      ]
     },
     "execution_count": 42,
     "metadata": {},
     "output_type": "execute_result"
    }
   ],
   "source": [
    "header_string"
   ]
  },
  {
   "cell_type": "code",
   "execution_count": 43,
   "id": "c4227e2c-ccea-4127-8f84-7899f32a8577",
   "metadata": {},
   "outputs": [
    {
     "data": {
      "text/plain": [
       "array(['36 months', '36 months', '36 months', ..., '36 months', '36 months', '36 months'],\n",
       "      dtype='<U69')"
      ]
     },
     "execution_count": 43,
     "metadata": {},
     "output_type": "execute_result"
    }
   ],
   "source": [
    "loan_data_strings[:,2]"
   ]
  },
  {
   "cell_type": "code",
   "execution_count": 44,
   "id": "6589b0cc-0bfa-4c73-80ee-9e5fa6fc650b",
   "metadata": {},
   "outputs": [
    {
     "data": {
      "text/plain": [
       "array(['', '36 months', '60 months'], dtype='<U69')"
      ]
     },
     "execution_count": 44,
     "metadata": {},
     "output_type": "execute_result"
    }
   ],
   "source": [
    "np.unique(loan_data_strings[:,2])"
   ]
  },
  {
   "cell_type": "code",
   "execution_count": 45,
   "id": "8c0daff6-beb7-4ccf-b47c-94e9d5fb6cdb",
   "metadata": {},
   "outputs": [
    {
     "data": {
      "text/plain": [
       "array(['36', '36', '36', ..., '36', '36', '36'], dtype='<U69')"
      ]
     },
     "execution_count": 45,
     "metadata": {},
     "output_type": "execute_result"
    }
   ],
   "source": [
    "#elimino el texto months\n",
    "loan_data_strings[:,2] = np.chararray.strip(loan_data_strings[:,2], \" months\")\n",
    "loan_data_strings[:,2]"
   ]
  },
  {
   "cell_type": "code",
   "execution_count": 46,
   "id": "82b6e80b-a0c4-4bdd-9524-3756ea645e1c",
   "metadata": {},
   "outputs": [],
   "source": [
    "#cambio el nombre de la columna\n",
    "header_string[2] = \"term_months\""
   ]
  },
  {
   "cell_type": "code",
   "execution_count": 47,
   "id": "717f8318-4561-4885-9729-bbcdd4a924af",
   "metadata": {},
   "outputs": [
    {
     "data": {
      "text/plain": [
       "array(['36', '36', '36', ..., '36', '36', '36'], dtype='<U69')"
      ]
     },
     "execution_count": 47,
     "metadata": {},
     "output_type": "execute_result"
    }
   ],
   "source": [
    "#cambio el valor a '60' para los espacios vacios por que se supone el peor de los casos en la consigna\n",
    "loan_data_strings[:,2] = np.where(loan_data_strings[:,2] == '',\n",
    "                                  '60',\n",
    "                                  loan_data_strings[:,2])\n",
    "loan_data_strings[:,2]"
   ]
  },
  {
   "cell_type": "code",
   "execution_count": 48,
   "id": "7b0a891d-12d1-48af-8404-16ac03169143",
   "metadata": {},
   "outputs": [
    {
     "data": {
      "text/plain": [
       "array(['36', '60'], dtype='<U69')"
      ]
     },
     "execution_count": 48,
     "metadata": {},
     "output_type": "execute_result"
    }
   ],
   "source": [
    "np.unique(loan_data_strings[:,2])"
   ]
  },
  {
   "cell_type": "markdown",
   "id": "9832e1af-790f-4b4c-a1b4-c3f3ce5350b5",
   "metadata": {},
   "source": [
    "    grade and sub_grade"
   ]
  },
  {
   "cell_type": "code",
   "execution_count": 49,
   "id": "87053ce4-9370-4b46-a43d-f9fe0334c1d5",
   "metadata": {},
   "outputs": [
    {
     "data": {
      "text/plain": [
       "array(['issue_date', 'loan_status', 'term_months', 'grade', 'sub_grade', 'verification_status',\n",
       "       'url', 'addr_state'], dtype='<U19')"
      ]
     },
     "execution_count": 49,
     "metadata": {},
     "output_type": "execute_result"
    }
   ],
   "source": [
    "header_string"
   ]
  },
  {
   "cell_type": "code",
   "execution_count": 50,
   "id": "7cb6d634-e113-4a4f-ae7e-50e3b94a8573",
   "metadata": {},
   "outputs": [
    {
     "data": {
      "text/plain": [
       "array(['', 'A', 'B', 'C', 'D', 'E', 'F', 'G'], dtype='<U69')"
      ]
     },
     "execution_count": 50,
     "metadata": {},
     "output_type": "execute_result"
    }
   ],
   "source": [
    "np.unique(loan_data_strings[:,3])"
   ]
  },
  {
   "cell_type": "code",
   "execution_count": 51,
   "id": "2c622c89-6914-4d81-b850-e2bc7cea6691",
   "metadata": {},
   "outputs": [
    {
     "data": {
      "text/plain": [
       "array(['', 'A1', 'A2', 'A3', 'A4', 'A5', 'B1', 'B2', 'B3', 'B4', 'B5', 'C1', 'C2', 'C3', 'C4',\n",
       "       'C5', 'D1', 'D2', 'D3', 'D4', 'D5', 'E1', 'E2', 'E3', 'E4', 'E5', 'F1', 'F2', 'F3', 'F4',\n",
       "       'F5', 'G1', 'G2', 'G3', 'G4', 'G5'], dtype='<U69')"
      ]
     },
     "execution_count": 51,
     "metadata": {},
     "output_type": "execute_result"
    }
   ],
   "source": [
    "np.unique(loan_data_strings[:,4])"
   ]
  },
  {
   "cell_type": "markdown",
   "id": "5f95281f-b2dd-4f35-9913-ea9774a0dc04",
   "metadata": {},
   "source": [
    "     filling sub_grade"
   ]
  },
  {
   "cell_type": "code",
   "execution_count": 52,
   "id": "5da4cf48-a6b6-4c75-8376-a31e2fe73c9c",
   "metadata": {},
   "outputs": [],
   "source": [
    "for i in np.unique(loan_data_strings[:,3])[1:]: #recorro despues de la primera por que esta vacia\n",
    "    #compruebo si no hay subgrade y si falta se fija si el grado es igual al de la iteracion actual\n",
    "    loan_data_strings[:,4] = np.where((loan_data_strings[:,4] == '') & (loan_data_strings[:,3]== i),\n",
    "                                      i + '5',\n",
    "                                      loan_data_strings[:,4])"
   ]
  },
  {
   "cell_type": "code",
   "execution_count": 53,
   "id": "693258e9-884e-4ba2-ba88-e564df814cf8",
   "metadata": {},
   "outputs": [
    {
     "data": {
      "text/plain": [
       "(array(['', 'A1', 'A2', 'A3', 'A4', 'A5', 'B1', 'B2', 'B3', 'B4', 'B5', 'C1', 'C2', 'C3', 'C4',\n",
       "        'C5', 'D1', 'D2', 'D3', 'D4', 'D5', 'E1', 'E2', 'E3', 'E4', 'E5', 'F1', 'F2', 'F3', 'F4',\n",
       "        'F5', 'G1', 'G2', 'G3', 'G4', 'G5'], dtype='<U69'),\n",
       " array([  9, 285, 278, 239, 323, 592, 509, 517, 530, 553, 633, 629, 567, 586, 564, 577, 391, 267,\n",
       "        250, 255, 288, 235, 162, 171, 139, 160,  94,  52,  34,  43,  24,  19,  10,   3,   7,   5],\n",
       "       dtype=int64))"
      ]
     },
     "execution_count": 53,
     "metadata": {},
     "output_type": "execute_result"
    }
   ],
   "source": [
    "np.unique(loan_data_strings[:,4], return_counts = True)\n",
    "#veo que hay 9 valores que no contienen grade ni sub_grade"
   ]
  },
  {
   "cell_type": "code",
   "execution_count": 54,
   "id": "95b15b93-a9fb-466f-8319-7063e34a5118",
   "metadata": {},
   "outputs": [],
   "source": [
    "#creo un nuevo sub grado que se llame H1\n",
    "loan_data_strings[:,4] = np.where((loan_data_strings[:,4] == ''),\n",
    "                                      'H1',\n",
    "                                      loan_data_strings[:,4])"
   ]
  },
  {
   "cell_type": "code",
   "execution_count": 55,
   "id": "4b186f71-efa5-4176-8ab0-40af1b57a818",
   "metadata": {},
   "outputs": [
    {
     "data": {
      "text/plain": [
       "array(['A1', 'A2', 'A3', 'A4', 'A5', 'B1', 'B2', 'B3', 'B4', 'B5', 'C1', 'C2', 'C3', 'C4', 'C5',\n",
       "       'D1', 'D2', 'D3', 'D4', 'D5', 'E1', 'E2', 'E3', 'E4', 'E5', 'F1', 'F2', 'F3', 'F4', 'F5',\n",
       "       'G1', 'G2', 'G3', 'G4', 'G5', 'H1'], dtype='<U69')"
      ]
     },
     "execution_count": 55,
     "metadata": {},
     "output_type": "execute_result"
    }
   ],
   "source": [
    "np.unique(loan_data_strings[:,4])"
   ]
  },
  {
   "cell_type": "code",
   "execution_count": 56,
   "id": "a3c8e630-0589-4443-ad43-52c3efc561c9",
   "metadata": {},
   "outputs": [],
   "source": [
    "#Removing grade"
   ]
  },
  {
   "cell_type": "code",
   "execution_count": 57,
   "id": "32ea6020-0173-4333-a60d-94bd0e626f2f",
   "metadata": {},
   "outputs": [],
   "source": [
    "#Ahora no hace falta el grado, con solo tener subgrade alcanza, por lo que lo remuevo\n",
    "loan_data_strings = np.delete(loan_data_strings, 3, axis=1)"
   ]
  },
  {
   "cell_type": "code",
   "execution_count": 58,
   "id": "fb21cdc2-1e2a-4577-a59f-3aa3319e52b6",
   "metadata": {},
   "outputs": [
    {
     "data": {
      "text/plain": [
       "array(['C3', 'A5', 'B5', ..., 'A5', 'D2', 'A4'], dtype='<U69')"
      ]
     },
     "execution_count": 58,
     "metadata": {},
     "output_type": "execute_result"
    }
   ],
   "source": [
    "loan_data_strings[:,3] #veo que ahora la columna 3 es la de sub_grade"
   ]
  },
  {
   "cell_type": "code",
   "execution_count": 59,
   "id": "899ead6a-e2de-4229-b29d-247548a4bb30",
   "metadata": {},
   "outputs": [],
   "source": [
    "#tengo que borrar de la cabecera tambien\n",
    "header_string = np.delete(header_string, 3) #elimina la 3 columna"
   ]
  },
  {
   "cell_type": "code",
   "execution_count": 60,
   "id": "a8c9968f-997d-4a4c-8432-516d712297b5",
   "metadata": {},
   "outputs": [
    {
     "data": {
      "text/plain": [
       "'sub_grade'"
      ]
     },
     "execution_count": 60,
     "metadata": {},
     "output_type": "execute_result"
    }
   ],
   "source": [
    "#verifico\n",
    "header_string[3]"
   ]
  },
  {
   "cell_type": "markdown",
   "id": "8b9e6c88-fbc4-4666-b47e-e8fb753c55ff",
   "metadata": {},
   "source": [
    "    Converting subgrade"
   ]
  },
  {
   "cell_type": "code",
   "execution_count": 61,
   "id": "0ae9663d-5843-4a9c-8dbc-f58e65e2d0ab",
   "metadata": {},
   "outputs": [
    {
     "data": {
      "text/plain": [
       "array(['A1', 'A2', 'A3', 'A4', 'A5', 'B1', 'B2', 'B3', 'B4', 'B5', 'C1', 'C2', 'C3', 'C4', 'C5',\n",
       "       'D1', 'D2', 'D3', 'D4', 'D5', 'E1', 'E2', 'E3', 'E4', 'E5', 'F1', 'F2', 'F3', 'F4', 'F5',\n",
       "       'G1', 'G2', 'G3', 'G4', 'G5', 'H1'], dtype='<U69')"
      ]
     },
     "execution_count": 61,
     "metadata": {},
     "output_type": "execute_result"
    }
   ],
   "source": [
    "np.unique(loan_data_strings[:,3])"
   ]
  },
  {
   "cell_type": "code",
   "execution_count": 62,
   "id": "da18a94e-02eb-41c2-b5a5-c0d9ceb4cd1d",
   "metadata": {},
   "outputs": [],
   "source": [
    "#quiero convertir estos valores en numeros, en vez de usar where muchas veces utilizo un diccionario"
   ]
  },
  {
   "cell_type": "code",
   "execution_count": 63,
   "id": "a68ec4a4-b748-4ec0-9247-3c4baaa9544b",
   "metadata": {},
   "outputs": [],
   "source": [
    "keys = list(np.unique(loan_data_strings[:,3]))\n",
    "values = list(range(1, np.unique(loan_data_strings[:,3]).shape[0]+1))\n",
    "dict_sub_grade = dict(zip(keys,values))"
   ]
  },
  {
   "cell_type": "code",
   "execution_count": 64,
   "id": "45b20e75-e47c-493f-a1d5-56e3d46a6ff9",
   "metadata": {},
   "outputs": [
    {
     "data": {
      "text/plain": [
       "{'A1': 1,\n",
       " 'A2': 2,\n",
       " 'A3': 3,\n",
       " 'A4': 4,\n",
       " 'A5': 5,\n",
       " 'B1': 6,\n",
       " 'B2': 7,\n",
       " 'B3': 8,\n",
       " 'B4': 9,\n",
       " 'B5': 10,\n",
       " 'C1': 11,\n",
       " 'C2': 12,\n",
       " 'C3': 13,\n",
       " 'C4': 14,\n",
       " 'C5': 15,\n",
       " 'D1': 16,\n",
       " 'D2': 17,\n",
       " 'D3': 18,\n",
       " 'D4': 19,\n",
       " 'D5': 20,\n",
       " 'E1': 21,\n",
       " 'E2': 22,\n",
       " 'E3': 23,\n",
       " 'E4': 24,\n",
       " 'E5': 25,\n",
       " 'F1': 26,\n",
       " 'F2': 27,\n",
       " 'F3': 28,\n",
       " 'F4': 29,\n",
       " 'F5': 30,\n",
       " 'G1': 31,\n",
       " 'G2': 32,\n",
       " 'G3': 33,\n",
       " 'G4': 34,\n",
       " 'G5': 35,\n",
       " 'H1': 36}"
      ]
     },
     "execution_count": 64,
     "metadata": {},
     "output_type": "execute_result"
    }
   ],
   "source": [
    "dict_sub_grade"
   ]
  },
  {
   "cell_type": "code",
   "execution_count": 65,
   "id": "cf830a69-73ad-49f2-ab12-14911a46dda7",
   "metadata": {},
   "outputs": [],
   "source": [
    "#recorre todos los subgrade y los reemplaza por el valor del diccionario\n",
    "for i in np.unique(loan_data_strings[:,3]):\n",
    "    loan_data_strings[:,3] = np.where(loan_data_strings[:,3] == i,\n",
    "                             dict_sub_grade[i],\n",
    "                             loan_data_strings[:,3])"
   ]
  },
  {
   "cell_type": "code",
   "execution_count": 66,
   "id": "f50c0d43-e0c2-4006-b5c2-e69b2a264bfb",
   "metadata": {},
   "outputs": [
    {
     "data": {
      "text/plain": [
       "array(['1', '10', '11', '12', '13', '14', '15', '16', '17', '18', '19', '2', '20', '21', '22',\n",
       "       '23', '24', '25', '26', '27', '28', '29', '3', '30', '31', '32', '33', '34', '35', '36',\n",
       "       '4', '5', '6', '7', '8', '9'], dtype='<U69')"
      ]
     },
     "execution_count": 66,
     "metadata": {},
     "output_type": "execute_result"
    }
   ],
   "source": [
    "np.unique(loan_data_strings[:,3]) #verifico"
   ]
  },
  {
   "cell_type": "markdown",
   "id": "b9c5d28b-bf9a-495b-b0fc-a542d24c46ab",
   "metadata": {},
   "source": [
    "    Verification status"
   ]
  },
  {
   "cell_type": "code",
   "execution_count": 67,
   "id": "4b74348b-f29f-4a43-9557-e43fd013f4b6",
   "metadata": {},
   "outputs": [
    {
     "data": {
      "text/plain": [
       "array(['issue_date', 'loan_status', 'term_months', 'sub_grade', 'verification_status', 'url',\n",
       "       'addr_state'], dtype='<U19')"
      ]
     },
     "execution_count": 67,
     "metadata": {},
     "output_type": "execute_result"
    }
   ],
   "source": [
    "header_string"
   ]
  },
  {
   "cell_type": "code",
   "execution_count": 68,
   "id": "9f369de7-5fd3-4f06-933f-beb5e0d6a021",
   "metadata": {},
   "outputs": [
    {
     "data": {
      "text/plain": [
       "array(['', 'Not Verified', 'Source Verified', 'Verified'], dtype='<U69')"
      ]
     },
     "execution_count": 68,
     "metadata": {},
     "output_type": "execute_result"
    }
   ],
   "source": [
    "np.unique(loan_data_strings[:,4])"
   ]
  },
  {
   "cell_type": "code",
   "execution_count": 69,
   "id": "902ad6f4-f337-4dd6-873c-38e9040cff8e",
   "metadata": {},
   "outputs": [],
   "source": [
    "#sustituyo las malas opciones ('' y 'Not verified') por 0 y las otras por 1\n",
    "loan_data_strings[:,4] = np.where((loan_data_strings[:,4] == '') | (loan_data_strings[:,4] == 'Not Verified'),\n",
    "                                  0, #si se cumple\n",
    "                                  1) #si no se cumple"
   ]
  },
  {
   "cell_type": "code",
   "execution_count": 70,
   "id": "eb4b019d-16ef-4bbe-b44e-125c3b628b58",
   "metadata": {},
   "outputs": [
    {
     "data": {
      "text/plain": [
       "array(['0', '1'], dtype='<U69')"
      ]
     },
     "execution_count": 70,
     "metadata": {},
     "output_type": "execute_result"
    }
   ],
   "source": [
    "#verifico\n",
    "np.unique(loan_data_strings[:,4])"
   ]
  },
  {
   "cell_type": "markdown",
   "id": "1689e00e-02eb-49aa-912f-d6e5057e7954",
   "metadata": {},
   "source": [
    "    URL"
   ]
  },
  {
   "cell_type": "code",
   "execution_count": 71,
   "id": "53fb99e2-b6d1-419b-a244-c6dec5e1f315",
   "metadata": {},
   "outputs": [
    {
     "data": {
      "text/plain": [
       "array(['https://www.lendingclub.com/browse/loanDetail.action?loan_id=48010226',\n",
       "       'https://www.lendingclub.com/browse/loanDetail.action?loan_id=57693261',\n",
       "       'https://www.lendingclub.com/browse/loanDetail.action?loan_id=59432726', ...,\n",
       "       'https://www.lendingclub.com/browse/loanDetail.action?loan_id=50415990',\n",
       "       'https://www.lendingclub.com/browse/loanDetail.action?loan_id=46154151',\n",
       "       'https://www.lendingclub.com/browse/loanDetail.action?loan_id=66055249'], dtype='<U69')"
      ]
     },
     "execution_count": 71,
     "metadata": {},
     "output_type": "execute_result"
    }
   ],
   "source": [
    "loan_data_strings[:,5]"
   ]
  },
  {
   "cell_type": "code",
   "execution_count": 72,
   "id": "9221902e-dde4-4f3d-86bf-15d2f6a6604f",
   "metadata": {},
   "outputs": [
    {
     "data": {
      "text/plain": [
       "chararray(['48010226', '57693261', '59432726', ..., '50415990', '46154151', '66055249'],\n",
       "          dtype='<U69')"
      ]
     },
     "execution_count": 72,
     "metadata": {},
     "output_type": "execute_result"
    }
   ],
   "source": [
    "#son todas iguales hasta la parte de loan_id por lo que la elimino\n",
    "np.chararray.strip(loan_data_strings[:,5], 'https://www.lendingclub.com/browse/loanDetail.action?loan_id=')"
   ]
  },
  {
   "cell_type": "code",
   "execution_count": 73,
   "id": "1e1b27b9-9b98-4f76-975b-b7066c6dea88",
   "metadata": {},
   "outputs": [],
   "source": [
    "#sobreescribo la columna ya que no se pierde data importante \n",
    "loan_data_strings[:,5] = np.chararray.strip(loan_data_strings[:,5], 'https://www.lendingclub.com/browse/loanDetail.action?loan_id=')"
   ]
  },
  {
   "cell_type": "code",
   "execution_count": 74,
   "id": "020ff907-a8db-4327-920c-db0945fe412d",
   "metadata": {},
   "outputs": [
    {
     "data": {
      "text/plain": [
       "array(['48010226', '57693261', '59432726', ..., '50415990', '46154151', '66055249'], dtype='<U69')"
      ]
     },
     "execution_count": 74,
     "metadata": {},
     "output_type": "execute_result"
    }
   ],
   "source": [
    "loan_data_strings[:,5]"
   ]
  },
  {
   "cell_type": "code",
   "execution_count": 75,
   "id": "431b2d0f-93ae-490d-988a-7db455313520",
   "metadata": {},
   "outputs": [
    {
     "data": {
      "text/plain": [
       "array(['id', 'issue_d', 'loan_amnt', 'loan_status', 'funded_amnt', 'term', 'int_rate',\n",
       "       'installment', 'grade', 'sub_grade', 'verification_status', 'url', 'addr_state',\n",
       "       'total_pymnt'], dtype='<U19')"
      ]
     },
     "execution_count": 75,
     "metadata": {},
     "output_type": "execute_result"
    }
   ],
   "source": [
    "#me fijo en la cabecera completa por que ya habia una columna con nombre id_ \n",
    "header_full"
   ]
  },
  {
   "cell_type": "code",
   "execution_count": 76,
   "id": "1625dd19-29ad-4d0e-8635-798736081b50",
   "metadata": {},
   "outputs": [],
   "source": [
    "#veo si son iguales los id con el loan_id del url"
   ]
  },
  {
   "cell_type": "code",
   "execution_count": 77,
   "id": "9de28aeb-fad1-4ed1-84d5-3dfc4993b6e4",
   "metadata": {},
   "outputs": [
    {
     "data": {
      "text/plain": [
       "array([48010226, 57693261, 59432726, ..., 50415990, 46154151, 66055249])"
      ]
     },
     "execution_count": 77,
     "metadata": {},
     "output_type": "execute_result"
    }
   ],
   "source": [
    "loan_data_numeric[:,0].astype(dtype = np.int32)"
   ]
  },
  {
   "cell_type": "code",
   "execution_count": 78,
   "id": "db6359a4-789d-4601-8743-42dd5b11db2d",
   "metadata": {},
   "outputs": [
    {
     "data": {
      "text/plain": [
       "array([48010226, 57693261, 59432726, ..., 50415990, 46154151, 66055249])"
      ]
     },
     "execution_count": 78,
     "metadata": {},
     "output_type": "execute_result"
    }
   ],
   "source": [
    "loan_data_strings[:,5].astype(dtype = np.int32)"
   ]
  },
  {
   "cell_type": "code",
   "execution_count": 79,
   "id": "7bd65d6d-023f-4930-98ba-fab39e246125",
   "metadata": {},
   "outputs": [
    {
     "data": {
      "text/plain": [
       "True"
      ]
     },
     "execution_count": 79,
     "metadata": {},
     "output_type": "execute_result"
    }
   ],
   "source": [
    "#verifico que sean iguales\n",
    "np.array_equal(loan_data_numeric[:,0].astype(dtype = np.int32),loan_data_strings[:,5].astype(dtype = np.int32) )"
   ]
  },
  {
   "cell_type": "code",
   "execution_count": 80,
   "id": "14f4fafc-0bf4-4996-bb86-d3f888d61b09",
   "metadata": {},
   "outputs": [],
   "source": [
    "#Como son iguales, la columna URL no contiene informacion adicional por lo que la elimino"
   ]
  },
  {
   "cell_type": "code",
   "execution_count": 81,
   "id": "d49ae9ad-07c7-47a5-8875-045820cf88f0",
   "metadata": {},
   "outputs": [],
   "source": [
    "loan_data_strings = np.delete(loan_data_strings, 5, axis=1)\n",
    "header_string = np.delete(header_string, 5)"
   ]
  },
  {
   "cell_type": "code",
   "execution_count": 82,
   "id": "f00d390c-c17e-4e47-a36c-164db7f3e9fa",
   "metadata": {},
   "outputs": [
    {
     "data": {
      "text/plain": [
       "array(['CA', 'NY', 'PA', ..., 'CA', 'OH', 'IL'], dtype='<U69')"
      ]
     },
     "execution_count": 82,
     "metadata": {},
     "output_type": "execute_result"
    }
   ],
   "source": [
    "#verifico que se haya eliminado\n",
    "loan_data_strings[:,5]"
   ]
  },
  {
   "cell_type": "code",
   "execution_count": 83,
   "id": "2c92062b-fa12-4028-a029-6f21b842e037",
   "metadata": {},
   "outputs": [
    {
     "data": {
      "text/plain": [
       "array(['issue_date', 'loan_status', 'term_months', 'sub_grade', 'verification_status',\n",
       "       'addr_state'], dtype='<U19')"
      ]
     },
     "execution_count": 83,
     "metadata": {},
     "output_type": "execute_result"
    }
   ],
   "source": [
    "#verifico tambien\n",
    "header_string"
   ]
  },
  {
   "cell_type": "code",
   "execution_count": 84,
   "id": "4aa1c5ee-6427-4ad9-b2a2-479f4daf3bef",
   "metadata": {},
   "outputs": [
    {
     "data": {
      "text/plain": [
       "array([48010226., 57693261., 59432726., ..., 50415990., 46154151., 66055249.])"
      ]
     },
     "execution_count": 84,
     "metadata": {},
     "output_type": "execute_result"
    }
   ],
   "source": [
    "#verifico por las dudas que sigan los valores de ID\n",
    "loan_data_numeric[:,0]"
   ]
  },
  {
   "cell_type": "code",
   "execution_count": 85,
   "id": "3b47e682-626d-411f-8ea6-2a972131c019",
   "metadata": {},
   "outputs": [
    {
     "data": {
      "text/plain": [
       "array(['id', 'loan_amnt', 'funded_amnt', 'int_rate', 'installment', 'total_pymnt'], dtype='<U19')"
      ]
     },
     "execution_count": 85,
     "metadata": {},
     "output_type": "execute_result"
    }
   ],
   "source": [
    "header_numeric"
   ]
  },
  {
   "cell_type": "markdown",
   "id": "f84367bb-4728-4ad4-a33b-9252b400e960",
   "metadata": {},
   "source": [
    "    State address"
   ]
  },
  {
   "cell_type": "code",
   "execution_count": 86,
   "id": "88aa856e-342d-45b5-b0c6-4908adac1c44",
   "metadata": {},
   "outputs": [
    {
     "data": {
      "text/plain": [
       "array(['issue_date', 'loan_status', 'term_months', 'sub_grade', 'verification_status',\n",
       "       'addr_state'], dtype='<U19')"
      ]
     },
     "execution_count": 86,
     "metadata": {},
     "output_type": "execute_result"
    }
   ],
   "source": [
    "header_string"
   ]
  },
  {
   "cell_type": "code",
   "execution_count": 87,
   "id": "1deb41e7-c93b-44dd-9040-66b2039df4a8",
   "metadata": {},
   "outputs": [],
   "source": [
    "header_string[5] = \"state_address\""
   ]
  },
  {
   "cell_type": "code",
   "execution_count": 88,
   "id": "e4ecaeb0-3981-491f-8f27-9c07fb4a5b51",
   "metadata": {},
   "outputs": [
    {
     "data": {
      "text/plain": [
       "(array(['CA', 'NY', 'TX', 'FL', '', 'IL', 'NJ', 'GA', 'PA', 'OH', 'MI', 'NC', 'VA', 'MD', 'AZ',\n",
       "        'WA', 'MA', 'CO', 'MO', 'MN', 'IN', 'WI', 'CT', 'TN', 'NV', 'AL', 'LA', 'OR', 'SC', 'KY',\n",
       "        'KS', 'OK', 'UT', 'AR', 'MS', 'NH', 'NM', 'WV', 'HI', 'RI', 'MT', 'DE', 'DC', 'WY', 'AK',\n",
       "        'NE', 'SD', 'VT', 'ND', 'ME'], dtype='<U69'),\n",
       " array([1336,  777,  758,  690,  500,  389,  341,  321,  320,  312,  267,  261,  242,  222,  220,\n",
       "         216,  210,  201,  160,  156,  152,  148,  143,  143,  130,  119,  116,  108,  107,   84,\n",
       "          84,   83,   74,   74,   61,   58,   57,   49,   44,   40,   28,   27,   27,   27,   26,\n",
       "          25,   24,   17,   16,   10], dtype=int64))"
      ]
     },
     "execution_count": 88,
     "metadata": {},
     "output_type": "execute_result"
    }
   ],
   "source": [
    "#vemos que falta un estado. Iowa\n",
    "#ordeno los estados y las cantidades en variables nuevas. Luego ordeno descendientemente las cantidades\n",
    "state_names, state_count = np.unique(loan_data_strings[:,5],return_counts = True)\n",
    "state_count_sorted = np.argsort(-state_count)\n",
    "state_names[state_count_sorted], state_count[state_count_sorted]"
   ]
  },
  {
   "cell_type": "code",
   "execution_count": 89,
   "id": "37dc18bf-33c2-456a-869f-389009c73ee4",
   "metadata": {},
   "outputs": [],
   "source": [
    "#asigno a 0 los datos de estado faltante\n",
    "loan_data_strings[:,5] = np.where(loan_data_strings[:,5] == '',\n",
    "                                  0,\n",
    "                                  loan_data_strings[:,5])"
   ]
  },
  {
   "cell_type": "code",
   "execution_count": 99,
   "id": "cfb4f85e-1115-420c-b69a-8597835219f7",
   "metadata": {},
   "outputs": [],
   "source": [
    "#separo los estados en regiones: este, oeste, midwest, sur\n",
    "states_west = np.array(['WA','OR','CA','NV','ID','MT','WY','UT','CO','AZ','NM','HI','AK'])\n",
    "states_south = np.array(['TX','OK','AR','LA','MS','AL','TN','KY','FL','GA','SC','NC','VA','WV','MD','DE','DC'])\n",
    "states_midwest = np.array(['ND','SD','NE','KS','MN','IA','MO','WI','IL','IN','MI','OH'])\n",
    "states_east = np.array(['PA','NY','NJ','CT','MA','VT','NH','ME','RI'])"
   ]
  },
  {
   "cell_type": "code",
   "execution_count": 100,
   "id": "8a42d875-9a46-4a39-93b1-c5eeeee5a240",
   "metadata": {},
   "outputs": [],
   "source": [
    "#asigno si son del west:1, south:2, midwest:3, east:4\n",
    "loan_data_strings[:,5] = np.where(np.isin(loan_data_strings[:,5], states_west), 1, loan_data_strings[:,5])\n",
    "loan_data_strings[:,5] = np.where(np.isin(loan_data_strings[:,5], states_south), 2, loan_data_strings[:,5])\n",
    "loan_data_strings[:,5] = np.where(np.isin(loan_data_strings[:,5], states_midwest), 3, loan_data_strings[:,5])\n",
    "loan_data_strings[:,5] = np.where(np.isin(loan_data_strings[:,5], states_east), 4, loan_data_strings[:,5])"
   ]
  },
  {
   "cell_type": "code",
   "execution_count": 101,
   "id": "81b28fe2-1340-458c-9a11-02e0aed8c13b",
   "metadata": {},
   "outputs": [
    {
     "data": {
      "text/plain": [
       "array(['0', '1', '2', '3', '4'], dtype='<U69')"
      ]
     },
     "execution_count": 101,
     "metadata": {},
     "output_type": "execute_result"
    }
   ],
   "source": [
    "#verifico que se cambio bien\n",
    "np.unique(loan_data_strings[:,5])"
   ]
  },
  {
   "cell_type": "markdown",
   "id": "9c2742e6-7ffe-4ca9-9c2a-1fb87ccf2435",
   "metadata": {},
   "source": [
    "    Converting to numbers"
   ]
  },
  {
   "cell_type": "code",
   "execution_count": 102,
   "id": "753ed8cf-53b3-4143-8942-41b9be572c6a",
   "metadata": {},
   "outputs": [
    {
     "data": {
      "text/plain": [
       "array([['5', '1', '36', '13', '1', '1'],\n",
       "       ['0', '1', '36', '5', '1', '4'],\n",
       "       ['9', '1', '36', '10', '1', '4'],\n",
       "       ...,\n",
       "       ['6', '1', '36', '5', '1', '1'],\n",
       "       ['4', '1', '36', '17', '1', '3'],\n",
       "       ['12', '1', '36', '4', '0', '3']], dtype='<U69')"
      ]
     },
     "execution_count": 102,
     "metadata": {},
     "output_type": "execute_result"
    }
   ],
   "source": [
    "loan_data_strings"
   ]
  },
  {
   "cell_type": "code",
   "execution_count": 104,
   "id": "e0497f95-d77d-4216-88e3-aa56d4f032ae",
   "metadata": {},
   "outputs": [],
   "source": [
    "loan_data_strings = loan_data_strings.astype(int)"
   ]
  },
  {
   "cell_type": "code",
   "execution_count": 105,
   "id": "6a0b010d-3aec-4f5d-b7cd-9f732e837650",
   "metadata": {},
   "outputs": [
    {
     "data": {
      "text/plain": [
       "array([[ 5,  1, 36, 13,  1,  1],\n",
       "       [ 0,  1, 36,  5,  1,  4],\n",
       "       [ 9,  1, 36, 10,  1,  4],\n",
       "       ...,\n",
       "       [ 6,  1, 36,  5,  1,  1],\n",
       "       [ 4,  1, 36, 17,  1,  3],\n",
       "       [12,  1, 36,  4,  0,  3]])"
      ]
     },
     "execution_count": 105,
     "metadata": {},
     "output_type": "execute_result"
    }
   ],
   "source": [
    "loan_data_strings"
   ]
  },
  {
   "cell_type": "markdown",
   "id": "89f09447-9243-46fb-a79b-570314d86a3f",
   "metadata": {},
   "source": [
    "    Checkpoint 1 : Strings"
   ]
  },
  {
   "cell_type": "code",
   "execution_count": 107,
   "id": "d1f242e7-00c5-48cc-9548-aa6c55c45598",
   "metadata": {},
   "outputs": [],
   "source": [
    "checkpoint_strings = checkpoint(\"Checkpoint-Strings\", header_string, loan_data_strings)"
   ]
  },
  {
   "cell_type": "code",
   "execution_count": 110,
   "id": "745a5e48-a80a-467b-a97c-a438dde84785",
   "metadata": {},
   "outputs": [
    {
     "data": {
      "text/plain": [
       "array(['issue_date', 'loan_status', 'term_months', 'sub_grade', 'verification_status',\n",
       "       'state_address'], dtype='<U19')"
      ]
     },
     "execution_count": 110,
     "metadata": {},
     "output_type": "execute_result"
    }
   ],
   "source": [
    "#verifico\n",
    "checkpoint_strings[\"header\"]"
   ]
  },
  {
   "cell_type": "code",
   "execution_count": 111,
   "id": "c1fe7cb1-aa72-4d5f-810b-19e060dbba83",
   "metadata": {},
   "outputs": [
    {
     "data": {
      "text/plain": [
       "array([[ 5,  1, 36, 13,  1,  1],\n",
       "       [ 0,  1, 36,  5,  1,  4],\n",
       "       [ 9,  1, 36, 10,  1,  4],\n",
       "       ...,\n",
       "       [ 6,  1, 36,  5,  1,  1],\n",
       "       [ 4,  1, 36, 17,  1,  3],\n",
       "       [12,  1, 36,  4,  0,  3]])"
      ]
     },
     "execution_count": 111,
     "metadata": {},
     "output_type": "execute_result"
    }
   ],
   "source": [
    "#verifico\n",
    "checkpoint_strings[\"data\"]"
   ]
  },
  {
   "cell_type": "code",
   "execution_count": 112,
   "id": "4ad8559a-4bbf-4fb9-ae19-8b288edd43a0",
   "metadata": {},
   "outputs": [
    {
     "data": {
      "text/plain": [
       "True"
      ]
     },
     "execution_count": 112,
     "metadata": {},
     "output_type": "execute_result"
    }
   ],
   "source": [
    "np.array_equal(checkpoint_strings[\"data\"], loan_data_strings)"
   ]
  },
  {
   "cell_type": "markdown",
   "id": "83587e8e-0c1d-4ef5-bebf-0b6e6488dcfd",
   "metadata": {},
   "source": [
    "    Manipulating numeric columns"
   ]
  },
  {
   "cell_type": "code",
   "execution_count": 113,
   "id": "a966e8ee-5607-4ec0-8f17-8fb589530b3f",
   "metadata": {},
   "outputs": [
    {
     "data": {
      "text/plain": [
       "array([[48010226.  ,    35000.  ,    35000.  ,       13.33,     1184.86,     9452.96],\n",
       "       [57693261.  ,    30000.  ,    30000.  , 68616520.  ,      938.57,     4679.7 ],\n",
       "       [59432726.  ,    15000.  ,    15000.  , 68616520.  ,      494.86,     1969.83],\n",
       "       ...,\n",
       "       [50415990.  ,    10000.  ,    10000.  , 68616520.  , 68616520.  ,     2185.64],\n",
       "       [46154151.  , 68616520.  ,    10000.  ,       16.55,      354.3 ,     3199.4 ],\n",
       "       [66055249.  ,    10000.  ,    10000.  , 68616520.  ,      309.97,      301.9 ]])"
      ]
     },
     "execution_count": 113,
     "metadata": {},
     "output_type": "execute_result"
    }
   ],
   "source": [
    "loan_data_numeric"
   ]
  },
  {
   "cell_type": "code",
   "execution_count": 114,
   "id": "674c023c-ef25-4fbe-9817-124e69bb7139",
   "metadata": {},
   "outputs": [
    {
     "data": {
      "text/plain": [
       "0"
      ]
     },
     "execution_count": 114,
     "metadata": {},
     "output_type": "execute_result"
    }
   ],
   "source": [
    "#me fijo si faltan valores\n",
    "np.isnan(loan_data_numeric).sum()"
   ]
  },
  {
   "cell_type": "markdown",
   "id": "6a351598-83cb-46b9-b624-ec70b50e7248",
   "metadata": {},
   "source": [
    "    Substitute filler values"
   ]
  },
  {
   "cell_type": "code",
   "execution_count": 117,
   "id": "bce38f59-7298-4a19-bfbd-78cb1f047656",
   "metadata": {},
   "outputs": [],
   "source": [
    "#segun el enunciado debo sustituir los peores valores, ya que en este caso no hay valores faltantes sino que se cambiaron por el filler_value"
   ]
  },
  {
   "cell_type": "code",
   "execution_count": 116,
   "id": "6cb10112-2691-47f2-a1e3-37a90b1362e5",
   "metadata": {},
   "outputs": [
    {
     "data": {
      "text/plain": [
       "array(['id', 'loan_amnt', 'funded_amnt', 'int_rate', 'installment', 'total_pymnt'], dtype='<U19')"
      ]
     },
     "execution_count": 116,
     "metadata": {},
     "output_type": "execute_result"
    }
   ],
   "source": [
    "header_numeric"
   ]
  },
  {
   "cell_type": "code",
   "execution_count": 118,
   "id": "2139a060-aa75-4534-92a1-38c8201f3b81",
   "metadata": {},
   "outputs": [],
   "source": [
    " #id"
   ]
  },
  {
   "cell_type": "code",
   "execution_count": 120,
   "id": "d6de99a5-5b14-43b2-8992-00135e65945d",
   "metadata": {},
   "outputs": [
    {
     "data": {
      "text/plain": [
       "68616520.0"
      ]
     },
     "execution_count": 120,
     "metadata": {},
     "output_type": "execute_result"
    }
   ],
   "source": [
    "temporary_fill #me fijo si hay valores faltantes que se cambiaron por este valor"
   ]
  },
  {
   "cell_type": "code",
   "execution_count": 121,
   "id": "4bf49dd8-7a5a-4f05-83a9-5ab3877121a4",
   "metadata": {},
   "outputs": [
    {
     "data": {
      "text/plain": [
       "array([False, False, False, ..., False, False, False])"
      ]
     },
     "execution_count": 121,
     "metadata": {},
     "output_type": "execute_result"
    }
   ],
   "source": [
    "np.isin(loan_data_numeric[:,0], temporary_fill)"
   ]
  },
  {
   "cell_type": "code",
   "execution_count": 123,
   "id": "626b63e6-cfb4-4c74-b96c-bd69b0bf8220",
   "metadata": {},
   "outputs": [
    {
     "data": {
      "text/plain": [
       "0"
      ]
     },
     "execution_count": 123,
     "metadata": {},
     "output_type": "execute_result"
    }
   ],
   "source": [
    "np.isin(loan_data_numeric[:,0], temporary_fill).sum() #como da 0 no hubo que rellenar valores en esta columna"
   ]
  },
  {
   "cell_type": "code",
   "execution_count": 129,
   "id": "f299710e-c9f8-4501-b898-5c8c30c18c60",
   "metadata": {},
   "outputs": [
    {
     "data": {
      "text/plain": [
       "array([[  373332.  ,     1000.  ,     1000.  ,        6.  ,       31.42,        0.  ],\n",
       "       [54015809.19,    15273.46,    15311.04,       16.62,      440.92,     3143.85],\n",
       "       [68616519.  ,    35000.  ,    35000.  ,       28.99,     1372.97,    41913.62]])"
      ]
     },
     "execution_count": 129,
     "metadata": {},
     "output_type": "execute_result"
    }
   ],
   "source": [
    "#veo los valores que guarde de temporary_stats \n",
    "temporary_stats[:, columns_numeric] #fila de arriba:minimos, fila del medio: medias, fila abajo: maximos"
   ]
  },
  {
   "cell_type": "code",
   "execution_count": 130,
   "id": "d6b1b8b6-bf15-4893-91ca-cfbdb2655b51",
   "metadata": {},
   "outputs": [
    {
     "data": {
      "text/plain": [
       "array([35000., 30000., 15000., ..., 10000., 10000., 10000.])"
      ]
     },
     "execution_count": 130,
     "metadata": {},
     "output_type": "execute_result"
    }
   ],
   "source": [
    "#quiero que la columnas 'funded_amnt' sean los valores faltantes iguales al minimo de temporary_stats\n",
    "loan_data_numeric[:,2]"
   ]
  },
  {
   "cell_type": "code",
   "execution_count": 132,
   "id": "cee03421-04cf-4294-874c-1ac1f3d00bb4",
   "metadata": {},
   "outputs": [
    {
     "data": {
      "text/plain": [
       "array([35000., 30000., 15000., ..., 10000., 10000., 10000.])"
      ]
     },
     "execution_count": 132,
     "metadata": {},
     "output_type": "execute_result"
    }
   ],
   "source": [
    "#reemplazo los valores por el minimo de funded_amnt\n",
    "loan_data_numeric[:,2] = np.where(loan_data_numeric[:,2]==temporary_fill,\n",
    "                                  temporary_stats[0, columns_numeric[2]],\n",
    "                                  loan_data_numeric[:,2])\n",
    "loan_data_numeric[:,2]"
   ]
  },
  {
   "cell_type": "markdown",
   "id": "bbf8824e-1c81-4fbd-98d6-77aecff9c3a1",
   "metadata": {},
   "source": [
    "    Loaned_amount, Interest_rate, Total_payment, Installment"
   ]
  },
  {
   "cell_type": "code",
   "execution_count": 133,
   "id": "9e2f74b9-8c2c-4e29-b16f-aa43fadfde11",
   "metadata": {},
   "outputs": [],
   "source": [
    "#En estas columnas voy a reemplazar por el valor maximo"
   ]
  },
  {
   "cell_type": "code",
   "execution_count": 134,
   "id": "2232c509-5f50-4f79-bca7-ebe4c94e59e0",
   "metadata": {},
   "outputs": [
    {
     "data": {
      "text/plain": [
       "array(['id', 'loan_amnt', 'funded_amnt', 'int_rate', 'installment', 'total_pymnt'], dtype='<U19')"
      ]
     },
     "execution_count": 134,
     "metadata": {},
     "output_type": "execute_result"
    }
   ],
   "source": [
    "header_numeric"
   ]
  },
  {
   "cell_type": "code",
   "execution_count": 136,
   "id": "f84951c9-3964-440e-95dc-a88ead839ec7",
   "metadata": {},
   "outputs": [],
   "source": [
    "#lo mismo que arriba pero para las 4 columnas y cambiando el valor por el maximo\n",
    "for i in [1,3,4,5]:\n",
    "    loan_data_numeric[:,i] = np.where(loan_data_numeric[:,i]==temporary_fill,\n",
    "                                  temporary_stats[2, columns_numeric[i]],\n",
    "                                  loan_data_numeric[:,i])"
   ]
  },
  {
   "cell_type": "code",
   "execution_count": 137,
   "id": "d3ad0f17-63c1-42e6-aa55-8ee876799942",
   "metadata": {},
   "outputs": [
    {
     "data": {
      "text/plain": [
       "array([[48010226.  ,    35000.  ,    35000.  ,       13.33,     1184.86,     9452.96],\n",
       "       [57693261.  ,    30000.  ,    30000.  ,       28.99,      938.57,     4679.7 ],\n",
       "       [59432726.  ,    15000.  ,    15000.  ,       28.99,      494.86,     1969.83],\n",
       "       ...,\n",
       "       [50415990.  ,    10000.  ,    10000.  ,       28.99,     1372.97,     2185.64],\n",
       "       [46154151.  ,    35000.  ,    10000.  ,       16.55,      354.3 ,     3199.4 ],\n",
       "       [66055249.  ,    10000.  ,    10000.  ,       28.99,      309.97,      301.9 ]])"
      ]
     },
     "execution_count": 137,
     "metadata": {},
     "output_type": "execute_result"
    }
   ],
   "source": [
    "loan_data_numeric"
   ]
  },
  {
   "cell_type": "markdown",
   "id": "34315610-8227-4892-84c4-982b68ad039e",
   "metadata": {},
   "source": [
    "    Currency change"
   ]
  },
  {
   "cell_type": "markdown",
   "id": "1c561e55-4eba-42dd-ba0a-3da91bbbadc7",
   "metadata": {},
   "source": [
    "The exchange rate: tipo de cambio"
   ]
  },
  {
   "cell_type": "code",
   "execution_count": 138,
   "id": "a0d57deb-dff4-4b26-9c8a-d45778f6e872",
   "metadata": {},
   "outputs": [],
   "source": [
    "#necesito los valores en dolares y en euros"
   ]
  },
  {
   "cell_type": "code",
   "execution_count": 140,
   "id": "24118964-260d-4659-b3a4-8c8b61d8eef3",
   "metadata": {},
   "outputs": [
    {
     "data": {
      "text/plain": [
       "array([['Open', 'High', 'Low', 'Close', 'Volume'],\n",
       "       ['1.2098628282546997', '1.2098628282546997', '1.11055588722229', '1.1287955045700073', '0'],\n",
       "       ['1.1287955045700073', '1.1484194993972778', '1.117680549621582', '1.1205360889434814',\n",
       "        '0'],\n",
       "       ['1.119795799255371', '1.1240400075912476', '1.0460032224655151', '1.0830246210098267',\n",
       "        '0'],\n",
       "       ['1.0741022825241089', '1.1247594356536865', '1.0521597862243652', '1.1114321947097778',\n",
       "        '0'],\n",
       "       ['1.1215037107467651', '1.145304799079895', '1.0821995735168457', '1.0960345268249512',\n",
       "        '0'],\n",
       "       ['1.095902442932129', '1.1428401470184326', '1.0888904333114624', '1.122296690940857', '0'],\n",
       "       ['1.1134989261627197', '1.1219995021820068', '1.081270456314087', '1.0939244031906128',\n",
       "        '0'],\n",
       "       ['1.0969001054763794', '1.1705996990203857', '1.0850305557250977', '1.1340054273605347',\n",
       "        '0'],\n",
       "       ['1.1225990056991577', '1.1460003852844238', '1.1089695692062378', '1.1255937814712524',\n",
       "        '0'],\n",
       "       ['1.1171561479568481', '1.1494200229644775', '1.0910003185272217', '1.100897192955017',\n",
       "        '0'],\n",
       "       ['1.1024993658065796', '1.1060001850128174', '1.056400179862976', '1.0583018064498901',\n",
       "        '0'],\n",
       "       ['1.0572947263717651', '1.107000470161438', '1.0541995763778687', '1.093398094177246', '0']],\n",
       "      dtype='<U18')"
      ]
     },
     "execution_count": 140,
     "metadata": {},
     "output_type": "execute_result"
    }
   ],
   "source": [
    "EUR_USD = np.genfromtxt('E:\\FRANCO\\Curso Data Analyst\\S28 - A Loan Data Example with NumPy\\EUR-USD.csv',\n",
    "                        delimiter=',',\n",
    "                        autostrip=True,\n",
    "                       dtype=str)\n",
    "EUR_USD"
   ]
  },
  {
   "cell_type": "code",
   "execution_count": 141,
   "id": "08fe2a00-933b-47ee-9100-3e021336a186",
   "metadata": {},
   "outputs": [
    {
     "data": {
      "text/plain": [
       "array([1.13, 1.12, 1.08, 1.11, 1.1 , 1.12, 1.09, 1.13, 1.13, 1.1 , 1.06, 1.09])"
      ]
     },
     "execution_count": 141,
     "metadata": {},
     "output_type": "execute_result"
    }
   ],
   "source": [
    "#usamos el valor close. Es el valor de cierre del tipo de cambio en un dia.Por lo que solo uso la columna 4\n",
    "EUR_USD = np.genfromtxt('E:\\FRANCO\\Curso Data Analyst\\S28 - A Loan Data Example with NumPy\\EUR-USD.csv',\n",
    "                        delimiter=',',\n",
    "                        autostrip=True,\n",
    "                        usecols=3,\n",
    "                        skip_header=1)\n",
    "EUR_USD"
   ]
  },
  {
   "cell_type": "code",
   "execution_count": 142,
   "id": "cea8c338-7e1c-4c32-a1f6-63ba3b28c7a3",
   "metadata": {},
   "outputs": [
    {
     "data": {
      "text/plain": [
       "array([ 5,  0,  9, ...,  6,  4, 12])"
      ]
     },
     "execution_count": 142,
     "metadata": {},
     "output_type": "execute_result"
    }
   ],
   "source": [
    "loan_data_strings[:,0]  #esta columna son los meses"
   ]
  },
  {
   "cell_type": "code",
   "execution_count": 144,
   "id": "c5158302-c3ab-458f-9b02-78663b9b820b",
   "metadata": {},
   "outputs": [
    {
     "data": {
      "text/plain": [
       "array([1.1 , 1.11, 1.13, ..., 1.12, 1.11, 1.09])"
      ]
     },
     "execution_count": 144,
     "metadata": {},
     "output_type": "execute_result"
    }
   ],
   "source": [
    "exchange_rate = loan_data_strings[:,0]\n",
    "#asigno un tipo de valor de cambio a cada mes\n",
    "for i in range(1,13):\n",
    "    exchange_rate = np.where(exchange_rate==i,\n",
    "                             EUR_USD[i-1],\n",
    "                             exchange_rate)\n",
    "#para las cuentas sin fecha de emision pongo el valor del promedio de cambio de ese año\n",
    "exchange_rate = np.where(exchange_rate==0,\n",
    "                             np.mean(EUR_USD),\n",
    "                             exchange_rate)\n",
    "\n",
    "exchange_rate"
   ]
  },
  {
   "cell_type": "code",
   "execution_count": 145,
   "id": "7776c013-6645-46e6-8883-51e743178155",
   "metadata": {},
   "outputs": [
    {
     "data": {
      "text/plain": [
       "(10000,)"
      ]
     },
     "execution_count": 145,
     "metadata": {},
     "output_type": "execute_result"
    }
   ],
   "source": [
    "#para agregar este valor verifico si tienen las mismas formas\n",
    "exchange_rate.shape"
   ]
  },
  {
   "cell_type": "code",
   "execution_count": 146,
   "id": "2b48692d-c2e5-4b6c-91cb-fbe951963e0c",
   "metadata": {},
   "outputs": [
    {
     "data": {
      "text/plain": [
       "(10000, 6)"
      ]
     },
     "execution_count": 146,
     "metadata": {},
     "output_type": "execute_result"
    }
   ],
   "source": [
    "loan_data_numeric.shape"
   ]
  },
  {
   "cell_type": "code",
   "execution_count": 147,
   "id": "6031349f-2a8f-4b0d-966e-6b64c182f0e7",
   "metadata": {},
   "outputs": [],
   "source": [
    "#como uno es 2D, debo redimensionar\n",
    "exchange_rate = np.reshape(exchange_rate, (10000,1))"
   ]
  },
  {
   "cell_type": "code",
   "execution_count": 149,
   "id": "62c6c23a-a545-4f19-a3e7-72deb9a1b7c6",
   "metadata": {},
   "outputs": [],
   "source": [
    "#agrego horizontalmente esta columna a los datos que tenia\n",
    "loan_data_numeric = np.hstack((loan_data_numeric, exchange_rate))"
   ]
  },
  {
   "cell_type": "code",
   "execution_count": 152,
   "id": "a10e73c8-46f3-4d44-812c-02d04289b1a8",
   "metadata": {},
   "outputs": [
    {
     "data": {
      "text/plain": [
       "array(['id', 'loan_amnt', 'funded_amnt', 'int_rate', 'installment', 'total_pymnt', 'exchange_rate'],\n",
       "      dtype='<U19')"
      ]
     },
     "execution_count": 152,
     "metadata": {},
     "output_type": "execute_result"
    }
   ],
   "source": [
    "#tengo que agregarlo tambien a las cabeceras\n",
    "header_numeric = np.concatenate((header_numeric, np.array(['exchange_rate']))) #lo agrego como arreglo para que no de error\n",
    "header_numeric"
   ]
  },
  {
   "cell_type": "markdown",
   "id": "881f1b92-3b19-4601-837f-b8ffd59428a4",
   "metadata": {},
   "source": [
    "    From US to EUR"
   ]
  },
  {
   "cell_type": "code",
   "execution_count": 153,
   "id": "b30787fe-bb0a-4db7-a11f-c4943bced94e",
   "metadata": {},
   "outputs": [
    {
     "data": {
      "text/plain": [
       "array(['id', 'loan_amnt', 'funded_amnt', 'int_rate', 'installment', 'total_pymnt', 'exchange_rate'],\n",
       "      dtype='<U19')"
      ]
     },
     "execution_count": 153,
     "metadata": {},
     "output_type": "execute_result"
    }
   ],
   "source": [
    "header_numeric #vemos que 4 columnas tienen valores en dolares"
   ]
  },
  {
   "cell_type": "code",
   "execution_count": 154,
   "id": "704c9111-1c33-47a9-8fa7-2e5d230dde78",
   "metadata": {},
   "outputs": [],
   "source": [
    "#creo un arreglo con las columnas que me interesan\n",
    "columns_dollar = np.array([1,2,4,5])"
   ]
  },
  {
   "cell_type": "code",
   "execution_count": 156,
   "id": "1914e387-23f2-4cff-9527-752d132ad354",
   "metadata": {},
   "outputs": [
    {
     "data": {
      "text/plain": [
       "array([1.1 , 1.11, 1.13, ..., 1.12, 1.11, 1.09])"
      ]
     },
     "execution_count": 156,
     "metadata": {},
     "output_type": "execute_result"
    }
   ],
   "source": [
    "loan_data_numeric[:,6]"
   ]
  },
  {
   "cell_type": "code",
   "execution_count": 158,
   "id": "f9d1c997-b6b8-49e3-9f27-c1b0c7a06f2d",
   "metadata": {},
   "outputs": [],
   "source": [
    "#creo matrices apilando nuevas columnas, en las cuales divido el valor de las columnas de interes por el exchange_rate \n",
    "for i in columns_dollar:\n",
    "    loan_data_numeric = np.hstack((loan_data_numeric, np.reshape(loan_data_numeric[:,i]/ loan_data_numeric[:,6],(10000,1))))"
   ]
  },
  {
   "cell_type": "code",
   "execution_count": 160,
   "id": "578ecf39-9dc7-4828-9eef-593bdc4ce8b6",
   "metadata": {},
   "outputs": [
    {
     "data": {
      "text/plain": [
       "(10000, 11)"
      ]
     },
     "execution_count": 160,
     "metadata": {},
     "output_type": "execute_result"
    }
   ],
   "source": [
    "loan_data_numeric.shape #vemos que se agregaron las 4 columnas"
   ]
  },
  {
   "cell_type": "code",
   "execution_count": 161,
   "id": "f927a762-4756-4247-adf6-1af3bcdd0fba",
   "metadata": {},
   "outputs": [
    {
     "data": {
      "text/plain": [
       "array([[48010226.  ,    35000.  ,    35000.  , ...,    31933.3 ,     1081.04,     8624.69],\n",
       "       [57693261.  ,    30000.  ,    30000.  , ...,    27132.46,      848.86,     4232.39],\n",
       "       [59432726.  ,    15000.  ,    15000.  , ...,    13326.3 ,      439.64,     1750.04],\n",
       "       ...,\n",
       "       [50415990.  ,    10000.  ,    10000.  , ...,     8910.3 ,     1223.36,     1947.47],\n",
       "       [46154151.  ,    35000.  ,    10000.  , ...,     8997.4 ,      318.78,     2878.63],\n",
       "       [66055249.  ,    10000.  ,    10000.  , ...,     9145.8 ,      283.49,      276.11]])"
      ]
     },
     "execution_count": 161,
     "metadata": {},
     "output_type": "execute_result"
    }
   ],
   "source": [
    "loan_data_numeric"
   ]
  },
  {
   "cell_type": "code",
   "execution_count": 162,
   "id": "f2876b47-b647-44fc-a0d5-831d75e4088e",
   "metadata": {},
   "outputs": [],
   "source": [
    "#Necesito expandir la cabecera (header) tambien"
   ]
  },
  {
   "cell_type": "code",
   "execution_count": 163,
   "id": "669c6804-36a5-46fb-9280-9b9e963bc744",
   "metadata": {},
   "outputs": [],
   "source": [
    "header_aditional = np.array([column_name + '_EUR' for column_name in header_numeric[columns_dollar]])"
   ]
  },
  {
   "cell_type": "code",
   "execution_count": 164,
   "id": "43101c1f-0181-401b-b595-b52e468f201d",
   "metadata": {},
   "outputs": [
    {
     "data": {
      "text/plain": [
       "array(['loan_amnt_EUR', 'funded_amnt_EUR', 'installment_EUR', 'total_pymnt_EUR'], dtype='<U15')"
      ]
     },
     "execution_count": 164,
     "metadata": {},
     "output_type": "execute_result"
    }
   ],
   "source": [
    "header_aditional"
   ]
  },
  {
   "cell_type": "code",
   "execution_count": 165,
   "id": "bb986957-a073-403d-9df8-87187547d38f",
   "metadata": {},
   "outputs": [
    {
     "data": {
      "text/plain": [
       "array(['id', 'loan_amnt', 'funded_amnt', 'int_rate', 'installment', 'total_pymnt', 'exchange_rate',\n",
       "       'loan_amnt_EUR', 'funded_amnt_EUR', 'installment_EUR', 'total_pymnt_EUR'], dtype='<U19')"
      ]
     },
     "execution_count": 165,
     "metadata": {},
     "output_type": "execute_result"
    }
   ],
   "source": [
    "#agrego este arreglo a la cabecera\n",
    "header_numeric = np.concatenate((header_numeric, header_aditional))\n",
    "header_numeric"
   ]
  },
  {
   "cell_type": "code",
   "execution_count": 166,
   "id": "2e1d3542-ca13-478f-80fd-e55199c8b9be",
   "metadata": {},
   "outputs": [],
   "source": [
    "#no esta claro que los otros valores esten en dolares por lo que lo modifico al nombre\n",
    "header_numeric[columns_dollar] = np.array([column_name + '_USD' for column_name in header_numeric[columns_dollar]])"
   ]
  },
  {
   "cell_type": "code",
   "execution_count": 167,
   "id": "cf1620c6-8e91-4f0d-911c-20e7968df350",
   "metadata": {},
   "outputs": [
    {
     "data": {
      "text/plain": [
       "array(['id', 'loan_amnt_USD', 'funded_amnt_USD', 'int_rate', 'installment_USD', 'total_pymnt_USD',\n",
       "       'exchange_rate', 'loan_amnt_EUR', 'funded_amnt_EUR', 'installment_EUR', 'total_pymnt_EUR'],\n",
       "      dtype='<U19')"
      ]
     },
     "execution_count": 167,
     "metadata": {},
     "output_type": "execute_result"
    }
   ],
   "source": [
    "header_numeric"
   ]
  },
  {
   "cell_type": "code",
   "execution_count": 169,
   "id": "318cd59b-997c-4792-82af-7b555f8a432b",
   "metadata": {},
   "outputs": [],
   "source": [
    "#quiero que las columnas de usd y eur esten una al lado de la otra, reordeno\n",
    "columns_index_order = [0,1,7,2,8,3,4,9,5,10,6]"
   ]
  },
  {
   "cell_type": "code",
   "execution_count": 171,
   "id": "69662cde-7a46-41db-8807-929486b95cd7",
   "metadata": {},
   "outputs": [],
   "source": [
    "header_numeric = header_numeric[columns_index_order]"
   ]
  },
  {
   "cell_type": "code",
   "execution_count": 173,
   "id": "46994a3d-6e21-4780-b1db-e78378956821",
   "metadata": {},
   "outputs": [
    {
     "data": {
      "text/plain": [
       "array(['id', 'loan_amnt_USD', 'loan_amnt_EUR', 'funded_amnt_USD', 'funded_amnt_EUR', 'int_rate',\n",
       "       'installment_USD', 'installment_EUR', 'total_pymnt_USD', 'total_pymnt_EUR', 'exchange_rate'],\n",
       "      dtype='<U19')"
      ]
     },
     "execution_count": 173,
     "metadata": {},
     "output_type": "execute_result"
    }
   ],
   "source": [
    "header_numeric #verifico"
   ]
  },
  {
   "cell_type": "code",
   "execution_count": 174,
   "id": "d16e0124-3a47-4b37-8751-f8202281e5b6",
   "metadata": {},
   "outputs": [],
   "source": [
    "#lo mismo pero con las columnas \n",
    "loan_data_numeric = loan_data_numeric[:,columns_index_order]"
   ]
  },
  {
   "cell_type": "code",
   "execution_count": 175,
   "id": "352fd6e5-017c-4678-9951-87820c0eaaaa",
   "metadata": {},
   "outputs": [
    {
     "data": {
      "text/plain": [
       "array([[48010226.  ,    35000.  ,    31933.3 , ...,     9452.96,     8624.69,        1.1 ],\n",
       "       [57693261.  ,    30000.  ,    27132.46, ...,     4679.7 ,     4232.39,        1.11],\n",
       "       [59432726.  ,    15000.  ,    13326.3 , ...,     1969.83,     1750.04,        1.13],\n",
       "       ...,\n",
       "       [50415990.  ,    10000.  ,     8910.3 , ...,     2185.64,     1947.47,        1.12],\n",
       "       [46154151.  ,    35000.  ,    31490.9 , ...,     3199.4 ,     2878.63,        1.11],\n",
       "       [66055249.  ,    10000.  ,     9145.8 , ...,      301.9 ,      276.11,        1.09]])"
      ]
     },
     "execution_count": 175,
     "metadata": {},
     "output_type": "execute_result"
    }
   ],
   "source": [
    "loan_data_numeric"
   ]
  },
  {
   "cell_type": "markdown",
   "id": "b6c43b61-8025-4dc4-a80d-d8068b5bf5b7",
   "metadata": {},
   "source": [
    "    Interest rate"
   ]
  },
  {
   "cell_type": "code",
   "execution_count": 176,
   "id": "0bbbfb6d-42f8-44f9-a05a-2d67a62dc006",
   "metadata": {},
   "outputs": [
    {
     "data": {
      "text/plain": [
       "array(['id', 'loan_amnt_USD', 'loan_amnt_EUR', 'funded_amnt_USD', 'funded_amnt_EUR', 'int_rate',\n",
       "       'installment_USD', 'installment_EUR', 'total_pymnt_USD', 'total_pymnt_EUR', 'exchange_rate'],\n",
       "      dtype='<U19')"
      ]
     },
     "execution_count": 176,
     "metadata": {},
     "output_type": "execute_result"
    }
   ],
   "source": [
    "header_numeric"
   ]
  },
  {
   "cell_type": "code",
   "execution_count": 177,
   "id": "16a08346-35cd-4781-91d6-ab3e90a7bb3e",
   "metadata": {},
   "outputs": [
    {
     "data": {
      "text/plain": [
       "array([13.33, 28.99, 28.99, ..., 28.99, 16.55, 28.99])"
      ]
     },
     "execution_count": 177,
     "metadata": {},
     "output_type": "execute_result"
    }
   ],
   "source": [
    "loan_data_numeric[:,5]"
   ]
  },
  {
   "cell_type": "code",
   "execution_count": 179,
   "id": "cf673f5f-b5e6-4dc3-8010-eef8a389e445",
   "metadata": {},
   "outputs": [],
   "source": [
    "#divido por 100 para darle formato entre 0 y 1 en vez de porcentajes\n",
    "loan_data_numeric[:,5] = loan_data_numeric[:,5]/100"
   ]
  },
  {
   "cell_type": "code",
   "execution_count": 180,
   "id": "e2247ac4-1509-45a1-b98e-5507a100f781",
   "metadata": {},
   "outputs": [
    {
     "data": {
      "text/plain": [
       "array([0.13, 0.29, 0.29, ..., 0.29, 0.17, 0.29])"
      ]
     },
     "execution_count": 180,
     "metadata": {},
     "output_type": "execute_result"
    }
   ],
   "source": [
    "loan_data_numeric[:,5]"
   ]
  },
  {
   "cell_type": "markdown",
   "id": "d3c75985-ecb3-418c-b953-a40dcdae3da5",
   "metadata": {},
   "source": [
    "    CHECKPOINT 2: NUMERIC"
   ]
  },
  {
   "cell_type": "code",
   "execution_count": 182,
   "id": "6e2700c5-105d-49e1-be0c-eaebecc3f398",
   "metadata": {},
   "outputs": [],
   "source": [
    "checkpoint_numeric = checkpoint(\"Checkpoint-Numeric\", header_numeric, loan_data_numeric)"
   ]
  },
  {
   "cell_type": "code",
   "execution_count": 183,
   "id": "ce73f018-85a2-412c-8126-45d066663dcd",
   "metadata": {},
   "outputs": [
    {
     "data": {
      "text/plain": [
       "array(['id', 'loan_amnt_USD', 'loan_amnt_EUR', 'funded_amnt_USD', 'funded_amnt_EUR', 'int_rate',\n",
       "       'installment_USD', 'installment_EUR', 'total_pymnt_USD', 'total_pymnt_EUR', 'exchange_rate'],\n",
       "      dtype='<U19')"
      ]
     },
     "execution_count": 183,
     "metadata": {},
     "output_type": "execute_result"
    }
   ],
   "source": [
    "checkpoint_numeric['header']"
   ]
  },
  {
   "cell_type": "code",
   "execution_count": 184,
   "id": "aae73385-f6e3-4d1b-b7cb-f6c146ab96b8",
   "metadata": {},
   "outputs": [
    {
     "data": {
      "text/plain": [
       "array([[48010226.  ,    35000.  ,    31933.3 , ...,     9452.96,     8624.69,        1.1 ],\n",
       "       [57693261.  ,    30000.  ,    27132.46, ...,     4679.7 ,     4232.39,        1.11],\n",
       "       [59432726.  ,    15000.  ,    13326.3 , ...,     1969.83,     1750.04,        1.13],\n",
       "       ...,\n",
       "       [50415990.  ,    10000.  ,     8910.3 , ...,     2185.64,     1947.47,        1.12],\n",
       "       [46154151.  ,    35000.  ,    31490.9 , ...,     3199.4 ,     2878.63,        1.11],\n",
       "       [66055249.  ,    10000.  ,     9145.8 , ...,      301.9 ,      276.11,        1.09]])"
      ]
     },
     "execution_count": 184,
     "metadata": {},
     "output_type": "execute_result"
    }
   ],
   "source": [
    "checkpoint_numeric['data']"
   ]
  },
  {
   "cell_type": "markdown",
   "id": "c329246f-9ff0-4c13-ac32-ae84e4b28f0b",
   "metadata": {},
   "source": [
    "    Creando el dataser Completo"
   ]
  },
  {
   "cell_type": "code",
   "execution_count": 185,
   "id": "8c4e7307-f3d8-4049-b35d-528094419c60",
   "metadata": {},
   "outputs": [],
   "source": [
    "#ahora voy a unir las partes numericas y strings en un solo dataset"
   ]
  },
  {
   "cell_type": "code",
   "execution_count": 186,
   "id": "84111421-2bfe-4773-9cac-322053142c14",
   "metadata": {},
   "outputs": [
    {
     "data": {
      "text/plain": [
       "(10000, 11)"
      ]
     },
     "execution_count": 186,
     "metadata": {},
     "output_type": "execute_result"
    }
   ],
   "source": [
    "checkpoint_numeric['data'].shape"
   ]
  },
  {
   "cell_type": "code",
   "execution_count": 187,
   "id": "1b6febe3-a65d-4b95-8520-5f1b6df83117",
   "metadata": {},
   "outputs": [
    {
     "data": {
      "text/plain": [
       "(10000, 6)"
      ]
     },
     "execution_count": 187,
     "metadata": {},
     "output_type": "execute_result"
    }
   ],
   "source": [
    "checkpoint_strings['data'].shape"
   ]
  },
  {
   "cell_type": "code",
   "execution_count": 188,
   "id": "183cb0ed-1fd9-4979-be93-295773962317",
   "metadata": {},
   "outputs": [],
   "source": [
    "#como tienen el mismo numero de filas los puedo apilar uno al lado del otro"
   ]
  },
  {
   "cell_type": "code",
   "execution_count": 190,
   "id": "2f37faa1-31bc-43ec-a932-2a1eeb1858b2",
   "metadata": {},
   "outputs": [],
   "source": [
    "loan_data = np.hstack((checkpoint_numeric['data'], checkpoint_strings['data']))"
   ]
  },
  {
   "cell_type": "code",
   "execution_count": 191,
   "id": "76a1eef9-e6ee-4fc2-b6cb-d234d52f4072",
   "metadata": {},
   "outputs": [
    {
     "data": {
      "text/plain": [
       "array([[48010226.  ,    35000.  ,    31933.3 , ...,       13.  ,        1.  ,        1.  ],\n",
       "       [57693261.  ,    30000.  ,    27132.46, ...,        5.  ,        1.  ,        4.  ],\n",
       "       [59432726.  ,    15000.  ,    13326.3 , ...,       10.  ,        1.  ,        4.  ],\n",
       "       ...,\n",
       "       [50415990.  ,    10000.  ,     8910.3 , ...,        5.  ,        1.  ,        1.  ],\n",
       "       [46154151.  ,    35000.  ,    31490.9 , ...,       17.  ,        1.  ,        3.  ],\n",
       "       [66055249.  ,    10000.  ,     9145.8 , ...,        4.  ,        0.  ,        3.  ]])"
      ]
     },
     "execution_count": 191,
     "metadata": {},
     "output_type": "execute_result"
    }
   ],
   "source": [
    "loan_data"
   ]
  },
  {
   "cell_type": "code",
   "execution_count": 192,
   "id": "c256a9bc-6262-4634-8a66-21fb9d447ed1",
   "metadata": {},
   "outputs": [
    {
     "data": {
      "text/plain": [
       "0"
      ]
     },
     "execution_count": 192,
     "metadata": {},
     "output_type": "execute_result"
    }
   ],
   "source": [
    "#verifico que no haya valores faltantes , ya que anteriormente los trate\n",
    "np.isnan(loan_data).sum()"
   ]
  },
  {
   "cell_type": "code",
   "execution_count": 194,
   "id": "dd41d2e0-105e-42db-b875-0cf5bbd80e0f",
   "metadata": {},
   "outputs": [],
   "source": [
    "#concateno las cabeceras\n",
    "header_full = np.concatenate((checkpoint_numeric['header'], checkpoint_strings['header']))"
   ]
  },
  {
   "cell_type": "markdown",
   "id": "870a6935-1f7f-45cc-831a-c6136d450580",
   "metadata": {},
   "source": [
    "    Sorting (ordenando) el nuevo DataSet"
   ]
  },
  {
   "cell_type": "code",
   "execution_count": 198,
   "id": "b114fb7a-e3de-4b79-850e-66a4a6dae76f",
   "metadata": {},
   "outputs": [],
   "source": [
    "#lo voy a ordenar de acuerdo a su id (columna 0)\n",
    "loan_data = loan_data[np.argsort(loan_data[:,0])]"
   ]
  },
  {
   "cell_type": "code",
   "execution_count": 199,
   "id": "3016d1b9-5369-44b6-a75b-ff8b959d268c",
   "metadata": {},
   "outputs": [
    {
     "data": {
      "text/plain": [
       "array([[  373332.  ,     9950.  ,     9038.08, ...,       21.  ,        0.  ,        1.  ],\n",
       "       [  575239.  ,    12000.  ,    10900.2 , ...,       25.  ,        1.  ,        2.  ],\n",
       "       [  707689.  ,    10000.  ,     8924.3 , ...,       13.  ,        1.  ,        0.  ],\n",
       "       ...,\n",
       "       [68614880.  ,     5600.  ,     5121.65, ...,        8.  ,        1.  ,        1.  ],\n",
       "       [68615915.  ,     4000.  ,     3658.32, ...,       10.  ,        1.  ,        2.  ],\n",
       "       [68616519.  ,    21600.  ,    19754.93, ...,        3.  ,        0.  ,        2.  ]])"
      ]
     },
     "execution_count": 199,
     "metadata": {},
     "output_type": "execute_result"
    }
   ],
   "source": [
    "loan_data"
   ]
  },
  {
   "cell_type": "code",
   "execution_count": 201,
   "id": "3442749a-c747-4ccb-9408-178926c06a6a",
   "metadata": {},
   "outputs": [
    {
     "data": {
      "text/plain": [
       "array([   0,    1,    2, ..., 9997, 9998, 9999], dtype=int64)"
      ]
     },
     "execution_count": 201,
     "metadata": {},
     "output_type": "execute_result"
    }
   ],
   "source": [
    "#verifico\n",
    "np.argsort(loan_data[:,0])"
   ]
  },
  {
   "cell_type": "code",
   "execution_count": 203,
   "id": "101fb269-2034-41c5-b79c-87f7e087ad58",
   "metadata": {},
   "outputs": [],
   "source": [
    "#apilo la cabecera arriba de esta matriz\n",
    "loan_data = np.vstack((header_full, loan_data))"
   ]
  },
  {
   "cell_type": "code",
   "execution_count": 204,
   "id": "8291dfd0-4e95-4dd2-969f-8a6e6ae42ca4",
   "metadata": {},
   "outputs": [],
   "source": [
    "#guardamos en un nuevo archivo\n",
    "np.savetxt(\"loan-data.preprocessed.csv\",\n",
    "           loan_data,\n",
    "           fmt='%s',\n",
    "           delimiter=',')"
   ]
  },
  {
   "cell_type": "code",
   "execution_count": null,
   "id": "5a22a961-6ae4-44de-80ab-281c49dfae03",
   "metadata": {},
   "outputs": [],
   "source": []
  }
 ],
 "metadata": {
  "kernelspec": {
   "display_name": "Python 3 (ipykernel)",
   "language": "python",
   "name": "python3"
  },
  "language_info": {
   "codemirror_mode": {
    "name": "ipython",
    "version": 3
   },
   "file_extension": ".py",
   "mimetype": "text/x-python",
   "name": "python",
   "nbconvert_exporter": "python",
   "pygments_lexer": "ipython3",
   "version": "3.11.7"
  }
 },
 "nbformat": 4,
 "nbformat_minor": 5
}
