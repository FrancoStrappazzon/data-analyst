{
 "cells": [
  {
   "cell_type": "code",
   "execution_count": 1,
   "id": "54826cfd-198f-4da3-ab92-4b2aae73de94",
   "metadata": {},
   "outputs": [],
   "source": [
    "import numpy as np"
   ]
  },
  {
   "cell_type": "code",
   "execution_count": 2,
   "id": "30d0356d-b5ca-441c-a97a-47a0fd9fb7d9",
   "metadata": {},
   "outputs": [],
   "source": [
    "#mean() function"
   ]
  },
  {
   "cell_type": "code",
   "execution_count": 3,
   "id": "4dcf4218-1fa6-4f93-87c5-d9be51491705",
   "metadata": {},
   "outputs": [
    {
     "data": {
      "text/plain": [
       "array([[1, 0, 0, 3, 1],\n",
       "       [3, 6, 6, 2, 9],\n",
       "       [4, 5, 3, 8, 0]])"
      ]
     },
     "execution_count": 3,
     "metadata": {},
     "output_type": "execute_result"
    }
   ],
   "source": [
    "matrix_A = np.array([[1,0,0,3,1],[3,6,6,2,9],[4,5,3,8,0]])\n",
    "matrix_A"
   ]
  },
  {
   "cell_type": "markdown",
   "id": "308c83a4-6342-4e2f-a520-6e1687eb1377",
   "metadata": {},
   "source": [
    "        Promedio"
   ]
  },
  {
   "cell_type": "code",
   "execution_count": 5,
   "id": "ca25d070-9273-4d68-b093-077af0a8b73c",
   "metadata": {},
   "outputs": [
    {
     "data": {
      "text/plain": [
       "3.4"
      ]
     },
     "execution_count": 5,
     "metadata": {},
     "output_type": "execute_result"
    }
   ],
   "source": [
    "#promedio de todos los elementos\n",
    "np.mean(matrix_A)"
   ]
  },
  {
   "cell_type": "code",
   "execution_count": 6,
   "id": "99ac0c62-6149-4238-a413-e6e530079a4a",
   "metadata": {},
   "outputs": [
    {
     "data": {
      "text/plain": [
       "1.0"
      ]
     },
     "execution_count": 6,
     "metadata": {},
     "output_type": "execute_result"
    }
   ],
   "source": [
    "#promedio primera fila\n",
    "np.mean(matrix_A[0])"
   ]
  },
  {
   "cell_type": "code",
   "execution_count": 8,
   "id": "3b3f6383-5465-412f-8924-c6e69912bad4",
   "metadata": {},
   "outputs": [
    {
     "data": {
      "text/plain": [
       "2.6666666666666665"
      ]
     },
     "execution_count": 8,
     "metadata": {},
     "output_type": "execute_result"
    }
   ],
   "source": [
    "#promedio primer columna\n",
    "np.mean(matrix_A[:,0])"
   ]
  },
  {
   "cell_type": "code",
   "execution_count": 9,
   "id": "b18a4ee8-d840-4813-befe-8a7ba699d10d",
   "metadata": {},
   "outputs": [
    {
     "data": {
      "text/plain": [
       "array([2.66666667, 3.66666667, 3.        , 4.33333333, 3.33333333])"
      ]
     },
     "execution_count": 9,
     "metadata": {},
     "output_type": "execute_result"
    }
   ],
   "source": [
    "#promedio de todas las columnas\n",
    "np.mean(matrix_A, axis=0)"
   ]
  },
  {
   "cell_type": "code",
   "execution_count": 10,
   "id": "41e04027-a22d-4376-b90e-4c90789dfca6",
   "metadata": {},
   "outputs": [
    {
     "data": {
      "text/plain": [
       "array([1. , 5.2, 4. ])"
      ]
     },
     "execution_count": 10,
     "metadata": {},
     "output_type": "execute_result"
    }
   ],
   "source": [
    "#promedio de todas las filas\n",
    "np.mean(matrix_A, axis=1)"
   ]
  },
  {
   "cell_type": "markdown",
   "id": "da7a7b70-42a2-4a76-b8a0-2e3d045df950",
   "metadata": {},
   "source": [
    "        Valores maximos y minimos"
   ]
  },
  {
   "cell_type": "code",
   "execution_count": 11,
   "id": "ba0e00c7-46da-4262-a613-7f51eed71c63",
   "metadata": {},
   "outputs": [
    {
     "data": {
      "text/plain": [
       "0"
      ]
     },
     "execution_count": 11,
     "metadata": {},
     "output_type": "execute_result"
    }
   ],
   "source": [
    "#valor mas chico de la matriz\n",
    "np.min(matrix_A)"
   ]
  },
  {
   "cell_type": "code",
   "execution_count": 12,
   "id": "703342c6-dbd1-4a82-acfb-58c1b71df3b2",
   "metadata": {},
   "outputs": [
    {
     "data": {
      "text/plain": [
       "2"
      ]
     },
     "execution_count": 12,
     "metadata": {},
     "output_type": "execute_result"
    }
   ],
   "source": [
    "#valor mas chico de la fila 2\n",
    "np.min(matrix_A[1])"
   ]
  },
  {
   "cell_type": "code",
   "execution_count": 13,
   "id": "73e33844-bb5e-4b0e-a493-b7371e91f43a",
   "metadata": {},
   "outputs": [
    {
     "data": {
      "text/plain": [
       "2"
      ]
     },
     "execution_count": 13,
     "metadata": {},
     "output_type": "execute_result"
    }
   ],
   "source": [
    "#valor minimo de un array. Funciona igual que min()\n",
    "np.amin(matrix_A[1])"
   ]
  },
  {
   "cell_type": "code",
   "execution_count": 14,
   "id": "33d8e275-d108-4c08-ac84-91c75828ff85",
   "metadata": {},
   "outputs": [
    {
     "data": {
      "text/plain": [
       "array([1, 0, 0, 3, 0])"
      ]
     },
     "execution_count": 14,
     "metadata": {},
     "output_type": "execute_result"
    }
   ],
   "source": [
    "#toma dos matrices o arreglos y crea una nueva con los valores mimnimos comparando las 2\n",
    "np.minimum(matrix_A[0], matrix_A[2])"
   ]
  },
  {
   "cell_type": "code",
   "execution_count": 15,
   "id": "f7d65848-7053-41bf-8062-2a8167adb853",
   "metadata": {},
   "outputs": [
    {
     "data": {
      "text/plain": [
       "array([1, 0, 0, 2, 0])"
      ]
     },
     "execution_count": 15,
     "metadata": {},
     "output_type": "execute_result"
    }
   ],
   "source": [
    "#puedo dividir la matriz por filas con reduce\n",
    "np.minimum.reduce(matrix_A)"
   ]
  },
  {
   "cell_type": "code",
   "execution_count": 16,
   "id": "f01cefec-4558-45cf-9292-cc9711771ac1",
   "metadata": {},
   "outputs": [
    {
     "data": {
      "text/plain": [
       "9"
      ]
     },
     "execution_count": 16,
     "metadata": {},
     "output_type": "execute_result"
    }
   ],
   "source": [
    "np.max(matrix_A)"
   ]
  },
  {
   "cell_type": "code",
   "execution_count": 17,
   "id": "41d34309-d079-4bdf-a518-b7cd336cbe6c",
   "metadata": {},
   "outputs": [
    {
     "data": {
      "text/plain": [
       "9"
      ]
     },
     "execution_count": 17,
     "metadata": {},
     "output_type": "execute_result"
    }
   ],
   "source": [
    "np.amax(matrix_A)"
   ]
  },
  {
   "cell_type": "code",
   "execution_count": 18,
   "id": "6487a4a8-18e3-47cd-b7fd-d96aae6314ab",
   "metadata": {},
   "outputs": [
    {
     "data": {
      "text/plain": [
       "array([4, 6, 6, 8, 9])"
      ]
     },
     "execution_count": 18,
     "metadata": {},
     "output_type": "execute_result"
    }
   ],
   "source": [
    "np.maximum.reduce(matrix_A)"
   ]
  },
  {
   "cell_type": "markdown",
   "id": "0a8299b1-1eee-4a48-a506-16bd3eb76914",
   "metadata": {},
   "source": [
    "        Statistical order functions"
   ]
  },
  {
   "cell_type": "code",
   "execution_count": 19,
   "id": "fbde5395-f2b5-489e-9179-35fbdf1cc90d",
   "metadata": {},
   "outputs": [
    {
     "data": {
      "text/plain": [
       "array([[1, 0, 0, 3, 1],\n",
       "       [3, 6, 6, 2, 9],\n",
       "       [4, 5, 3, 8, 0]])"
      ]
     },
     "execution_count": 19,
     "metadata": {},
     "output_type": "execute_result"
    }
   ],
   "source": [
    "matrix_A"
   ]
  },
  {
   "cell_type": "code",
   "execution_count": 20,
   "id": "a3100a36-3291-45f4-86ee-5c9b114c0545",
   "metadata": {},
   "outputs": [
    {
     "data": {
      "text/plain": [
       "9"
      ]
     },
     "execution_count": 20,
     "metadata": {},
     "output_type": "execute_result"
    }
   ],
   "source": [
    "#peack to peack. Devuelve la diferencia entre el valor mas alto y el mas bajo\n",
    "np.ptp(matrix_A)"
   ]
  },
  {
   "cell_type": "code",
   "execution_count": 21,
   "id": "152dcdb1-1fc1-4d15-a432-310ac80568a9",
   "metadata": {},
   "outputs": [
    {
     "data": {
      "text/plain": [
       "array([3, 6, 6, 6, 9])"
      ]
     },
     "execution_count": 21,
     "metadata": {},
     "output_type": "execute_result"
    }
   ],
   "source": [
    "np.ptp(matrix_A, axis=0)"
   ]
  },
  {
   "cell_type": "code",
   "execution_count": 22,
   "id": "4392bfbb-b4f7-4c7b-9788-4feed0b482df",
   "metadata": {},
   "outputs": [
    {
     "data": {
      "text/plain": [
       "array([3, 7, 8])"
      ]
     },
     "execution_count": 22,
     "metadata": {},
     "output_type": "execute_result"
    }
   ],
   "source": [
    "np.ptp(matrix_A, axis=1)"
   ]
  },
  {
   "cell_type": "code",
   "execution_count": 23,
   "id": "da45097e-1c63-4bea-93bc-91059bbb53c4",
   "metadata": {},
   "outputs": [],
   "source": [
    "#percentile 70 es mayor al 70% de los valores"
   ]
  },
  {
   "cell_type": "code",
   "execution_count": 25,
   "id": "46a6db8a-d1c6-4a3c-aea4-487aee17bfec",
   "metadata": {},
   "outputs": [
    {
     "data": {
      "text/plain": [
       "array([0, 0, 0, 1, 1, 2, 3, 3, 3, 4, 5, 6, 6, 8, 9])"
      ]
     },
     "execution_count": 25,
     "metadata": {},
     "output_type": "execute_result"
    }
   ],
   "source": [
    "np.sort(matrix_A, axis=None) #ordeno la matriz para visualizar mejor"
   ]
  },
  {
   "cell_type": "code",
   "execution_count": 29,
   "id": "799d9540-b22e-478f-93d8-c0d60b01fe59",
   "metadata": {},
   "outputs": [
    {
     "data": {
      "text/plain": [
       "4.5"
      ]
     },
     "execution_count": 29,
     "metadata": {},
     "output_type": "execute_result"
    }
   ],
   "source": [
    "#toma el valor en el 70% de la matriz, como tengo 15 datos seria entre el dato 10 y 11 (4 y 5 en este caso).Usa interpolacion\n",
    "np.percentile(matrix_A, 70, interpolation =\"midpoint\")"
   ]
  },
  {
   "cell_type": "code",
   "execution_count": 33,
   "id": "388ae68f-feec-43f7-aed9-83053312872b",
   "metadata": {},
   "outputs": [
    {
     "data": {
      "text/plain": [
       "3.0"
      ]
     },
     "execution_count": 33,
     "metadata": {},
     "output_type": "execute_result"
    }
   ],
   "source": [
    "#con percentile = 50 tengo la mediana. Con 0 tengo el minimo y con 100 el maximo\n",
    "np.percentile(matrix_A, 50)"
   ]
  },
  {
   "cell_type": "code",
   "execution_count": 35,
   "id": "1d2b9b61-f6f5-40cb-b8bb-8c0f869e4439",
   "metadata": {},
   "outputs": [
    {
     "data": {
      "text/plain": [
       "4.5"
      ]
     },
     "execution_count": 35,
     "metadata": {},
     "output_type": "execute_result"
    }
   ],
   "source": [
    "#quantile es como el percentile pero va de 0 a 1\n",
    "np.quantile(matrix_A, 0.70, interpolation= \"midpoint\")"
   ]
  },
  {
   "cell_type": "markdown",
   "id": "f20606d3-c836-464a-a966-4c9da01ea325",
   "metadata": {},
   "source": [
    "        Average and variances"
   ]
  },
  {
   "cell_type": "code",
   "execution_count": 37,
   "id": "9b60de36-3fa5-480d-b974-56b0f1638cc1",
   "metadata": {},
   "outputs": [
    {
     "data": {
      "text/plain": [
       "3.0"
      ]
     },
     "execution_count": 37,
     "metadata": {},
     "output_type": "execute_result"
    }
   ],
   "source": [
    "#mediana: valor medio de la matriz ordenada\n",
    "np.median(matrix_A)"
   ]
  },
  {
   "cell_type": "code",
   "execution_count": 38,
   "id": "2f8ee676-6dec-49be-8042-914d07d04336",
   "metadata": {},
   "outputs": [
    {
     "data": {
      "text/plain": [
       "3.4"
      ]
     },
     "execution_count": 38,
     "metadata": {},
     "output_type": "execute_result"
    }
   ],
   "source": [
    "np.mean(matrix_A)"
   ]
  },
  {
   "cell_type": "code",
   "execution_count": 40,
   "id": "cbb0b5da-39d7-481a-ac65-336274972267",
   "metadata": {},
   "outputs": [
    {
     "data": {
      "text/plain": [
       "3.4"
      ]
     },
     "execution_count": 40,
     "metadata": {},
     "output_type": "execute_result"
    }
   ],
   "source": [
    "#promedio. Igual que la media\n",
    "np.average(matrix_A)"
   ]
  },
  {
   "cell_type": "code",
   "execution_count": 43,
   "id": "c5748737-41bc-4fe5-a7c2-25de4b182738",
   "metadata": {},
   "outputs": [
    {
     "data": {
      "text/plain": [
       "array([[0.75915734, 0.7662218 , 0.6291028 , 0.20336599, 0.66501486],\n",
       "       [0.06559111, 0.71326309, 0.10812106, 0.87969046, 0.49405844],\n",
       "       [0.82472673, 0.45652944, 0.07367232, 0.69628564, 0.36690736]])"
      ]
     },
     "execution_count": 43,
     "metadata": {},
     "output_type": "execute_result"
    }
   ],
   "source": [
    "#veo la diferencia entre media y promedio. Genero valores aleatorios primero\n",
    "from numpy.random import Generator as gen\n",
    "from numpy.random import PCG64 as pcg\n",
    "\n",
    "array_RG = gen(pcg(365))\n",
    "\n",
    "array_weights = array_RG.random(size=(3,5))\n",
    "array_weights"
   ]
  },
  {
   "cell_type": "code",
   "execution_count": 45,
   "id": "64abd291-8d76-4af3-8d68-1eeb9cc2823d",
   "metadata": {},
   "outputs": [
    {
     "data": {
      "text/plain": [
       "0.662051781817159"
      ]
     },
     "execution_count": 45,
     "metadata": {},
     "output_type": "execute_result"
    }
   ],
   "source": [
    "np.average(array_weights, weights = array_weights)"
   ]
  },
  {
   "cell_type": "code",
   "execution_count": 47,
   "id": "5e1e25c7-7816-41a1-9b1b-a7799ff402c6",
   "metadata": {},
   "outputs": [
    {
     "data": {
      "text/plain": [
       "0.5134472293714308"
      ]
     },
     "execution_count": 47,
     "metadata": {},
     "output_type": "execute_result"
    }
   ],
   "source": [
    "np.mean(array_weights)"
   ]
  },
  {
   "cell_type": "code",
   "execution_count": 49,
   "id": "81915594-d8ca-4778-a9bf-3750f142b96b",
   "metadata": {},
   "outputs": [
    {
     "data": {
      "text/plain": [
       "7.84"
      ]
     },
     "execution_count": 49,
     "metadata": {},
     "output_type": "execute_result"
    }
   ],
   "source": [
    "#varianza \n",
    "np.var(matrix_A)"
   ]
  },
  {
   "cell_type": "code",
   "execution_count": 50,
   "id": "1e98e085-d8df-4b4d-9ae2-332923ac288d",
   "metadata": {},
   "outputs": [
    {
     "data": {
      "text/plain": [
       "2.8"
      ]
     },
     "execution_count": 50,
     "metadata": {},
     "output_type": "execute_result"
    }
   ],
   "source": [
    "#standar desviation\n",
    "np.std(matrix_A)"
   ]
  },
  {
   "cell_type": "code",
   "execution_count": 51,
   "id": "87a5bf23-e4c4-46a2-b303-8c904e075f38",
   "metadata": {},
   "outputs": [
    {
     "data": {
      "text/plain": [
       "7.839999999999999"
      ]
     },
     "execution_count": 51,
     "metadata": {},
     "output_type": "execute_result"
    }
   ],
   "source": [
    "#verificando que el cuadrado de la desviacion estandar es la varianza\n",
    "2.8**2"
   ]
  },
  {
   "cell_type": "markdown",
   "id": "8d612ea9-69ae-493f-bba5-eaefc672e8ab",
   "metadata": {},
   "source": [
    "        Covarianza y correlacion"
   ]
  },
  {
   "cell_type": "code",
   "execution_count": 52,
   "id": "c726a3f4-494e-4921-92f5-4fdc90afedfc",
   "metadata": {},
   "outputs": [
    {
     "data": {
      "text/plain": [
       "array([[ 1.5, -2. ,  2. ],\n",
       "       [-2. ,  7.7, -7. ],\n",
       "       [ 2. , -7. ,  8.5]])"
      ]
     },
     "execution_count": 52,
     "metadata": {},
     "output_type": "execute_result"
    }
   ],
   "source": [
    "#covarianza\n",
    "np.cov(matrix_A)"
   ]
  },
  {
   "cell_type": "code",
   "execution_count": 53,
   "id": "1fdd2b92-2c02-4fef-92e2-34ea1c877a59",
   "metadata": {},
   "outputs": [
    {
     "data": {
      "text/plain": [
       "array([[ 1.        , -0.58848989,  0.56011203],\n",
       "       [-0.58848989,  1.        , -0.8652532 ],\n",
       "       [ 0.56011203, -0.8652532 ,  1.        ]])"
      ]
     },
     "execution_count": 53,
     "metadata": {},
     "output_type": "execute_result"
    }
   ],
   "source": [
    "#correlacion es la covarianza/producto de las desviaciones tipicas. \n",
    "np.corrcoef(matrix_A)"
   ]
  },
  {
   "cell_type": "code",
   "execution_count": null,
   "id": "699e1024-5d56-4f9b-9b80-38a9b98ab533",
   "metadata": {},
   "outputs": [],
   "source": []
  }
 ],
 "metadata": {
  "kernelspec": {
   "display_name": "Python 3 (ipykernel)",
   "language": "python",
   "name": "python3"
  },
  "language_info": {
   "codemirror_mode": {
    "name": "ipython",
    "version": 3
   },
   "file_extension": ".py",
   "mimetype": "text/x-python",
   "name": "python",
   "nbconvert_exporter": "python",
   "pygments_lexer": "ipython3",
   "version": "3.11.7"
  }
 },
 "nbformat": 4,
 "nbformat_minor": 5
}
