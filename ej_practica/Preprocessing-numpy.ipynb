{
 "cells": [
  {
   "cell_type": "code",
   "execution_count": 1,
   "id": "dfe4d192-ad96-4d54-ae9e-f0655f3b17a2",
   "metadata": {},
   "outputs": [],
   "source": [
    "import numpy as np"
   ]
  },
  {
   "cell_type": "markdown",
   "id": "2324ad5e-246d-4ad4-b136-b5bfdf6ed6fc",
   "metadata": {},
   "source": [
    "        Chequear si hay valores faltantes"
   ]
  },
  {
   "cell_type": "code",
   "execution_count": 2,
   "id": "91152a62-3da2-41ea-b679-d1262222bd2b",
   "metadata": {},
   "outputs": [],
   "source": [
    "lendig_co_numeric = np.loadtxt('E:\\FRANCO\\Curso Data Analyst\\S27 - NumPy Preprocessing\\Lending-company-Numeric.csv', delimiter =',')"
   ]
  },
  {
   "cell_type": "code",
   "execution_count": 3,
   "id": "24ef3acb-0822-4794-bf5f-3e6edcae7f33",
   "metadata": {},
   "outputs": [],
   "source": [
    "#este metodo devuelve una matriz de boolean. True es si falta un valor y False que no.\n",
    "#Sumando todo si el resultado es 0 significa que no hay valores faltantes"
   ]
  },
  {
   "cell_type": "code",
   "execution_count": 4,
   "id": "4dc4da3f-78fb-4974-aa9b-f809ef8cb2db",
   "metadata": {},
   "outputs": [
    {
     "data": {
      "text/plain": [
       "0"
      ]
     },
     "execution_count": 4,
     "metadata": {},
     "output_type": "execute_result"
    }
   ],
   "source": [
    "np.isnan(lendig_co_numeric).sum()"
   ]
  },
  {
   "cell_type": "code",
   "execution_count": 5,
   "id": "d4278630-1cf6-4042-aab5-68ec918e05f8",
   "metadata": {},
   "outputs": [],
   "source": [
    "#usando loadtxt() cuando hay valores faltantes tira error, por eso uso genfromtxt()"
   ]
  },
  {
   "cell_type": "code",
   "execution_count": 6,
   "id": "ec9014d4-bf73-4aff-b141-7faec8774803",
   "metadata": {},
   "outputs": [],
   "source": [
    "lendig_co_numeric_NAN = np.genfromtxt('E:\\FRANCO\\Curso Data Analyst\\S27 - NumPy Preprocessing\\Lending-company-Numeric-NAN.csv', delimiter =';')"
   ]
  },
  {
   "cell_type": "code",
   "execution_count": 7,
   "id": "c84857e6-51d8-442f-b84d-73433ed2feff",
   "metadata": {},
   "outputs": [
    {
     "data": {
      "text/plain": [
       "array([[False, False, False, False, False, False],\n",
       "       [False, False, False, False, False, False],\n",
       "       [False, False, False, False, False, False],\n",
       "       ...,\n",
       "       [ True, False, False, False, False, False],\n",
       "       [False, False, False, False, False, False],\n",
       "       [False, False, False, False, False, False]])"
      ]
     },
     "execution_count": 7,
     "metadata": {},
     "output_type": "execute_result"
    }
   ],
   "source": [
    "np.isnan(lendig_co_numeric_NAN) #veo que hay valores True, es decir que faltan"
   ]
  },
  {
   "cell_type": "code",
   "execution_count": 8,
   "id": "fc137b40-1e7e-43b1-8e86-99e87e1a9f9f",
   "metadata": {},
   "outputs": [
    {
     "data": {
      "text/plain": [
       "260"
      ]
     },
     "execution_count": 8,
     "metadata": {},
     "output_type": "execute_result"
    }
   ],
   "source": [
    "#uso el sum para ver cuantos faltan\n",
    "np.isnan(lendig_co_numeric_NAN).sum()"
   ]
  },
  {
   "cell_type": "code",
   "execution_count": 9,
   "id": "dd4f50d4-19b8-4104-aaa9-427bc12fd565",
   "metadata": {},
   "outputs": [],
   "source": [
    "#puedo pasar un parametro para rellenar los espacios vacios con un 0\n",
    "lendig_co_numeric_NAN = np.genfromtxt('E:\\FRANCO\\Curso Data Analyst\\S27 - NumPy Preprocessing\\Lending-company-Numeric-NAN.csv',\n",
    "                                      delimiter =';',\n",
    "                                      filling_values =0)"
   ]
  },
  {
   "cell_type": "code",
   "execution_count": 10,
   "id": "a3883e49-3950-43cf-8867-0ed5f00dcd1a",
   "metadata": {},
   "outputs": [
    {
     "data": {
      "text/plain": [
       "0"
      ]
     },
     "execution_count": 10,
     "metadata": {},
     "output_type": "execute_result"
    }
   ],
   "source": [
    "np.isnan(lendig_co_numeric_NAN).sum() #ahora no tengo valores faltantes"
   ]
  },
  {
   "cell_type": "code",
   "execution_count": 11,
   "id": "78a43a35-0917-4207-bf4a-3b269a6d97c7",
   "metadata": {},
   "outputs": [],
   "source": [
    "#conviene reemplazar los valores faltantes No por 0 sino por algun numero que no represente nada en el dataset. Por ej un numero mayor que el\n",
    "#num mas grande que tengo"
   ]
  },
  {
   "cell_type": "code",
   "execution_count": 12,
   "id": "f989f2c3-fa8a-4f9a-812d-8ddc55723ab9",
   "metadata": {},
   "outputs": [],
   "source": [
    "lendig_co_numeric_NAN = np.genfromtxt('E:\\FRANCO\\Curso Data Analyst\\S27 - NumPy Preprocessing\\Lending-company-Numeric-NAN.csv',\n",
    "                                      delimiter =';')"
   ]
  },
  {
   "cell_type": "code",
   "execution_count": 13,
   "id": "e6ed5a6b-153f-4936-87d0-88b793f56f8a",
   "metadata": {},
   "outputs": [],
   "source": [
    "temporaly_fill = np.nanmax(lendig_co_numeric_NAN).round() +1"
   ]
  },
  {
   "cell_type": "code",
   "execution_count": 14,
   "id": "b1ee8d01-85ab-4d33-a2d2-9a6f3c496ca6",
   "metadata": {},
   "outputs": [
    {
     "data": {
      "text/plain": [
       "64002.0"
      ]
     },
     "execution_count": 14,
     "metadata": {},
     "output_type": "execute_result"
    }
   ],
   "source": [
    "temporaly_fill"
   ]
  },
  {
   "cell_type": "code",
   "execution_count": 15,
   "id": "ff117c61-125e-4ee3-97fb-707bf4a41f4a",
   "metadata": {},
   "outputs": [],
   "source": [
    "#relleno los valores faltantes con la variable temporaly_fill\n",
    "lendig_co_numeric_NAN = np.genfromtxt('E:\\FRANCO\\Curso Data Analyst\\S27 - NumPy Preprocessing\\Lending-company-Numeric-NAN.csv',\n",
    "                                      delimiter =';',\n",
    "                                      filling_values =temporaly_fill)"
   ]
  },
  {
   "cell_type": "code",
   "execution_count": 16,
   "id": "01355fe8-b16e-412d-a4a5-12b8fdd34829",
   "metadata": {},
   "outputs": [
    {
     "data": {
      "text/plain": [
       "0"
      ]
     },
     "execution_count": 16,
     "metadata": {},
     "output_type": "execute_result"
    }
   ],
   "source": [
    "np.isnan(lendig_co_numeric_NAN).sum()"
   ]
  },
  {
   "cell_type": "markdown",
   "id": "7062c493-3248-4dbc-8a24-1d8202ff95f0",
   "metadata": {},
   "source": [
    "        Substituyendo valores faltantes"
   ]
  },
  {
   "cell_type": "code",
   "execution_count": 17,
   "id": "49b74c9b-7865-4711-a70f-916c83c6e2c6",
   "metadata": {},
   "outputs": [
    {
     "data": {
      "text/plain": [
       "array([[ 2000.,    40.,   365.,  3121.,  4241., 13621.],\n",
       "       [ 2000.,    40.,   365.,  3061.,  4171., 15041.],\n",
       "       [ 1000.,    40.,   365.,  2160.,  3280., 15340.],\n",
       "       ...,\n",
       "       [   nan,    40.,   365.,  4201.,  5001., 16600.],\n",
       "       [ 1000.,    40.,   365.,  2080.,  3320., 15600.],\n",
       "       [ 2000.,    40.,   365.,  4601.,  4601., 16600.]])"
      ]
     },
     "execution_count": 17,
     "metadata": {},
     "output_type": "execute_result"
    }
   ],
   "source": [
    "lendig_co_numeric_NAN = np.genfromtxt('E:\\FRANCO\\Curso Data Analyst\\S27 - NumPy Preprocessing\\Lending-company-Numeric-NAN.csv',\n",
    "                                      delimiter =';')\n",
    "lendig_co_numeric_NAN"
   ]
  },
  {
   "cell_type": "code",
   "execution_count": 18,
   "id": "0fcbeb3d-7f53-4898-a73e-138e210c7c16",
   "metadata": {},
   "outputs": [],
   "source": [
    "#una buena practica es reemplazar los valores por la media \n",
    "temporally_mean = np.nanmean(lendig_co_numeric_NAN, axis=0).round(2) #columnas"
   ]
  },
  {
   "cell_type": "code",
   "execution_count": 19,
   "id": "6dd8dea0-33ca-4360-be5a-9c1b8f22e85d",
   "metadata": {},
   "outputs": [
    {
     "data": {
      "text/plain": [
       "2250.25"
      ]
     },
     "execution_count": 19,
     "metadata": {},
     "output_type": "execute_result"
    }
   ],
   "source": [
    "temporally_mean[0]"
   ]
  },
  {
   "cell_type": "code",
   "execution_count": 20,
   "id": "058f2c3f-0bdb-43c7-b51a-88f76eae86ae",
   "metadata": {},
   "outputs": [],
   "source": [
    "temporaly_fill = np.nanmax(lendig_co_numeric_NAN).round(2) +1\n",
    "lendig_co_numeric_NAN = np.genfromtxt('E:\\FRANCO\\Curso Data Analyst\\S27 - NumPy Preprocessing\\Lending-company-Numeric-NAN.csv',\n",
    "                                      delimiter =';',\n",
    "                                      filling_values =temporaly_fill)"
   ]
  },
  {
   "cell_type": "code",
   "execution_count": 21,
   "id": "7c358e32-b0a1-468f-a593-24e963f65c7c",
   "metadata": {},
   "outputs": [
    {
     "data": {
      "text/plain": [
       "64002.0"
      ]
     },
     "execution_count": 21,
     "metadata": {},
     "output_type": "execute_result"
    }
   ],
   "source": [
    "temporaly_fill"
   ]
  },
  {
   "cell_type": "code",
   "execution_count": 22,
   "id": "6aeafdc9-f562-4b96-99ad-80471fc54667",
   "metadata": {},
   "outputs": [],
   "source": [
    "#vemos que ahora la media de la columna es el doble que la anterior, esto esta mal"
   ]
  },
  {
   "cell_type": "code",
   "execution_count": 23,
   "id": "bbba3839-6181-4034-afcd-a434e7211aad",
   "metadata": {},
   "outputs": [
    {
     "data": {
      "text/plain": [
       "4263.25"
      ]
     },
     "execution_count": 23,
     "metadata": {},
     "output_type": "execute_result"
    }
   ],
   "source": [
    "np.mean(lendig_co_numeric_NAN[:,0]).round(2)"
   ]
  },
  {
   "cell_type": "code",
   "execution_count": 24,
   "id": "584645eb-95a2-4f6b-9b33-6f8607668886",
   "metadata": {},
   "outputs": [],
   "source": [
    "#USO np.where() PARA RESOLVER ESTOS PROBLEMAS"
   ]
  },
  {
   "cell_type": "code",
   "execution_count": 25,
   "id": "370911f4-0089-4032-9e7c-6d1391cd1ed4",
   "metadata": {},
   "outputs": [],
   "source": [
    "lendig_co_numeric_NAN[:,0] = np.where(lendig_co_numeric_NAN[:,0] == temporaly_fill,\n",
    "                                     temporally_mean[0],\n",
    "                                      lendig_co_numeric_NAN[:,0])\n",
    "#iguala los valores de relleno a la media de la columna,si no los deja como estan"
   ]
  },
  {
   "cell_type": "code",
   "execution_count": 26,
   "id": "71516303-eed6-49f2-993b-f85c49ecb985",
   "metadata": {},
   "outputs": [
    {
     "data": {
      "text/plain": [
       "2250.25"
      ]
     },
     "execution_count": 26,
     "metadata": {},
     "output_type": "execute_result"
    }
   ],
   "source": [
    "#me fijo la media de la primer columna para verificar\n",
    "np.mean(lendig_co_numeric_NAN[:,0]).round(2)"
   ]
  },
  {
   "cell_type": "code",
   "execution_count": 27,
   "id": "d7e8db38-7094-4c0b-a91e-2097a7129731",
   "metadata": {},
   "outputs": [],
   "source": [
    "#ahora hago lo mismo pero para todas las columnas\n",
    "for i in range(lendig_co_numeric_NAN.shape[1]):\n",
    "    lendig_co_numeric_NAN[:,i] = np.where(lendig_co_numeric_NAN[:,i] == temporaly_fill,\n",
    "                                     temporally_mean[i],\n",
    "                                      lendig_co_numeric_NAN[:,i])"
   ]
  },
  {
   "cell_type": "code",
   "execution_count": 28,
   "id": "786730ad-9337-4f8d-ab5a-cc0c701aba05",
   "metadata": {},
   "outputs": [],
   "source": [
    "#si quiero por ejemplo reemplazar todos los valores negativos a 0 \n",
    "for i in range(lendig_co_numeric_NAN.shape[1]):\n",
    "    lendig_co_numeric_NAN[:,i] = np.where(lendig_co_numeric_NAN[:,i] <0,\n",
    "                                      0,\n",
    "                                      lendig_co_numeric_NAN[:,i])"
   ]
  },
  {
   "cell_type": "markdown",
   "id": "fc487858-839e-4b7e-a8d0-a121ee3f31c0",
   "metadata": {},
   "source": [
    "        Reshaping (cambiar la forma)"
   ]
  },
  {
   "cell_type": "code",
   "execution_count": 29,
   "id": "d2ebbef7-e4ec-4b03-9f59-19f0527a5640",
   "metadata": {},
   "outputs": [
    {
     "data": {
      "text/plain": [
       "array([[ 2000.,    40.,   365.,  3121.,  4241., 13621.],\n",
       "       [ 2000.,    40.,   365.,  3061.,  4171., 15041.],\n",
       "       [ 1000.,    40.,   365.,  2160.,  3280., 15340.],\n",
       "       ...,\n",
       "       [ 2000.,    40.,   365.,  4201.,  5001., 16600.],\n",
       "       [ 1000.,    40.,   365.,  2080.,  3320., 15600.],\n",
       "       [ 2000.,    40.,   365.,  4601.,  4601., 16600.]])"
      ]
     },
     "execution_count": 29,
     "metadata": {},
     "output_type": "execute_result"
    }
   ],
   "source": [
    "lending_co_numeric = np.loadtxt('E:\\FRANCO\\Curso Data Analyst\\S27 - NumPy Preprocessing\\Lending-company-Numeric.csv', delimiter =',')\n",
    "lendig_co_numeric"
   ]
  },
  {
   "cell_type": "code",
   "execution_count": 30,
   "id": "3e6a4957-fceb-430f-bd4b-985d1f50ae1f",
   "metadata": {},
   "outputs": [
    {
     "data": {
      "text/plain": [
       "(1043, 6)"
      ]
     },
     "execution_count": 30,
     "metadata": {},
     "output_type": "execute_result"
    }
   ],
   "source": [
    "lendig_co_numeric.shape"
   ]
  },
  {
   "cell_type": "code",
   "execution_count": 31,
   "id": "95d75f03-8a0c-4740-b072-cc3438391390",
   "metadata": {},
   "outputs": [
    {
     "data": {
      "text/plain": [
       "array([[ 2000.,    40.,   365., ...,   365.,  1581.,  3041.],\n",
       "       [12277.,  2000.,    40., ...,    50.,   365.,  5350.],\n",
       "       [ 6850., 15150.,  1000., ...,  2000.,    40.,   365.],\n",
       "       [ 3101.,  4351., 16600., ..., 16600.,  2000.,    40.],\n",
       "       [  365.,  3441.,  4661., ...,  8450., 22250.,  2000.],\n",
       "       [   40.,   365.,  3701., ...,  4601.,  4601., 16600.]])"
      ]
     },
     "execution_count": 31,
     "metadata": {},
     "output_type": "execute_result"
    }
   ],
   "source": [
    "np.reshape(lendig_co_numeric, (6,1043))"
   ]
  },
  {
   "cell_type": "code",
   "execution_count": 32,
   "id": "75898d3e-292f-4d78-95ba-699edc087941",
   "metadata": {},
   "outputs": [
    {
     "data": {
      "text/plain": [
       "array([[ 2000.,  2000.,  1000., ...,  2000.,  1000.,  2000.],\n",
       "       [   40.,    40.,    40., ...,    40.,    40.,    40.],\n",
       "       [  365.,   365.,   365., ...,   365.,   365.,   365.],\n",
       "       [ 3121.,  3061.,  2160., ...,  4201.,  2080.,  4601.],\n",
       "       [ 4241.,  4171.,  3280., ...,  5001.,  3320.,  4601.],\n",
       "       [13621., 15041., 15340., ..., 16600., 15600., 16600.]])"
      ]
     },
     "execution_count": 32,
     "metadata": {},
     "output_type": "execute_result"
    }
   ],
   "source": [
    "np.transpose(lendig_co_numeric)"
   ]
  },
  {
   "cell_type": "code",
   "execution_count": 33,
   "id": "0a1be573-cbe7-48d7-b567-3360e5db9173",
   "metadata": {},
   "outputs": [
    {
     "data": {
      "text/plain": [
       "array([[ 2000.,    40.,   365., ...,    50.,   365.,  5350.],\n",
       "       [ 6850., 15150.,  1000., ..., 16600.,  2000.,    40.],\n",
       "       [  365.,  3441.,  4661., ...,  4601.,  4601., 16600.]])"
      ]
     },
     "execution_count": 33,
     "metadata": {},
     "output_type": "execute_result"
    }
   ],
   "source": [
    "#debe incluir exactamente la misma cantidad de elementos\n",
    "np.reshape(lendig_co_numeric, (3,2086))"
   ]
  },
  {
   "cell_type": "code",
   "execution_count": 34,
   "id": "46cafbca-f632-4053-a42b-e3d877e440be",
   "metadata": {},
   "outputs": [
    {
     "data": {
      "text/plain": [
       "array([[[ 2000.,    40.,   365., ...,   365.,  1581.,  3041.],\n",
       "        [12277.,  2000.,    40., ...,    50.,   365.,  5350.],\n",
       "        [ 6850., 15150.,  1000., ...,  2000.,    40.,   365.]],\n",
       "\n",
       "       [[ 3101.,  4351., 16600., ..., 16600.,  2000.,    40.],\n",
       "        [  365.,  3441.,  4661., ...,  8450., 22250.,  2000.],\n",
       "        [   40.,   365.,  3701., ...,  4601.,  4601., 16600.]]])"
      ]
     },
     "execution_count": 34,
     "metadata": {},
     "output_type": "execute_result"
    }
   ],
   "source": [
    "#puedo cambiarla a 3 dimensiones o mas\n",
    "np.reshape(lendig_co_numeric, (2,3,1043))"
   ]
  },
  {
   "cell_type": "code",
   "execution_count": 35,
   "id": "6189ddb6-2261-49fc-b637-c486caa100c6",
   "metadata": {},
   "outputs": [
    {
     "data": {
      "text/plain": [
       "array([[ 2000.,    40.,   365.,  3121.,  4241., 13621.],\n",
       "       [ 2000.,    40.,   365.,  3061.,  4171., 15041.],\n",
       "       [ 1000.,    40.,   365.,  2160.,  3280., 15340.],\n",
       "       ...,\n",
       "       [ 2000.,    40.,   365.,  4201.,  5001., 16600.],\n",
       "       [ 1000.,    40.,   365.,  2080.,  3320., 15600.],\n",
       "       [ 2000.,    40.,   365.,  4601.,  4601., 16600.]])"
      ]
     },
     "execution_count": 35,
     "metadata": {},
     "output_type": "execute_result"
    }
   ],
   "source": [
    "#No cambia las dimensiones de la matriz original por lo que tengo que guardar en una variable nueva\n",
    "lendig_co_numeric"
   ]
  },
  {
   "cell_type": "code",
   "execution_count": 36,
   "id": "d27f4f51-7b0c-4a51-a0cc-a97f7d22d8ce",
   "metadata": {},
   "outputs": [
    {
     "data": {
      "text/plain": [
       "array([[ 2000.,    40.,   365., ...,   365.,  1581.,  3041.],\n",
       "       [12277.,  2000.,    40., ...,    50.,   365.,  5350.],\n",
       "       [ 6850., 15150.,  1000., ...,  2000.,    40.,   365.],\n",
       "       [ 3101.,  4351., 16600., ..., 16600.,  2000.,    40.],\n",
       "       [  365.,  3441.,  4661., ...,  8450., 22250.,  2000.],\n",
       "       [   40.,   365.,  3701., ...,  4601.,  4601., 16600.]])"
      ]
     },
     "execution_count": 36,
     "metadata": {},
     "output_type": "execute_result"
    }
   ],
   "source": [
    "lendig_co_numeric_2 = np.reshape(lendig_co_numeric, (6,1043))\n",
    "lendig_co_numeric_2"
   ]
  },
  {
   "cell_type": "code",
   "execution_count": 37,
   "id": "bbbc9e91-660c-498f-a5b2-8e486f61348e",
   "metadata": {},
   "outputs": [
    {
     "data": {
      "text/plain": [
       "array([[ 2000.,    40.,   365., ...,   365.,  1581.,  3041.],\n",
       "       [12277.,  2000.,    40., ...,    50.,   365.,  5350.],\n",
       "       [ 6850., 15150.,  1000., ...,  2000.,    40.,   365.],\n",
       "       [ 3101.,  4351., 16600., ..., 16600.,  2000.,    40.],\n",
       "       [  365.,  3441.,  4661., ...,  8450., 22250.,  2000.],\n",
       "       [   40.,   365.,  3701., ...,  4601.,  4601., 16600.]])"
      ]
     },
     "execution_count": 37,
     "metadata": {},
     "output_type": "execute_result"
    }
   ],
   "source": [
    "#hay un metodo equivalente\n",
    "lendig_co_numeric.reshape(6,1043)"
   ]
  },
  {
   "cell_type": "markdown",
   "id": "d6fc61d7-41d3-4e63-83f1-2bbb88e44406",
   "metadata": {},
   "source": [
    "        Removiendo valores"
   ]
  },
  {
   "cell_type": "code",
   "execution_count": 38,
   "id": "0b01ca88-d1f8-49fa-81c0-801aa851e194",
   "metadata": {},
   "outputs": [
    {
     "data": {
      "text/plain": [
       "array([[ 2000.,    40.,   365.,  3121.,  4241., 13621.],\n",
       "       [ 2000.,    40.,   365.,  3061.,  4171., 15041.],\n",
       "       [ 1000.,    40.,   365.,  2160.,  3280., 15340.],\n",
       "       ...,\n",
       "       [ 2000.,    40.,   365.,  4201.,  5001., 16600.],\n",
       "       [ 1000.,    40.,   365.,  2080.,  3320., 15600.],\n",
       "       [ 2000.,    40.,   365.,  4601.,  4601., 16600.]])"
      ]
     },
     "execution_count": 38,
     "metadata": {},
     "output_type": "execute_result"
    }
   ],
   "source": [
    "lendig_co_numeric"
   ]
  },
  {
   "cell_type": "code",
   "execution_count": 39,
   "id": "c8adef14-4f85-4fc4-8892-0cf2fb7f0069",
   "metadata": {},
   "outputs": [
    {
     "data": {
      "text/plain": [
       "array([   40.,   365.,  3121., ...,  4601.,  4601., 16600.])"
      ]
     },
     "execution_count": 39,
     "metadata": {},
     "output_type": "execute_result"
    }
   ],
   "source": [
    "np.delete(lendig_co_numeric, 0) #elimino el primer valor de la matriz"
   ]
  },
  {
   "cell_type": "code",
   "execution_count": 40,
   "id": "f3b473c1-f029-4d8e-9035-962b80921982",
   "metadata": {},
   "outputs": [
    {
     "data": {
      "text/plain": [
       "6258"
      ]
     },
     "execution_count": 40,
     "metadata": {},
     "output_type": "execute_result"
    }
   ],
   "source": [
    "lendig_co_numeric.size"
   ]
  },
  {
   "cell_type": "code",
   "execution_count": 41,
   "id": "ce4f1ec9-f9af-4462-a163-c81955c8586d",
   "metadata": {},
   "outputs": [
    {
     "data": {
      "text/plain": [
       "array([[ 2000.,    40.,   365.,  3121.,  4241., 13621.],\n",
       "       [ 2000.,    40.,   365.,  3061.,  4171., 15041.],\n",
       "       [ 1000.,    40.,   365.,  2160.,  3280., 15340.],\n",
       "       ...,\n",
       "       [ 2000.,    40.,   365.,  4201.,  5001., 16600.],\n",
       "       [ 1000.,    40.,   365.,  2080.,  3320., 15600.],\n",
       "       [ 2000.,    40.,   365.,  4601.,  4601., 16600.]])"
      ]
     },
     "execution_count": 41,
     "metadata": {},
     "output_type": "execute_result"
    }
   ],
   "source": [
    "#por mas que borre valores no se modifica la matriz original, tengo que guardar en una variable nueva\n",
    "lendig_co_numeric"
   ]
  },
  {
   "cell_type": "code",
   "execution_count": 42,
   "id": "cdbb9229-aa21-459f-b731-1f421821981e",
   "metadata": {},
   "outputs": [
    {
     "data": {
      "text/plain": [
       "array([[ 2000.,    40.,   365.,  3061.,  4171., 15041.],\n",
       "       [ 1000.,    40.,   365.,  2160.,  3280., 15340.],\n",
       "       [ 2000.,    40.,   365.,  3041.,  4241., 15321.],\n",
       "       ...,\n",
       "       [ 2000.,    40.,   365.,  4201.,  5001., 16600.],\n",
       "       [ 1000.,    40.,   365.,  2080.,  3320., 15600.],\n",
       "       [ 2000.,    40.,   365.,  4601.,  4601., 16600.]])"
      ]
     },
     "execution_count": 42,
     "metadata": {},
     "output_type": "execute_result"
    }
   ],
   "source": [
    "#elimino la primera fila\n",
    "np.delete(lendig_co_numeric, 0, axis=0)"
   ]
  },
  {
   "cell_type": "code",
   "execution_count": 43,
   "id": "fae91867-f01a-4d92-81d1-53280122750c",
   "metadata": {},
   "outputs": [
    {
     "data": {
      "text/plain": [
       "array([[   40.,   365.,  3121.,  4241., 13621.],\n",
       "       [   40.,   365.,  3061.,  4171., 15041.],\n",
       "       [   40.,   365.,  2160.,  3280., 15340.],\n",
       "       ...,\n",
       "       [   40.,   365.,  4201.,  5001., 16600.],\n",
       "       [   40.,   365.,  2080.,  3320., 15600.],\n",
       "       [   40.,   365.,  4601.,  4601., 16600.]])"
      ]
     },
     "execution_count": 43,
     "metadata": {},
     "output_type": "execute_result"
    }
   ],
   "source": [
    "#elimino la primera columna\n",
    "np.delete(lendig_co_numeric, 0, axis=1)"
   ]
  },
  {
   "cell_type": "code",
   "execution_count": 44,
   "id": "76747558-d0b9-4070-98fd-8632253ed7fa",
   "metadata": {},
   "outputs": [
    {
     "data": {
      "text/plain": [
       "array([[ 2000.,   365.,  3121.,  4241., 13621.],\n",
       "       [ 2000.,   365.,  3061.,  4171., 15041.],\n",
       "       [ 1000.,   365.,  2160.,  3280., 15340.],\n",
       "       ...,\n",
       "       [ 2000.,   365.,  4201.,  5001., 16600.],\n",
       "       [ 1000.,   365.,  2080.,  3320., 15600.],\n",
       "       [ 2000.,   365.,  4601.,  4601., 16600.]])"
      ]
     },
     "execution_count": 44,
     "metadata": {},
     "output_type": "execute_result"
    }
   ],
   "source": [
    "#elimino la segunda columna\n",
    "np.delete(lendig_co_numeric, 1, axis=1)"
   ]
  },
  {
   "cell_type": "code",
   "execution_count": 45,
   "id": "c55e8ee3-ed10-49a9-a5df-081a460e7fa6",
   "metadata": {},
   "outputs": [
    {
     "data": {
      "text/plain": [
       "array([[   40.,  3121., 13621.],\n",
       "       [   40.,  3061., 15041.],\n",
       "       [   40.,  2160., 15340.],\n",
       "       ...,\n",
       "       [   40.,  4201., 16600.],\n",
       "       [   40.,  2080., 15600.],\n",
       "       [   40.,  4601., 16600.]])"
      ]
     },
     "execution_count": 45,
     "metadata": {},
     "output_type": "execute_result"
    }
   ],
   "source": [
    "#elimino la primera,tercera y quinta columna\n",
    "np.delete(lendig_co_numeric, (0,2,4), axis=1)"
   ]
  },
  {
   "cell_type": "code",
   "execution_count": 46,
   "id": "07bdb64d-c69b-4c67-8c49-e4d45619eb99",
   "metadata": {},
   "outputs": [
    {
     "data": {
      "text/plain": [
       "array([[   40.,  3061., 15041.],\n",
       "       [   40.,  3041., 15321.],\n",
       "       [   50.,  3470., 13720.],\n",
       "       ...,\n",
       "       [   40.,  4240., 16600.],\n",
       "       [   40.,  4201., 16600.],\n",
       "       [   40.,  2080., 15600.]])"
      ]
     },
     "execution_count": 46,
     "metadata": {},
     "output_type": "execute_result"
    }
   ],
   "source": [
    "#elimino filas y columnas\n",
    "np.delete(np.delete(lendig_co_numeric, (0,2,4), axis=1), (0,2,-1), axis=0)"
   ]
  },
  {
   "cell_type": "markdown",
   "id": "41275321-79f9-42d1-aad1-8f984ae0d8f9",
   "metadata": {},
   "source": [
    "        Ordenando la data"
   ]
  },
  {
   "cell_type": "code",
   "execution_count": 47,
   "id": "8e5db2d5-7364-4429-b0ef-d51261a12507",
   "metadata": {},
   "outputs": [
    {
     "data": {
      "text/plain": [
       "array([[ 2000.,    40.,   365.,  3121.,  4241., 13621.],\n",
       "       [ 2000.,    40.,   365.,  3061.,  4171., 15041.],\n",
       "       [ 1000.,    40.,   365.,  2160.,  3280., 15340.],\n",
       "       ...,\n",
       "       [ 2000.,    40.,   365.,  4201.,  5001., 16600.],\n",
       "       [ 1000.,    40.,   365.,  2080.,  3320., 15600.],\n",
       "       [ 2000.,    40.,   365.,  4601.,  4601., 16600.]])"
      ]
     },
     "execution_count": 47,
     "metadata": {},
     "output_type": "execute_result"
    }
   ],
   "source": [
    "lendig_co_numeric"
   ]
  },
  {
   "cell_type": "code",
   "execution_count": 48,
   "id": "6fc5cf21-5599-4b3f-8572-bb1a851b6563",
   "metadata": {},
   "outputs": [
    {
     "data": {
      "text/plain": [
       "array([[   40.,   365.,  2000.,  3121.,  4241., 13621.],\n",
       "       [   40.,   365.,  2000.,  3061.,  4171., 15041.],\n",
       "       [   40.,   365.,  1000.,  2160.,  3280., 15340.],\n",
       "       ...,\n",
       "       [   40.,   365.,  2000.,  4201.,  5001., 16600.],\n",
       "       [   40.,   365.,  1000.,  2080.,  3320., 15600.],\n",
       "       [   40.,   365.,  2000.,  4601.,  4601., 16600.]])"
      ]
     },
     "execution_count": 48,
     "metadata": {},
     "output_type": "execute_result"
    }
   ],
   "source": [
    "np.sort(lendig_co_numeric) #por defecto axis=-1 , que en este caso al ser 2D axis=1. Ordeno las filas en forma creciente"
   ]
  },
  {
   "cell_type": "code",
   "execution_count": 49,
   "id": "4b318cf7-2b21-4bbc-ae61-c90821deab44",
   "metadata": {},
   "outputs": [
    {
     "data": {
      "text/plain": [
       "array([[ 1.0000e+03,  3.5000e+01,  3.6500e+02, -2.8700e+03, -2.8700e+03,\n",
       "        -3.5000e+02],\n",
       "       [ 1.0000e+03,  3.5000e+01,  3.6500e+02, -2.5500e+03, -2.1000e+03,\n",
       "         1.5000e+02],\n",
       "       [ 1.0000e+03,  3.5000e+01,  3.6500e+02, -2.4500e+03, -2.0000e+03,\n",
       "         1.1000e+03],\n",
       "       ...,\n",
       "       [ 9.0000e+03,  1.2500e+02,  3.6500e+02,  1.6751e+04,  1.8751e+04,\n",
       "         5.4625e+04],\n",
       "       [ 9.0000e+03,  1.6500e+02,  3.6500e+02,  1.7650e+04,  2.0001e+04,\n",
       "         5.4625e+04],\n",
       "       [ 9.0000e+03,  1.6500e+02,  3.6500e+02,  1.9001e+04,  2.2001e+04,\n",
       "         6.4001e+04]])"
      ]
     },
     "execution_count": 49,
     "metadata": {},
     "output_type": "execute_result"
    }
   ],
   "source": [
    "np.sort(lendig_co_numeric, axis=0) #Ordeno las columnas en forma creciente"
   ]
  },
  {
   "cell_type": "code",
   "execution_count": 50,
   "id": "a73d99a5-6fd5-41ef-a01b-8840f8f16ee8",
   "metadata": {},
   "outputs": [],
   "source": [
    "np.set_printoptions(suppress = True)#para hacer mas legible lo de arriba"
   ]
  },
  {
   "cell_type": "code",
   "execution_count": 51,
   "id": "01670e9f-97cf-4245-965e-10c2e5d1d486",
   "metadata": {},
   "outputs": [
    {
     "data": {
      "text/plain": [
       "array([-2870., -2870., -2550., ..., 54625., 54625., 64001.])"
      ]
     },
     "execution_count": 51,
     "metadata": {},
     "output_type": "execute_result"
    }
   ],
   "source": [
    "np.sort(lendig_co_numeric, axis=None) #devuelve un 1D array ordenado"
   ]
  },
  {
   "cell_type": "code",
   "execution_count": 52,
   "id": "c8b3759b-d760-4956-9bd6-03900ff7a48b",
   "metadata": {},
   "outputs": [],
   "source": [
    "#si quiero ordenar en forma descendente no hay parametro que lo haa automaticamente, pero puedo hacer:"
   ]
  },
  {
   "cell_type": "code",
   "execution_count": 53,
   "id": "00139637-1100-40a3-99d0-2b1f85bff66d",
   "metadata": {},
   "outputs": [
    {
     "data": {
      "text/plain": [
       "array([[   40.,   365.,  2000.,  3121.,  4241., 13621.],\n",
       "       [   40.,   365.,  2000.,  3061.,  4171., 15041.],\n",
       "       [   40.,   365.,  1000.,  2160.,  3280., 15340.],\n",
       "       ...,\n",
       "       [   40.,   365.,  2000.,  4201.,  5001., 16600.],\n",
       "       [   40.,   365.,  1000.,  2080.,  3320., 15600.],\n",
       "       [   40.,   365.,  2000.,  4601.,  4601., 16600.]])"
      ]
     },
     "execution_count": 53,
     "metadata": {},
     "output_type": "execute_result"
    }
   ],
   "source": [
    "np.sort(lendig_co_numeric)"
   ]
  },
  {
   "cell_type": "code",
   "execution_count": 54,
   "id": "ddd7e18b-87c2-4353-96b6-1cbf67822e80",
   "metadata": {},
   "outputs": [
    {
     "data": {
      "text/plain": [
       "array([[13621.,  4241.,  3121.,  2000.,   365.,    40.],\n",
       "       [15041.,  4171.,  3061.,  2000.,   365.,    40.],\n",
       "       [15340.,  3280.,  2160.,  1000.,   365.,    40.],\n",
       "       ...,\n",
       "       [16600.,  5001.,  4201.,  2000.,   365.,    40.],\n",
       "       [15600.,  3320.,  2080.,  1000.,   365.,    40.],\n",
       "       [16600.,  4601.,  4601.,  2000.,   365.,    40.]])"
      ]
     },
     "execution_count": 54,
     "metadata": {},
     "output_type": "execute_result"
    }
   ],
   "source": [
    "#multiplico por - adentro y afuera asi me queda ordenado al reves\n",
    "-np.sort(-lendig_co_numeric)"
   ]
  },
  {
   "cell_type": "code",
   "execution_count": 55,
   "id": "f6f6225a-9b74-4bc4-86b9-616aa8a353b0",
   "metadata": {},
   "outputs": [
    {
     "data": {
      "text/plain": [
       "array([-2870., -2550., -2450., ..., 16751., 17650., 19001.])"
      ]
     },
     "execution_count": 55,
     "metadata": {},
     "output_type": "execute_result"
    }
   ],
   "source": [
    "np.sort(lendig_co_numeric[:,3])#ordeno solo la cuarta columna"
   ]
  },
  {
   "cell_type": "code",
   "execution_count": 56,
   "id": "00ebc167-e013-41c5-afbc-8b177f76e7ba",
   "metadata": {},
   "outputs": [
    {
     "data": {
      "text/plain": [
       "array([[ 1000.,    35.,   365., -2870., -2870.,  -350.],\n",
       "       [ 1000.,    35.,   365., -2550., -2100.,   150.],\n",
       "       [ 1000.,    35.,   365., -2450., -2000.,  1100.],\n",
       "       ...,\n",
       "       [ 9000.,   125.,   365., 16751., 18751., 54625.],\n",
       "       [ 9000.,   165.,   365., 17650., 20001., 54625.],\n",
       "       [ 9000.,   165.,   365., 19001., 22001., 64001.]])"
      ]
     },
     "execution_count": 56,
     "metadata": {},
     "output_type": "execute_result"
    }
   ],
   "source": [
    "#Para modificar la matriz original sin crear una nueva variable\n",
    "lendig_co_numeric.sort(axis=0) #la sobreescribe\n",
    "lendig_co_numeric"
   ]
  },
  {
   "cell_type": "markdown",
   "id": "66b58a88-aaed-4dc4-8093-6a31d1c34bc9",
   "metadata": {},
   "source": [
    "            Argument Functions"
   ]
  },
  {
   "cell_type": "code",
   "execution_count": 57,
   "id": "5722ebdf-c103-4d0e-9e9e-91b03c32bb34",
   "metadata": {},
   "outputs": [
    {
     "data": {
      "text/plain": [
       "array([[ 1000.,    35.,   365., -2870., -2870.,  -350.],\n",
       "       [ 1000.,    35.,   365., -2550., -2100.,   150.],\n",
       "       [ 1000.,    35.,   365., -2450., -2000.,  1100.],\n",
       "       ...,\n",
       "       [ 9000.,   125.,   365., 16751., 18751., 54625.],\n",
       "       [ 9000.,   165.,   365., 17650., 20001., 54625.],\n",
       "       [ 9000.,   165.,   365., 19001., 22001., 64001.]])"
      ]
     },
     "execution_count": 57,
     "metadata": {},
     "output_type": "execute_result"
    }
   ],
   "source": [
    "lending_co_numeric = np.loadtxt('E:\\FRANCO\\Curso Data Analyst\\S27 - NumPy Preprocessing\\Lending-company-Numeric.csv', delimiter =',')\n",
    "lendig_co_numeric"
   ]
  },
  {
   "cell_type": "code",
   "execution_count": 58,
   "id": "76389e88-d6e6-4571-9b59-7faa6bd98073",
   "metadata": {},
   "outputs": [],
   "source": [
    "    #np.argsort()"
   ]
  },
  {
   "cell_type": "code",
   "execution_count": 59,
   "id": "c915b507-33ff-426b-8a03-e750e314aed1",
   "metadata": {},
   "outputs": [
    {
     "data": {
      "text/plain": [
       "array([[3, 4, 5, 1, 2, 0],\n",
       "       [3, 4, 1, 5, 2, 0],\n",
       "       [3, 4, 1, 2, 0, 5],\n",
       "       ...,\n",
       "       [1, 2, 0, 3, 4, 5],\n",
       "       [1, 2, 0, 3, 4, 5],\n",
       "       [1, 2, 0, 3, 4, 5]], dtype=int64)"
      ]
     },
     "execution_count": 59,
     "metadata": {},
     "output_type": "execute_result"
    }
   ],
   "source": [
    "np.argsort(lendig_co_numeric)#muestra los indices de los numeros ordenados"
   ]
  },
  {
   "cell_type": "code",
   "execution_count": 60,
   "id": "ec2f74d5-72e8-436d-b53a-60e850fb7087",
   "metadata": {},
   "outputs": [
    {
     "data": {
      "text/plain": [
       "array([[   0,    0,    0,    0,    0,    0],\n",
       "       [ 155,    1,  687,    1,    1,    1],\n",
       "       [ 156,    2,  688,    2,    2,    2],\n",
       "       ...,\n",
       "       [1022, 1031,  355, 1040, 1040, 1040],\n",
       "       [1031, 1041,  357, 1041, 1041, 1041],\n",
       "       [1042, 1042, 1042, 1042, 1042, 1042]], dtype=int64)"
      ]
     },
     "execution_count": 60,
     "metadata": {},
     "output_type": "execute_result"
    }
   ],
   "source": [
    "np.argsort(lendig_co_numeric,axis=0) #ordena por columas pero tambien mostrando solo los indices"
   ]
  },
  {
   "cell_type": "code",
   "execution_count": 61,
   "id": "f3f92e9b-dbd6-4d16-a47a-9a90c032a89e",
   "metadata": {},
   "outputs": [
    {
     "data": {
      "text/plain": [
       "array([[ 1000.,    35.,   365., -2870., -2870.,  -350.],\n",
       "       [ 1000.,    40.,   365.,  2160.,  3350., 12431.],\n",
       "       [ 1000.,    40.,   365.,  2160.,  3350., 12451.],\n",
       "       ...,\n",
       "       [ 9000.,   125.,   365., 12270., 15500., 24126.],\n",
       "       [ 9000.,   125.,   365., 13001., 16576., 45745.],\n",
       "       [ 9000.,   165.,   365., 19001., 22001., 64001.]])"
      ]
     },
     "execution_count": 61,
     "metadata": {},
     "output_type": "execute_result"
    }
   ],
   "source": [
    "lendig_co_numeric = lendig_co_numeric[np.argsort(lendig_co_numeric[:,0])] #ordeno la primer columna y dejo todo como estaba\n",
    "lendig_co_numeric"
   ]
  },
  {
   "cell_type": "code",
   "execution_count": 62,
   "id": "db507a73-f222-42ff-9dc6-376836e28cb0",
   "metadata": {},
   "outputs": [
    {
     "data": {
      "text/plain": [
       "array([[   0,    0,    0,    0,    0,    0],\n",
       "       [ 155,  157,  687,  155,  155,  155],\n",
       "       [ 156,  156,  688,  156,  156,  156],\n",
       "       ...,\n",
       "       [1022, 1041,  355, 1023, 1023, 1023],\n",
       "       [1031, 1031,  357, 1031, 1031, 1031],\n",
       "       [1042, 1042, 1042, 1042, 1042, 1042]], dtype=int64)"
      ]
     },
     "execution_count": 62,
     "metadata": {},
     "output_type": "execute_result"
    }
   ],
   "source": [
    "lendig_co_numeric.argsort(axis=0) #este metodo no sobreescribe la matriz original"
   ]
  },
  {
   "cell_type": "code",
   "execution_count": 63,
   "id": "eda88efc-81fc-45a5-a4a6-059084bf33ef",
   "metadata": {},
   "outputs": [
    {
     "data": {
      "text/plain": [
       "array([[ 1000.,    35.,   365., -2870., -2870.,  -350.],\n",
       "       [ 1000.,    40.,   365.,  2160.,  3350., 12431.],\n",
       "       [ 1000.,    40.,   365.,  2160.,  3350., 12451.],\n",
       "       ...,\n",
       "       [ 9000.,   125.,   365., 12270., 15500., 24126.],\n",
       "       [ 9000.,   125.,   365., 13001., 16576., 45745.],\n",
       "       [ 9000.,   165.,   365., 19001., 22001., 64001.]])"
      ]
     },
     "execution_count": 63,
     "metadata": {},
     "output_type": "execute_result"
    }
   ],
   "source": [
    "lendig_co_numeric"
   ]
  },
  {
   "cell_type": "code",
   "execution_count": 64,
   "id": "89890647-031b-4a94-91c6-2635f5cd9a97",
   "metadata": {},
   "outputs": [],
   "source": [
    "    #np.argwhere()"
   ]
  },
  {
   "cell_type": "code",
   "execution_count": 65,
   "id": "01b369d0-76da-45db-bb7a-1d2958a2b169",
   "metadata": {},
   "outputs": [
    {
     "data": {
      "text/plain": [
       "array([[ 2000.,    40.,   365.,  3121.,  4241., 13621.],\n",
       "       [ 2000.,    40.,   365.,  3061.,  4171., 15041.],\n",
       "       [ 1000.,    40.,   365.,  2160.,  3280., 15340.],\n",
       "       ...,\n",
       "       [ 2000.,    40.,   365.,  4201.,  5001., 16600.],\n",
       "       [ 1000.,    40.,   365.,  2080.,  3320., 15600.],\n",
       "       [ 2000.,    40.,   365.,  4601.,  4601., 16600.]])"
      ]
     },
     "execution_count": 65,
     "metadata": {},
     "output_type": "execute_result"
    }
   ],
   "source": [
    "lending_co_data_numeric = np.loadtxt('E:\\FRANCO\\Curso Data Analyst\\S27 - NumPy Preprocessing\\Lending-company-Numeric.csv', delimiter =',')\n",
    "lending_co_data_numeric"
   ]
  },
  {
   "cell_type": "code",
   "execution_count": 66,
   "id": "547e4f40-3272-4d50-b64e-1bb463d993e4",
   "metadata": {},
   "outputs": [
    {
     "data": {
      "text/plain": [
       "array([[   0,    0],\n",
       "       [   0,    1],\n",
       "       [   0,    2],\n",
       "       ...,\n",
       "       [1042,    3],\n",
       "       [1042,    4],\n",
       "       [1042,    5]], dtype=int64)"
      ]
     },
     "execution_count": 66,
     "metadata": {},
     "output_type": "execute_result"
    }
   ],
   "source": [
    "#muestra las coordenadas de los valores que cumplen una cierta condicion. Por defecto es !=0\n",
    "np.argwhere(lending_co_data_numeric) #primera fila representa el indice de las filas y la 2da el indice de las columnas"
   ]
  },
  {
   "cell_type": "code",
   "execution_count": 67,
   "id": "6a7fc09c-3ff4-4d0a-879c-f3be9e496228",
   "metadata": {},
   "outputs": [
    {
     "data": {
      "text/plain": [
       "array([[116,   4],\n",
       "       [430,   3]], dtype=int64)"
      ]
     },
     "execution_count": 67,
     "metadata": {},
     "output_type": "execute_result"
    }
   ],
   "source": [
    "#si quiero encontrar donde hay 0s\n",
    "np.argwhere(lending_co_data_numeric == False)"
   ]
  },
  {
   "cell_type": "code",
   "execution_count": 68,
   "id": "46a14536-a537-4e6b-9657-7dbbb71fc0c4",
   "metadata": {},
   "outputs": [
    {
     "data": {
      "text/plain": [
       "array([[   0,    0],\n",
       "       [   0,    1],\n",
       "       [   1,    0],\n",
       "       ...,\n",
       "       [1042,    0],\n",
       "       [1042,    1],\n",
       "       [1042,    5]], dtype=int64)"
      ]
     },
     "execution_count": 68,
     "metadata": {},
     "output_type": "execute_result"
    }
   ],
   "source": [
    "#puedo poner cualquier condicion\n",
    "np.argwhere(lending_co_data_numeric%2 == 0)"
   ]
  },
  {
   "cell_type": "code",
   "execution_count": 69,
   "id": "99d058c3-89d9-40b0-a66a-f5c7f9e2fd0e",
   "metadata": {},
   "outputs": [
    {
     "data": {
      "text/plain": [
       "array([[ 2000.,    40.,   365.,  3121.,  4241., 13621.],\n",
       "       [ 2000.,    40.,   365.,  3061.,  4171., 15041.],\n",
       "       [ 1000.,    40.,   365.,  2160.,  3280., 15340.],\n",
       "       ...,\n",
       "       [   nan,    40.,   365.,  4201.,  5001., 16600.],\n",
       "       [ 1000.,    40.,   365.,  2080.,  3320., 15600.],\n",
       "       [ 2000.,    40.,   365.,  4601.,  4601., 16600.]])"
      ]
     },
     "execution_count": 69,
     "metadata": {},
     "output_type": "execute_result"
    }
   ],
   "source": [
    "lending_co_data_numeric_NAN = np.genfromtxt('E:\\FRANCO\\Curso Data Analyst\\S27 - NumPy Preprocessing\\Lending-company-Numeric-NAN.csv', delimiter =';')\n",
    "lending_co_data_numeric_NAN"
   ]
  },
  {
   "cell_type": "code",
   "execution_count": 70,
   "id": "73d3705d-f7db-43c5-837b-9dc981b3c559",
   "metadata": {},
   "outputs": [
    {
     "data": {
      "text/plain": [
       "array([[  11,    3],\n",
       "       [  15,    3],\n",
       "       [  27,    3],\n",
       "       [  58,    3],\n",
       "       [  60,    4],\n",
       "       [  85,    4],\n",
       "       [ 117,    5],\n",
       "       [ 152,    1],\n",
       "       [ 152,    2],\n",
       "       [ 152,    4],\n",
       "       [ 172,    1],\n",
       "       [ 175,    1],\n",
       "       [ 175,    2],\n",
       "       [ 176,    3],\n",
       "       [ 177,    4],\n",
       "       [ 178,    5],\n",
       "       [ 211,    3],\n",
       "       [ 229,    0],\n",
       "       [ 230,    1],\n",
       "       [ 237,    1],\n",
       "       [ 247,    3],\n",
       "       [ 251,    5],\n",
       "       [ 252,    4],\n",
       "       [ 258,    1],\n",
       "       [ 260,    3],\n",
       "       [ 262,    4],\n",
       "       [ 271,    5],\n",
       "       [ 272,    4],\n",
       "       [ 284,    2],\n",
       "       [ 284,    3],\n",
       "       [ 297,    1],\n",
       "       [ 297,    2],\n",
       "       [ 300,    3],\n",
       "       [ 315,    3],\n",
       "       [ 315,    5],\n",
       "       [ 327,    4],\n",
       "       [ 336,    4],\n",
       "       [ 343,    0],\n",
       "       [ 344,    2],\n",
       "       [ 346,    2],\n",
       "       [ 363,    3],\n",
       "       [ 375,    3],\n",
       "       [ 377,    2],\n",
       "       [ 398,    5],\n",
       "       [ 416,    4],\n",
       "       [ 428,    0],\n",
       "       [ 432,    1],\n",
       "       [ 433,    3],\n",
       "       [ 434,    2],\n",
       "       [ 440,    3],\n",
       "       [ 441,    1],\n",
       "       [ 446,    2],\n",
       "       [ 455,    1],\n",
       "       [ 456,    2],\n",
       "       [ 458,    2],\n",
       "       [ 461,    3],\n",
       "       [ 467,    4],\n",
       "       [ 468,    0],\n",
       "       [ 469,    3],\n",
       "       [ 470,    0],\n",
       "       [ 481,    1],\n",
       "       [ 482,    3],\n",
       "       [ 484,    4],\n",
       "       [ 489,    0],\n",
       "       [ 493,    5],\n",
       "       [ 499,    0],\n",
       "       [ 504,    3],\n",
       "       [ 506,    1],\n",
       "       [ 517,    4],\n",
       "       [ 518,    0],\n",
       "       [ 521,    2],\n",
       "       [ 530,    5],\n",
       "       [ 532,    3],\n",
       "       [ 534,    5],\n",
       "       [ 547,    3],\n",
       "       [ 549,    5],\n",
       "       [ 553,    5],\n",
       "       [ 554,    5],\n",
       "       [ 559,    3],\n",
       "       [ 566,    0],\n",
       "       [ 566,    1],\n",
       "       [ 566,    2],\n",
       "       [ 567,    0],\n",
       "       [ 567,    1],\n",
       "       [ 567,    2],\n",
       "       [ 581,    1],\n",
       "       [ 581,    2],\n",
       "       [ 582,    1],\n",
       "       [ 582,    2],\n",
       "       [ 583,    1],\n",
       "       [ 583,    2],\n",
       "       [ 593,    3],\n",
       "       [ 594,    3],\n",
       "       [ 595,    3],\n",
       "       [ 596,    3],\n",
       "       [ 609,    4],\n",
       "       [ 609,    5],\n",
       "       [ 610,    4],\n",
       "       [ 610,    5],\n",
       "       [ 611,    4],\n",
       "       [ 611,    5],\n",
       "       [ 612,    4],\n",
       "       [ 612,    5],\n",
       "       [ 623,    2],\n",
       "       [ 623,    3],\n",
       "       [ 624,    2],\n",
       "       [ 624,    3],\n",
       "       [ 625,    2],\n",
       "       [ 625,    3],\n",
       "       [ 626,    2],\n",
       "       [ 626,    3],\n",
       "       [ 627,    2],\n",
       "       [ 627,    3],\n",
       "       [ 636,    0],\n",
       "       [ 637,    0],\n",
       "       [ 637,    4],\n",
       "       [ 637,    5],\n",
       "       [ 638,    0],\n",
       "       [ 638,    4],\n",
       "       [ 638,    5],\n",
       "       [ 639,    4],\n",
       "       [ 639,    5],\n",
       "       [ 640,    4],\n",
       "       [ 640,    5],\n",
       "       [ 641,    4],\n",
       "       [ 641,    5],\n",
       "       [ 653,    1],\n",
       "       [ 653,    2],\n",
       "       [ 653,    3],\n",
       "       [ 653,    4],\n",
       "       [ 654,    1],\n",
       "       [ 654,    2],\n",
       "       [ 654,    3],\n",
       "       [ 654,    4],\n",
       "       [ 655,    1],\n",
       "       [ 655,    2],\n",
       "       [ 655,    3],\n",
       "       [ 655,    4],\n",
       "       [ 685,    2],\n",
       "       [ 686,    0],\n",
       "       [ 701,    4],\n",
       "       [ 704,    2],\n",
       "       [ 724,    1],\n",
       "       [ 724,    2],\n",
       "       [ 730,    1],\n",
       "       [ 730,    2],\n",
       "       [ 730,    3],\n",
       "       [ 731,    1],\n",
       "       [ 731,    2],\n",
       "       [ 731,    3],\n",
       "       [ 732,    1],\n",
       "       [ 732,    2],\n",
       "       [ 732,    3],\n",
       "       [ 733,    1],\n",
       "       [ 733,    2],\n",
       "       [ 733,    3],\n",
       "       [ 742,    4],\n",
       "       [ 747,    3],\n",
       "       [ 755,    1],\n",
       "       [ 758,    1],\n",
       "       [ 760,    1],\n",
       "       [ 764,    0],\n",
       "       [ 764,    1],\n",
       "       [ 764,    2],\n",
       "       [ 764,    3],\n",
       "       [ 764,    4],\n",
       "       [ 764,    5],\n",
       "       [ 765,    3],\n",
       "       [ 775,    1],\n",
       "       [ 775,    2],\n",
       "       [ 775,    3],\n",
       "       [ 776,    1],\n",
       "       [ 776,    2],\n",
       "       [ 776,    3],\n",
       "       [ 777,    1],\n",
       "       [ 777,    2],\n",
       "       [ 777,    3],\n",
       "       [ 778,    1],\n",
       "       [ 778,    2],\n",
       "       [ 778,    3],\n",
       "       [ 787,    4],\n",
       "       [ 788,    1],\n",
       "       [ 790,    2],\n",
       "       [ 794,    3],\n",
       "       [ 795,    5],\n",
       "       [ 796,    1],\n",
       "       [ 796,    4],\n",
       "       [ 800,    0],\n",
       "       [ 801,    1],\n",
       "       [ 802,    1],\n",
       "       [ 803,    2],\n",
       "       [ 805,    0],\n",
       "       [ 809,    0],\n",
       "       [ 810,    0],\n",
       "       [ 811,    0],\n",
       "       [ 812,    1],\n",
       "       [ 820,    0],\n",
       "       [ 820,    3],\n",
       "       [ 820,    4],\n",
       "       [ 822,    2],\n",
       "       [ 823,    2],\n",
       "       [ 825,    0],\n",
       "       [ 830,    1],\n",
       "       [ 830,    2],\n",
       "       [ 836,    3],\n",
       "       [ 837,    3],\n",
       "       [ 838,    3],\n",
       "       [ 839,    4],\n",
       "       [ 843,    2],\n",
       "       [ 856,    0],\n",
       "       [ 856,    1],\n",
       "       [ 856,    3],\n",
       "       [ 856,    4],\n",
       "       [ 856,    5],\n",
       "       [ 857,    0],\n",
       "       [ 858,    1],\n",
       "       [ 870,    0],\n",
       "       [ 870,    2],\n",
       "       [ 870,    3],\n",
       "       [ 872,    0],\n",
       "       [ 873,    0],\n",
       "       [ 874,    1],\n",
       "       [ 890,    1],\n",
       "       [ 890,    2],\n",
       "       [ 890,    3],\n",
       "       [ 909,    1],\n",
       "       [ 910,    0],\n",
       "       [ 912,    0],\n",
       "       [ 912,    2],\n",
       "       [ 912,    3],\n",
       "       [ 912,    4],\n",
       "       [ 928,    1],\n",
       "       [ 928,    2],\n",
       "       [ 928,    3],\n",
       "       [ 929,    1],\n",
       "       [ 929,    2],\n",
       "       [ 929,    3],\n",
       "       [ 930,    3],\n",
       "       [ 958,    2],\n",
       "       [ 959,    3],\n",
       "       [ 960,    3],\n",
       "       [1024,    0],\n",
       "       [1024,    2],\n",
       "       [1026,    2],\n",
       "       [1026,    4],\n",
       "       [1028,    0],\n",
       "       [1028,    3],\n",
       "       [1028,    4],\n",
       "       [1029,    0],\n",
       "       [1030,    1],\n",
       "       [1030,    5],\n",
       "       [1032,    0],\n",
       "       [1032,    5],\n",
       "       [1034,    3],\n",
       "       [1035,    4],\n",
       "       [1036,    2],\n",
       "       [1037,    1],\n",
       "       [1038,    4],\n",
       "       [1039,    3],\n",
       "       [1040,    0]], dtype=int64)"
      ]
     },
     "execution_count": 70,
     "metadata": {},
     "output_type": "execute_result"
    }
   ],
   "source": [
    "#para dar las coordenadas de todos los elementos faltantes\n",
    "np.argwhere(np.isnan(lending_co_data_numeric_NAN))"
   ]
  },
  {
   "cell_type": "code",
   "execution_count": 71,
   "id": "8b68c088-b01f-49cb-8201-b0598b97d4a0",
   "metadata": {},
   "outputs": [
    {
     "data": {
      "text/plain": [
       "array([ 2000.,    50.,   365.,    nan,  4190., 10790.])"
      ]
     },
     "execution_count": 71,
     "metadata": {},
     "output_type": "execute_result"
    }
   ],
   "source": [
    "#verifico\n",
    "lending_co_data_numeric_NAN[11]"
   ]
  },
  {
   "cell_type": "code",
   "execution_count": 72,
   "id": "d85f5037-9204-49a2-b78a-fb21a8b6177c",
   "metadata": {},
   "outputs": [],
   "source": [
    "#si quiero rellenar todos esos valores faltantes con 0s\n",
    "for array_index in np.argwhere(np.isnan(lending_co_data_numeric_NAN)):\n",
    "    lending_co_data_numeric_NAN[array_index[0],array_index[1]] = 0"
   ]
  },
  {
   "cell_type": "code",
   "execution_count": 73,
   "id": "37227be7-f024-4f5d-b0e0-64ed4d1cb81f",
   "metadata": {},
   "outputs": [
    {
     "data": {
      "text/plain": [
       "array([ 2000.,    50.,   365.,     0.,  4190., 10790.])"
      ]
     },
     "execution_count": 73,
     "metadata": {},
     "output_type": "execute_result"
    }
   ],
   "source": [
    "lending_co_data_numeric_NAN[11]"
   ]
  },
  {
   "cell_type": "markdown",
   "id": "183d95dc-dedb-4173-9cdc-b915f614011a",
   "metadata": {},
   "source": [
    "        Shuffling Data"
   ]
  },
  {
   "cell_type": "code",
   "execution_count": 74,
   "id": "2842e428-3c3f-4479-a282-905f5ff0abbb",
   "metadata": {},
   "outputs": [
    {
     "data": {
      "text/plain": [
       "array([[ 2000.,    40.,   365.,  3121.,  4241., 13621.],\n",
       "       [ 2000.,    40.,   365.,  3061.,  4171., 15041.],\n",
       "       [ 1000.,    40.,   365.,  2160.,  3280., 15340.],\n",
       "       [ 2000.,    40.,   365.,  3041.,  4241., 15321.],\n",
       "       [ 2000.,    50.,   365.,  3470.,  4820., 13720.],\n",
       "       [ 2000.,    40.,   365.,  3201.,  4141., 14141.],\n",
       "       [ 2000.,    50.,   365.,  1851.,  3251., 17701.],\n",
       "       [ 2000.,    40.,   365.,  3971.,  4131., 15351.]])"
      ]
     },
     "execution_count": 74,
     "metadata": {},
     "output_type": "execute_result"
    }
   ],
   "source": [
    "#voy a usar solo las 8 primeras filas para ver mejor\n",
    "lending_co_data_numeric = np.loadtxt('E:\\FRANCO\\Curso Data Analyst\\S27 - NumPy Preprocessing\\Lending-company-Numeric.csv', delimiter =',')[:8]\n",
    "lending_co_data_numeric"
   ]
  },
  {
   "cell_type": "code",
   "execution_count": 75,
   "id": "6f25d48a-2a1c-49ca-b348-3e9cd75cadf6",
   "metadata": {},
   "outputs": [],
   "source": [
    "#Mezclo las filas para arriba o abajo\n",
    "np.random.shuffle(lending_co_data_numeric)"
   ]
  },
  {
   "cell_type": "code",
   "execution_count": 76,
   "id": "1d732f5e-7948-4273-8dc5-e1217294a198",
   "metadata": {},
   "outputs": [
    {
     "data": {
      "text/plain": [
       "array([[ 2000.,    40.,   365.,  3061.,  4171., 15041.],\n",
       "       [ 2000.,    50.,   365.,  1851.,  3251., 17701.],\n",
       "       [ 2000.,    40.,   365.,  3041.,  4241., 15321.],\n",
       "       [ 1000.,    40.,   365.,  2160.,  3280., 15340.],\n",
       "       [ 2000.,    40.,   365.,  3121.,  4241., 13621.],\n",
       "       [ 2000.,    40.,   365.,  3201.,  4141., 14141.],\n",
       "       [ 2000.,    40.,   365.,  3971.,  4131., 15351.],\n",
       "       [ 2000.,    50.,   365.,  3470.,  4820., 13720.]])"
      ]
     },
     "execution_count": 76,
     "metadata": {},
     "output_type": "execute_result"
    }
   ],
   "source": [
    "lending_co_data_numeric"
   ]
  },
  {
   "cell_type": "code",
   "execution_count": 77,
   "id": "3d258fe2-4562-4f54-8fcc-98465e827fc0",
   "metadata": {},
   "outputs": [
    {
     "data": {
      "text/plain": [
       "array([[ 2000.,    40.,   365.,  3121.,  4241., 13621.],\n",
       "       [ 2000.,    40.,   365.,  3061.,  4171., 15041.],\n",
       "       [ 1000.,    40.,   365.,  2160.,  3280., 15340.],\n",
       "       ...,\n",
       "       [ 2000.,    40.,   365.,  4201.,  5001., 16600.],\n",
       "       [ 1000.,    40.,   365.,  2080.,  3320., 15600.],\n",
       "       [ 2000.,    40.,   365.,  4601.,  4601., 16600.]])"
      ]
     },
     "execution_count": 77,
     "metadata": {},
     "output_type": "execute_result"
    }
   ],
   "source": [
    "lending_co_data_numeric = np.loadtxt('E:\\FRANCO\\Curso Data Analyst\\S27 - NumPy Preprocessing\\Lending-company-Numeric.csv', delimiter =',')\n",
    "lending_co_data_numeric"
   ]
  },
  {
   "cell_type": "code",
   "execution_count": 78,
   "id": "a3b6db28-9532-412f-9704-7cdc47af48f3",
   "metadata": {},
   "outputs": [],
   "source": [
    "from numpy.random import shuffle"
   ]
  },
  {
   "cell_type": "code",
   "execution_count": 79,
   "id": "59f8198b-deca-4294-b74c-1491b361c948",
   "metadata": {},
   "outputs": [
    {
     "data": {
      "text/plain": [
       "array([[ 1000.,    50.,   365.,   900.,  2150., 19250.],\n",
       "       [ 4000.,    50.,   365.,  7000., 10000., 22250.],\n",
       "       [ 2000.,    40.,   365.,  3401.,  4781., 16421.],\n",
       "       ...,\n",
       "       [ 2000.,    40.,   365.,  3321.,  4221., 12541.],\n",
       "       [ 2000.,    40.,   365.,  3221.,  4421., 16541.],\n",
       "       [ 1000.,    50.,   365., -2400., -1750.,  1830.]])"
      ]
     },
     "execution_count": 79,
     "metadata": {},
     "output_type": "execute_result"
    }
   ],
   "source": [
    "#ahora directamente lo llamo asi\n",
    "shuffle(lending_co_data_numeric)\n",
    "lending_co_data_numeric"
   ]
  },
  {
   "cell_type": "code",
   "execution_count": 80,
   "id": "6ceea15f-fb3e-4898-b44d-867fd00c322b",
   "metadata": {},
   "outputs": [],
   "source": [
    "#otra forma de barajar (shuffle)"
   ]
  },
  {
   "cell_type": "code",
   "execution_count": 81,
   "id": "37b89e2b-5657-43cc-bd5c-8ef65ed347f0",
   "metadata": {},
   "outputs": [],
   "source": [
    "from numpy.random import Generator as gen\n",
    "from numpy.random import PCG64 as pcg"
   ]
  },
  {
   "cell_type": "code",
   "execution_count": 82,
   "id": "abcd2bf3-401e-446c-b018-c6e9ff0e75e0",
   "metadata": {},
   "outputs": [
    {
     "data": {
      "text/plain": [
       "array([[ 2000.,    50.,   365.,  4401.,  5301., 20250.],\n",
       "       [ 2000.,    40.,   365.,  3401.,  4601., 16600.],\n",
       "       [ 2000.,    40.,   365.,  4701.,  6201., 14401.],\n",
       "       ...,\n",
       "       [ 4000.,    50.,   365.,  5250.,  6750.,  8250.],\n",
       "       [ 2000.,    50.,   365.,  3501.,  5131., 18081.],\n",
       "       [ 1000.,    50.,   365., -2000.,  -550., 13850.]])"
      ]
     },
     "execution_count": 82,
     "metadata": {},
     "output_type": "execute_result"
    }
   ],
   "source": [
    "array_RG = gen(pcg())\n",
    "array_RG.shuffle(lending_co_data_numeric)\n",
    "lending_co_data_numeric"
   ]
  },
  {
   "cell_type": "markdown",
   "id": "3ce13917-a75a-4f47-b443-e4dce92bc6dd",
   "metadata": {},
   "source": [
    "        CASTING"
   ]
  },
  {
   "cell_type": "code",
   "execution_count": 83,
   "id": "3a98e33d-cf57-4471-b53a-174ab1742f02",
   "metadata": {},
   "outputs": [
    {
     "data": {
      "text/plain": [
       "array([[ 2000.,    40.,   365.,  3121.,  4241., 13621.],\n",
       "       [ 2000.,    40.,   365.,  3061.,  4171., 15041.],\n",
       "       [ 1000.,    40.,   365.,  2160.,  3280., 15340.],\n",
       "       ...,\n",
       "       [ 2000.,    40.,   365.,  4201.,  5001., 16600.],\n",
       "       [ 1000.,    40.,   365.,  2080.,  3320., 15600.],\n",
       "       [ 2000.,    40.,   365.,  4601.,  4601., 16600.]])"
      ]
     },
     "execution_count": 83,
     "metadata": {},
     "output_type": "execute_result"
    }
   ],
   "source": [
    "lending_co_data_numeric = np.loadtxt('E:\\FRANCO\\Curso Data Analyst\\S27 - NumPy Preprocessing\\Lending-company-Numeric.csv', delimiter =',')\n",
    "lending_co_data_numeric"
   ]
  },
  {
   "cell_type": "code",
   "execution_count": 84,
   "id": "5f887b0b-bee3-400e-9493-a862a6715f7b",
   "metadata": {},
   "outputs": [
    {
     "data": {
      "text/plain": [
       "array([[ 2000,    40,   365,  3121,  4241, 13621],\n",
       "       [ 2000,    40,   365,  3061,  4171, 15041],\n",
       "       [ 1000,    40,   365,  2160,  3280, 15340],\n",
       "       ...,\n",
       "       [ 2000,    40,   365,  4201,  5001, 16600],\n",
       "       [ 1000,    40,   365,  2080,  3320, 15600],\n",
       "       [ 2000,    40,   365,  4601,  4601, 16600]])"
      ]
     },
     "execution_count": 84,
     "metadata": {},
     "output_type": "execute_result"
    }
   ],
   "source": [
    "#cambio el tipo de datos a enteros\n",
    "lending_co_data_numeric.astype(dtype = np.int32)"
   ]
  },
  {
   "cell_type": "code",
   "execution_count": 85,
   "id": "83b8ed59-5dce-4dd1-84ce-8e17b04bd3e9",
   "metadata": {},
   "outputs": [
    {
     "data": {
      "text/plain": [
       "array([['2000.0', '40.0', '365.0', '3121.0', '4241.0', '13621.0'],\n",
       "       ['2000.0', '40.0', '365.0', '3061.0', '4171.0', '15041.0'],\n",
       "       ['1000.0', '40.0', '365.0', '2160.0', '3280.0', '15340.0'],\n",
       "       ...,\n",
       "       ['2000.0', '40.0', '365.0', '4201.0', '5001.0', '16600.0'],\n",
       "       ['1000.0', '40.0', '365.0', '2080.0', '3320.0', '15600.0'],\n",
       "       ['2000.0', '40.0', '365.0', '4601.0', '4601.0', '16600.0']],\n",
       "      dtype='<U32')"
      ]
     },
     "execution_count": 85,
     "metadata": {},
     "output_type": "execute_result"
    }
   ],
   "source": [
    "#cambio el tipo de datos a string\n",
    "lending_co_data_numeric.astype(dtype = str)"
   ]
  },
  {
   "cell_type": "markdown",
   "id": "08884181-148e-47b7-89fa-a2fcf4dc5b9a",
   "metadata": {},
   "source": [
    "        Stripping values (eliminar valores)"
   ]
  },
  {
   "cell_type": "code",
   "execution_count": 86,
   "id": "d9979f8a-b491-47b5-a584-442657f7f62e",
   "metadata": {},
   "outputs": [
    {
     "data": {
      "text/plain": [
       "array([['id_1', 'Product B', 'Location 2'],\n",
       "       ['id_2', 'Product B', 'Location 3'],\n",
       "       ['id_3', 'Product C', 'Location 5'],\n",
       "       ...,\n",
       "       ['id_413', 'Product B', 'Location 135'],\n",
       "       ['id_414', 'Product C', 'Location 200'],\n",
       "       ['id_415', 'Product A', 'Location 8']], dtype='<U12')"
      ]
     },
     "execution_count": 86,
     "metadata": {},
     "output_type": "execute_result"
    }
   ],
   "source": [
    "lending_co_total_price = np.genfromtxt('E:\\FRANCO\\Curso Data Analyst\\S27 - NumPy Preprocessing\\Lending-Company-Total-Price.csv',\n",
    "                                      delimiter=',',\n",
    "                                      dtype = str,\n",
    "                                      skip_header=1,\n",
    "                                      usecols=[1,2,4])\n",
    "lending_co_total_price"
   ]
  },
  {
   "cell_type": "code",
   "execution_count": 87,
   "id": "2d461e35-8ecc-4c9e-8e20-dde91ebf3b92",
   "metadata": {},
   "outputs": [],
   "source": [
    "#vou a quitar parte de los string, no todo el valor. "
   ]
  },
  {
   "cell_type": "code",
   "execution_count": 90,
   "id": "66575025-9efc-4d81-bcd3-f010dca91559",
   "metadata": {},
   "outputs": [
    {
     "data": {
      "text/plain": [
       "array([['1', 'B', '2'],\n",
       "       ['2', 'B', '3'],\n",
       "       ['3', 'C', '5'],\n",
       "       ...,\n",
       "       ['413', 'B', '135'],\n",
       "       ['414', 'C', '200'],\n",
       "       ['415', 'A', '8']], dtype='<U12')"
      ]
     },
     "execution_count": 90,
     "metadata": {},
     "output_type": "execute_result"
    }
   ],
   "source": [
    "#elimino el id_, Product y Location\n",
    "lending_co_total_price[:,0] = np.chararray.strip(lending_co_total_price[:,0],\"id_\")\n",
    "lending_co_total_price[:,1] = np.chararray.strip(lending_co_total_price[:,1],\"Product \")\n",
    "lending_co_total_price[:,2] = np.chararray.strip(lending_co_total_price[:,2],\"Location \")\n",
    "lending_co_total_price"
   ]
  },
  {
   "cell_type": "code",
   "execution_count": 92,
   "id": "52a4d0b4-2b19-441b-9120-193b4648dfcc",
   "metadata": {},
   "outputs": [
    {
     "data": {
      "text/plain": [
       "array([['1', '2', '2'],\n",
       "       ['2', '2', '3'],\n",
       "       ['3', '3', '5'],\n",
       "       ...,\n",
       "       ['413', '2', '135'],\n",
       "       ['414', '3', '200'],\n",
       "       ['415', '1', '8']], dtype='<U12')"
      ]
     },
     "execution_count": 92,
     "metadata": {},
     "output_type": "execute_result"
    }
   ],
   "source": [
    "#si quiero transformar las letras A,B,C, en valores numericos\n",
    "lending_co_total_price[:,1] = np.where(lending_co_total_price[:,1] == 'A', 1, lending_co_total_price[:,1])\n",
    "lending_co_total_price[:,1] = np.where(lending_co_total_price[:,1] == 'B', 2, lending_co_total_price[:,1])\n",
    "lending_co_total_price[:,1] = np.where(lending_co_total_price[:,1] == 'C', 3, lending_co_total_price[:,1])\n",
    "lending_co_total_price[:,1] = np.where(lending_co_total_price[:,1] == 'D', 4, lending_co_total_price[:,1])\n",
    "lending_co_total_price[:,1] = np.where(lending_co_total_price[:,1] == 'E', 5, lending_co_total_price[:,1])\n",
    "lending_co_total_price[:,1] = np.where(lending_co_total_price[:,1] == 'F', 6, lending_co_total_price[:,1])\n",
    "\n",
    "lending_co_total_price"
   ]
  },
  {
   "cell_type": "code",
   "execution_count": 93,
   "id": "2996485c-9f36-44bd-9e18-1b841a2ef216",
   "metadata": {},
   "outputs": [
    {
     "data": {
      "text/plain": [
       "array([[  1,   2,   2],\n",
       "       [  2,   2,   3],\n",
       "       [  3,   3,   5],\n",
       "       ...,\n",
       "       [413,   2, 135],\n",
       "       [414,   3, 200],\n",
       "       [415,   1,   8]])"
      ]
     },
     "execution_count": 93,
     "metadata": {},
     "output_type": "execute_result"
    }
   ],
   "source": [
    "#los paso a enteros\n",
    "lending_co_total_price = lending_co_total_price.astype(dtype = np.int32)\n",
    "lending_co_total_price"
   ]
  },
  {
   "cell_type": "markdown",
   "id": "2e6de419-f381-4e49-b195-a092a1b65f8b",
   "metadata": {},
   "source": [
    "        Stacking (apilamiento)"
   ]
  },
  {
   "cell_type": "code",
   "execution_count": 94,
   "id": "5295b8ad-e9d1-4f3e-8594-5b71cceab943",
   "metadata": {},
   "outputs": [
    {
     "data": {
      "text/plain": [
       "array([[ 2000.,    40.,   365.,  3121.,  4241., 13621.],\n",
       "       [ 2000.,    40.,   365.,  3061.,  4171., 15041.],\n",
       "       [ 1000.,    40.,   365.,  2160.,  3280., 15340.],\n",
       "       ...,\n",
       "       [ 2000.,    40.,   365.,  4201.,  5001., 16600.],\n",
       "       [ 1000.,    40.,   365.,  2080.,  3320., 15600.],\n",
       "       [ 2000.,    40.,   365.,  4601.,  4601., 16600.]])"
      ]
     },
     "execution_count": 94,
     "metadata": {},
     "output_type": "execute_result"
    }
   ],
   "source": [
    "lending_co_data_numeric = np.loadtxt('E:\\FRANCO\\Curso Data Analyst\\S27 - NumPy Preprocessing\\Lending-company-Numeric.csv', delimiter =',')\n",
    "lending_co_data_numeric"
   ]
  },
  {
   "cell_type": "code",
   "execution_count": 97,
   "id": "2027b9df-8950-4e0b-a129-de8478a27a8b",
   "metadata": {},
   "outputs": [
    {
     "data": {
      "text/plain": [
       "array([[ 2000.  ,    40.  ,   365.  ,  3121.  ,  4241.  , 13621.  ],\n",
       "       [ 2000.  ,    40.  ,   365.  ,  3061.  ,  4171.  , 15041.  ],\n",
       "       [ 1000.  ,    40.  ,   365.  ,  2160.  ,  3280.  , 15340.  ],\n",
       "       ...,\n",
       "       [ 2250.25,    40.  ,   365.  ,  4201.  ,  5001.  , 16600.  ],\n",
       "       [ 1000.  ,    40.  ,   365.  ,  2080.  ,  3320.  , 15600.  ],\n",
       "       [ 2000.  ,    40.  ,   365.  ,  4601.  ,  4601.  , 16600.  ]])"
      ]
     },
     "execution_count": 97,
     "metadata": {},
     "output_type": "execute_result"
    }
   ],
   "source": [
    "lending_co_data_numeric_NAN = np.genfromtxt('E:\\FRANCO\\Curso Data Analyst\\S27 - NumPy Preprocessing\\Lending-company-Numeric-NAN.csv', delimiter =';')\n",
    "#reemplazo los valores faltantes por la media de cada columa\n",
    "temporary_fill = np.nanmax(lending_co_data_numeric_NAN).round(2) +1\n",
    "temporary_mean = np.nanmean(lending_co_data_numeric_NAN, axis=0).round(2)\n",
    "\n",
    "lending_co_data_numeric_NAN = np.genfromtxt('E:\\FRANCO\\Curso Data Analyst\\S27 - NumPy Preprocessing\\Lending-company-Numeric-NAN.csv',\n",
    "                                            delimiter =';',\n",
    "                                           filling_values = temporary_fill)\n",
    "\n",
    "for i in range(lending_co_data_numeric_NAN.shape[1]):\n",
    "    lending_co_data_numeric_NAN[:,i] = np.where(lending_co_data_numeric_NAN[:,i]==temporary_fill,\n",
    "                                               temporary_mean[i],\n",
    "                                               lending_co_data_numeric_NAN[:,i])\n",
    "\n",
    "lending_co_data_numeric_NAN"
   ]
  },
  {
   "cell_type": "code",
   "execution_count": 98,
   "id": "8e43ce46-9257-4a2c-b3fe-9a568d4369ac",
   "metadata": {},
   "outputs": [],
   "source": [
    "#stackin es poner multiples objetos uno encima del otro para crear un objeto mas grande"
   ]
  },
  {
   "cell_type": "code",
   "execution_count": 100,
   "id": "67658332-ec26-4fba-97f0-62bca30f641e",
   "metadata": {},
   "outputs": [
    {
     "data": {
      "text/plain": [
       "array([[2000., 2000., 1000., ..., 2000., 1000., 2000.],\n",
       "       [  40.,   40.,   40., ...,   40.,   40.,   40.]])"
      ]
     },
     "execution_count": 100,
     "metadata": {},
     "output_type": "execute_result"
    }
   ],
   "source": [
    "np.stack((lending_co_data_numeric[:,0], lending_co_data_numeric[:,1])) #tome las 2 primeras columnas y las apile como si fueran 2 filas "
   ]
  },
  {
   "cell_type": "code",
   "execution_count": 102,
   "id": "6a790495-7c3c-4ab1-b059-a4f53ced1a7e",
   "metadata": {},
   "outputs": [
    {
     "data": {
      "text/plain": [
       "array([[2000.,   40.,  365.],\n",
       "       [2000.,   40.,  365.],\n",
       "       [1000.,   40.,  365.],\n",
       "       ...,\n",
       "       [2000.,   40.,  365.],\n",
       "       [1000.,   40.,  365.],\n",
       "       [2000.,   40.,  365.]])"
      ]
     },
     "execution_count": 102,
     "metadata": {},
     "output_type": "execute_result"
    }
   ],
   "source": [
    "#si las quiero apilar como columnas una al lado de la otra\n",
    "np.stack((lending_co_data_numeric[:,0], lending_co_data_numeric[:,1],lending_co_data_numeric[:,2]),axis=1)"
   ]
  },
  {
   "cell_type": "code",
   "execution_count": 106,
   "id": "bc7029e3-a412-4c5a-a544-52f4b8a0836d",
   "metadata": {},
   "outputs": [
    {
     "data": {
      "text/plain": [
       "(2086, 6)"
      ]
     },
     "execution_count": 106,
     "metadata": {},
     "output_type": "execute_result"
    }
   ],
   "source": [
    "#apilando 2 matrices verticalmente\n",
    "np.vstack((lending_co_data_numeric, lending_co_data_numeric_NAN)).shape #shape para ver la forma y comprobar que se apilaron"
   ]
  },
  {
   "cell_type": "code",
   "execution_count": 107,
   "id": "dde47431-6fb7-4c7d-8ca9-7f34d9538bba",
   "metadata": {},
   "outputs": [
    {
     "data": {
      "text/plain": [
       "(1043, 12)"
      ]
     },
     "execution_count": 107,
     "metadata": {},
     "output_type": "execute_result"
    }
   ],
   "source": [
    "#apilando 2 matrices horizontalmente\n",
    "np.hstack((lending_co_data_numeric, lending_co_data_numeric_NAN)).shape"
   ]
  },
  {
   "cell_type": "code",
   "execution_count": 109,
   "id": "4e4c1da1-08c9-47a6-a05f-b927bb1ec836",
   "metadata": {},
   "outputs": [
    {
     "data": {
      "text/plain": [
       "(1043, 6, 2)"
      ]
     },
     "execution_count": 109,
     "metadata": {},
     "output_type": "execute_result"
    }
   ],
   "source": [
    "#añade una dimension a la matriz, como si la hiciera 3D\n",
    "np.dstack((lending_co_data_numeric, lending_co_data_numeric_NAN)).shape"
   ]
  },
  {
   "cell_type": "code",
   "execution_count": 111,
   "id": "6fb8d5b0-37d1-4ab9-a735-89fb2c14031c",
   "metadata": {},
   "outputs": [
    {
     "data": {
      "text/plain": [
       "array([[[ 2000.  ,  2000.  ],\n",
       "        [   40.  ,    40.  ],\n",
       "        [  365.  ,   365.  ],\n",
       "        [ 3121.  ,  3121.  ],\n",
       "        [ 4241.  ,  4241.  ],\n",
       "        [13621.  , 13621.  ]],\n",
       "\n",
       "       [[ 2000.  ,  2000.  ],\n",
       "        [   40.  ,    40.  ],\n",
       "        [  365.  ,   365.  ],\n",
       "        [ 3061.  ,  3061.  ],\n",
       "        [ 4171.  ,  4171.  ],\n",
       "        [15041.  , 15041.  ]],\n",
       "\n",
       "       [[ 1000.  ,  1000.  ],\n",
       "        [   40.  ,    40.  ],\n",
       "        [  365.  ,   365.  ],\n",
       "        [ 2160.  ,  2160.  ],\n",
       "        [ 3280.  ,  3280.  ],\n",
       "        [15340.  , 15340.  ]],\n",
       "\n",
       "       ...,\n",
       "\n",
       "       [[ 2000.  ,  2250.25],\n",
       "        [   40.  ,    40.  ],\n",
       "        [  365.  ,   365.  ],\n",
       "        [ 4201.  ,  4201.  ],\n",
       "        [ 5001.  ,  5001.  ],\n",
       "        [16600.  , 16600.  ]],\n",
       "\n",
       "       [[ 1000.  ,  1000.  ],\n",
       "        [   40.  ,    40.  ],\n",
       "        [  365.  ,   365.  ],\n",
       "        [ 2080.  ,  2080.  ],\n",
       "        [ 3320.  ,  3320.  ],\n",
       "        [15600.  , 15600.  ]],\n",
       "\n",
       "       [[ 2000.  ,  2000.  ],\n",
       "        [   40.  ,    40.  ],\n",
       "        [  365.  ,   365.  ],\n",
       "        [ 4601.  ,  4601.  ],\n",
       "        [ 4601.  ,  4601.  ],\n",
       "        [16600.  , 16600.  ]]])"
      ]
     },
     "execution_count": 111,
     "metadata": {},
     "output_type": "execute_result"
    }
   ],
   "source": [
    "#puedo obtener el mismo resultado que dtack para matrices 2D. Para mas dimensiones NO sirve\n",
    "np.stack((lending_co_data_numeric, lending_co_data_numeric_NAN), axis=-1)"
   ]
  },
  {
   "cell_type": "markdown",
   "id": "5f9b5d66-1005-43cf-815a-0ff62bb86a1d",
   "metadata": {},
   "source": [
    "        Concatenate"
   ]
  },
  {
   "cell_type": "code",
   "execution_count": 112,
   "id": "85764532-298d-46bb-bc27-f08fe6c6dd62",
   "metadata": {},
   "outputs": [
    {
     "data": {
      "text/plain": [
       "array([[ 2000.,    40.,   365.,  3121.,  4241., 13621.],\n",
       "       [ 2000.,    40.,   365.,  3061.,  4171., 15041.],\n",
       "       [ 1000.,    40.,   365.,  2160.,  3280., 15340.],\n",
       "       ...,\n",
       "       [ 2000.,    40.,   365.,  4201.,  5001., 16600.],\n",
       "       [ 1000.,    40.,   365.,  2080.,  3320., 15600.],\n",
       "       [ 2000.,    40.,   365.,  4601.,  4601., 16600.]])"
      ]
     },
     "execution_count": 112,
     "metadata": {},
     "output_type": "execute_result"
    }
   ],
   "source": [
    "lending_co_data_numeric = np.loadtxt('E:\\FRANCO\\Curso Data Analyst\\S27 - NumPy Preprocessing\\Lending-company-Numeric.csv', delimiter =',')\n",
    "lending_co_data_numeric"
   ]
  },
  {
   "cell_type": "code",
   "execution_count": 113,
   "id": "019d2283-2ff1-46b7-9c0b-5022ed4b3e83",
   "metadata": {},
   "outputs": [
    {
     "data": {
      "text/plain": [
       "array([ 2000.,    40.,   365.,  3121.,  4241., 13621.,  2000.,    40.,\n",
       "         365.,  3061.,  4171., 15041.])"
      ]
     },
     "execution_count": 113,
     "metadata": {},
     "output_type": "execute_result"
    }
   ],
   "source": [
    "#concateno las 2  primeras filas para obtener una fila mas larga\n",
    "np.concatenate((lending_co_data_numeric[0,:], lending_co_data_numeric[1,:]))"
   ]
  },
  {
   "cell_type": "code",
   "execution_count": 116,
   "id": "188574ef-71fb-4239-8218-3673289f25e7",
   "metadata": {},
   "outputs": [
    {
     "data": {
      "text/plain": [
       "array([[ 2000.  ,    40.  ,   365.  ,  3121.  ,  4241.  , 13621.  ],\n",
       "       [ 2000.  ,    40.  ,   365.  ,  3061.  ,  4171.  , 15041.  ],\n",
       "       [ 1000.  ,    40.  ,   365.  ,  2160.  ,  3280.  , 15340.  ],\n",
       "       ...,\n",
       "       [ 2250.25,    40.  ,   365.  ,  4201.  ,  5001.  , 16600.  ],\n",
       "       [ 1000.  ,    40.  ,   365.  ,  2080.  ,  3320.  , 15600.  ],\n",
       "       [ 2000.  ,    40.  ,   365.  ,  4601.  ,  4601.  , 16600.  ]])"
      ]
     },
     "execution_count": 116,
     "metadata": {},
     "output_type": "execute_result"
    }
   ],
   "source": [
    "#concatenando las 2 matrices. Es simililar al vstack()\n",
    "np.concatenate((lending_co_data_numeric,lending_co_data_numeric_NAN))"
   ]
  },
  {
   "cell_type": "code",
   "execution_count": 115,
   "id": "53fc1bfe-9632-47b3-b88b-82988cb5003f",
   "metadata": {},
   "outputs": [
    {
     "data": {
      "text/plain": [
       "(2086, 6)"
      ]
     },
     "execution_count": 115,
     "metadata": {},
     "output_type": "execute_result"
    }
   ],
   "source": [
    "np.concatenate((lending_co_data_numeric,lending_co_data_numeric_NAN)).shape"
   ]
  },
  {
   "cell_type": "code",
   "execution_count": 117,
   "id": "0c609cbb-40de-4560-88a6-a4789db388d7",
   "metadata": {},
   "outputs": [
    {
     "data": {
      "text/plain": [
       "array([[ 2000.,    40.,   365., ...,  3121.,  4241., 13621.],\n",
       "       [ 2000.,    40.,   365., ...,  3061.,  4171., 15041.],\n",
       "       [ 1000.,    40.,   365., ...,  2160.,  3280., 15340.],\n",
       "       ...,\n",
       "       [ 2000.,    40.,   365., ...,  4201.,  5001., 16600.],\n",
       "       [ 1000.,    40.,   365., ...,  2080.,  3320., 15600.],\n",
       "       [ 2000.,    40.,   365., ...,  4601.,  4601., 16600.]])"
      ]
     },
     "execution_count": 117,
     "metadata": {},
     "output_type": "execute_result"
    }
   ],
   "source": [
    "#concatenando las 2 matrices. Es simililar al hstack()\n",
    "np.concatenate((lending_co_data_numeric,lending_co_data_numeric_NAN), axis=1)"
   ]
  },
  {
   "cell_type": "code",
   "execution_count": 118,
   "id": "1ddbb9f0-16b7-4d8e-84b8-0986e526638e",
   "metadata": {},
   "outputs": [
    {
     "data": {
      "text/plain": [
       "(1043, 12)"
      ]
     },
     "execution_count": 118,
     "metadata": {},
     "output_type": "execute_result"
    }
   ],
   "source": [
    "np.concatenate((lending_co_data_numeric,lending_co_data_numeric_NAN), axis=1).shape"
   ]
  },
  {
   "cell_type": "code",
   "execution_count": 120,
   "id": "13c9476e-faa0-4c3c-a3d3-ec45b195b40b",
   "metadata": {},
   "outputs": [
    {
     "data": {
      "text/plain": [
       "array([2000.,   40.,  365., ..., 2000., 1000., 2000.])"
      ]
     },
     "execution_count": 120,
     "metadata": {},
     "output_type": "execute_result"
    }
   ],
   "source": [
    "#concateno dos 1D que tienen diferentes dimensiones. Una columna y una fila\n",
    "np.concatenate((lending_co_data_numeric[0,:], lending_co_data_numeric[:,0])) #No hay ningun problema"
   ]
  },
  {
   "cell_type": "markdown",
   "id": "4734479c-c5a3-4345-ae07-87b7d54ed736",
   "metadata": {},
   "source": [
    "        UNIQUE"
   ]
  },
  {
   "cell_type": "code",
   "execution_count": 126,
   "id": "a04d43ab-9a95-41e7-813c-92f7747b9e77",
   "metadata": {},
   "outputs": [
    {
     "data": {
      "text/plain": [
       "(array([ 35.,  40.,  50., 125., 165.]),\n",
       " array([327,   0,   4,  19,  27], dtype=int64),\n",
       " array([  4, 567, 451,  19,   2], dtype=int64))"
      ]
     },
     "execution_count": 126,
     "metadata": {},
     "output_type": "execute_result"
    }
   ],
   "source": [
    "#crea una matriz con todos los valores diferentes y los ordena en valor ascendente. Si son letras ordena de acuerdo a ASCII\n",
    "np.unique(lending_co_data_numeric[:,1], return_counts=True, return_index=True) \n",
    "                    #valores de la segunda columna ,index en donde esta el primer valor, cantidad que se repite cada valor"
   ]
  },
  {
   "cell_type": "code",
   "execution_count": null,
   "id": "594785f6-6b3c-44a0-a340-7c32b81fa5aa",
   "metadata": {},
   "outputs": [],
   "source": []
  }
 ],
 "metadata": {
  "kernelspec": {
   "display_name": "Python 3 (ipykernel)",
   "language": "python",
   "name": "python3"
  },
  "language_info": {
   "codemirror_mode": {
    "name": "ipython",
    "version": 3
   },
   "file_extension": ".py",
   "mimetype": "text/x-python",
   "name": "python",
   "nbconvert_exporter": "python",
   "pygments_lexer": "ipython3",
   "version": "3.11.7"
  }
 },
 "nbformat": 4,
 "nbformat_minor": 5
}
